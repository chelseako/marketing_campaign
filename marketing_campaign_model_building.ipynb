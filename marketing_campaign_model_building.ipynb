{
 "cells": [
  {
   "cell_type": "markdown",
   "metadata": {
    "id": "mcFzmN4m7yFK"
   },
   "source": [
    "# Model Building"
   ]
  },
  {
   "cell_type": "markdown",
   "metadata": {
    "id": "uuEkOhDu9TrZ"
   },
   "source": [
    "## Load necessary packages"
   ]
  },
  {
   "cell_type": "code",
   "execution_count": 1,
   "metadata": {
    "id": "bmo23EOGaHkz"
   },
   "outputs": [],
   "source": [
    "import numpy as np\n",
    "import pandas as pd\n",
    "import matplotlib.pyplot as plt\n",
    "import seaborn as sns\n",
    "import imblearn\n",
    "\n",
    "from sklearn import metrics\n",
    "from sklearn.svm import SVC\n",
    "from sklearn.metrics import accuracy_score, recall_score, precision_score, balanced_accuracy_score, f1_score, confusion_matrix\n",
    "from sklearn.model_selection import train_test_split, GridSearchCV, StratifiedKFold\n",
    "from sklearn.preprocessing import StandardScaler\n",
    "from sklearn.linear_model import LogisticRegression\n",
    "from sklearn.neighbors import KNeighborsClassifier\n",
    "from sklearn.tree import DecisionTreeClassifier\n",
    "from sklearn.ensemble import RandomForestClassifier, AdaBoostClassifier, GradientBoostingClassifier\n",
    "from imblearn.over_sampling import SMOTE \n",
    "from imblearn.under_sampling import RandomUnderSampler\n",
    "from imblearn.pipeline import Pipeline"
   ]
  },
  {
   "cell_type": "code",
   "execution_count": 2,
   "metadata": {
    "id": "mMxSpwvfErC_"
   },
   "outputs": [],
   "source": [
    "RANDOM_STATE=0\n",
    "pd.set_option('display.max_columns', 100)\n",
    "cv = StratifiedKFold(n_splits=10, shuffle=True, random_state=RANDOM_STATE)"
   ]
  },
  {
   "cell_type": "code",
   "execution_count": 3,
   "metadata": {
    "colab": {
     "base_uri": "https://localhost:8080/",
     "height": 357
    },
    "executionInfo": {
     "elapsed": 14,
     "status": "ok",
     "timestamp": 1647150231679,
     "user": {
      "displayName": "Ronaldlee Ejalu",
      "photoUrl": "https://lh3.googleusercontent.com/a-/AOh14Gi7xk3uTqSDq_yyGWoSsAw9V5JdwoAvamCudleogw=s64",
      "userId": "12494313714788869985"
     },
     "user_tz": 300
    },
    "id": "qNN9RoAPaNsU",
    "outputId": "f9b218f9-d83e-4991-c572-000b66d82d77"
   },
   "outputs": [
    {
     "data": {
      "text/html": [
       "<div>\n",
       "<style scoped>\n",
       "    .dataframe tbody tr th:only-of-type {\n",
       "        vertical-align: middle;\n",
       "    }\n",
       "\n",
       "    .dataframe tbody tr th {\n",
       "        vertical-align: top;\n",
       "    }\n",
       "\n",
       "    .dataframe thead th {\n",
       "        text-align: right;\n",
       "    }\n",
       "</style>\n",
       "<table border=\"1\" class=\"dataframe\">\n",
       "  <thead>\n",
       "    <tr style=\"text-align: right;\">\n",
       "      <th></th>\n",
       "      <th>Year_Birth</th>\n",
       "      <th>Education</th>\n",
       "      <th>Income</th>\n",
       "      <th>Recency</th>\n",
       "      <th>NumWebVisitsMonth</th>\n",
       "      <th>Complain</th>\n",
       "      <th>Response</th>\n",
       "      <th>RelStatus</th>\n",
       "      <th>amountSpent</th>\n",
       "      <th>numOfPurchases</th>\n",
       "      <th>numOfMinorsHome</th>\n",
       "      <th>prvAcceptedCampaigns</th>\n",
       "      <th>dateCust</th>\n",
       "      <th>dateCustYear</th>\n",
       "      <th>custAge</th>\n",
       "    </tr>\n",
       "  </thead>\n",
       "  <tbody>\n",
       "    <tr>\n",
       "      <th>0</th>\n",
       "      <td>1957</td>\n",
       "      <td>Graduation</td>\n",
       "      <td>58138.0</td>\n",
       "      <td>58</td>\n",
       "      <td>7</td>\n",
       "      <td>0</td>\n",
       "      <td>1</td>\n",
       "      <td>Single</td>\n",
       "      <td>1617</td>\n",
       "      <td>25</td>\n",
       "      <td>0</td>\n",
       "      <td>0</td>\n",
       "      <td>2012-09-04</td>\n",
       "      <td>2012</td>\n",
       "      <td>55</td>\n",
       "    </tr>\n",
       "    <tr>\n",
       "      <th>1</th>\n",
       "      <td>1954</td>\n",
       "      <td>Graduation</td>\n",
       "      <td>46344.0</td>\n",
       "      <td>38</td>\n",
       "      <td>5</td>\n",
       "      <td>0</td>\n",
       "      <td>0</td>\n",
       "      <td>Single</td>\n",
       "      <td>27</td>\n",
       "      <td>6</td>\n",
       "      <td>2</td>\n",
       "      <td>0</td>\n",
       "      <td>2014-03-08</td>\n",
       "      <td>2014</td>\n",
       "      <td>60</td>\n",
       "    </tr>\n",
       "    <tr>\n",
       "      <th>2</th>\n",
       "      <td>1965</td>\n",
       "      <td>Graduation</td>\n",
       "      <td>71613.0</td>\n",
       "      <td>26</td>\n",
       "      <td>4</td>\n",
       "      <td>0</td>\n",
       "      <td>0</td>\n",
       "      <td>Coupled</td>\n",
       "      <td>776</td>\n",
       "      <td>21</td>\n",
       "      <td>0</td>\n",
       "      <td>0</td>\n",
       "      <td>2013-08-21</td>\n",
       "      <td>2013</td>\n",
       "      <td>48</td>\n",
       "    </tr>\n",
       "    <tr>\n",
       "      <th>3</th>\n",
       "      <td>1984</td>\n",
       "      <td>Graduation</td>\n",
       "      <td>26646.0</td>\n",
       "      <td>26</td>\n",
       "      <td>6</td>\n",
       "      <td>0</td>\n",
       "      <td>0</td>\n",
       "      <td>Coupled</td>\n",
       "      <td>53</td>\n",
       "      <td>8</td>\n",
       "      <td>1</td>\n",
       "      <td>0</td>\n",
       "      <td>2014-02-10</td>\n",
       "      <td>2014</td>\n",
       "      <td>30</td>\n",
       "    </tr>\n",
       "    <tr>\n",
       "      <th>4</th>\n",
       "      <td>1981</td>\n",
       "      <td>PhD</td>\n",
       "      <td>58293.0</td>\n",
       "      <td>94</td>\n",
       "      <td>5</td>\n",
       "      <td>0</td>\n",
       "      <td>0</td>\n",
       "      <td>Coupled</td>\n",
       "      <td>422</td>\n",
       "      <td>19</td>\n",
       "      <td>1</td>\n",
       "      <td>0</td>\n",
       "      <td>2014-01-19</td>\n",
       "      <td>2014</td>\n",
       "      <td>33</td>\n",
       "    </tr>\n",
       "  </tbody>\n",
       "</table>\n",
       "</div>"
      ],
      "text/plain": [
       "   Year_Birth   Education   Income  Recency  NumWebVisitsMonth  Complain  \\\n",
       "0        1957  Graduation  58138.0       58                  7         0   \n",
       "1        1954  Graduation  46344.0       38                  5         0   \n",
       "2        1965  Graduation  71613.0       26                  4         0   \n",
       "3        1984  Graduation  26646.0       26                  6         0   \n",
       "4        1981         PhD  58293.0       94                  5         0   \n",
       "\n",
       "   Response RelStatus  amountSpent  numOfPurchases  numOfMinorsHome  \\\n",
       "0         1    Single         1617              25                0   \n",
       "1         0    Single           27               6                2   \n",
       "2         0   Coupled          776              21                0   \n",
       "3         0   Coupled           53               8                1   \n",
       "4         0   Coupled          422              19                1   \n",
       "\n",
       "   prvAcceptedCampaigns    dateCust  dateCustYear  custAge  \n",
       "0                     0  2012-09-04          2012       55  \n",
       "1                     0  2014-03-08          2014       60  \n",
       "2                     0  2013-08-21          2013       48  \n",
       "3                     0  2014-02-10          2014       30  \n",
       "4                     0  2014-01-19          2014       33  "
      ]
     },
     "execution_count": 3,
     "metadata": {},
     "output_type": "execute_result"
    }
   ],
   "source": [
    "# Load the data into a Pandas dataframe\n",
    "\n",
    "mdClean = pd.read_csv('mdClean.csv', sep=',', index_col=0)\n",
    "mdClean.head()"
   ]
  },
  {
   "cell_type": "code",
   "execution_count": 4,
   "metadata": {
    "colab": {
     "base_uri": "https://localhost:8080/"
    },
    "executionInfo": {
     "elapsed": 12,
     "status": "ok",
     "timestamp": 1647150231679,
     "user": {
      "displayName": "Ronaldlee Ejalu",
      "photoUrl": "https://lh3.googleusercontent.com/a-/AOh14Gi7xk3uTqSDq_yyGWoSsAw9V5JdwoAvamCudleogw=s64",
      "userId": "12494313714788869985"
     },
     "user_tz": 300
    },
    "id": "fueazFcGGXbj",
    "outputId": "25e0f997-c431-42df-b9f4-b0cbf3717877"
   },
   "outputs": [
    {
     "data": {
      "text/plain": [
       "(2235, 15)"
      ]
     },
     "execution_count": 4,
     "metadata": {},
     "output_type": "execute_result"
    }
   ],
   "source": [
    "mdClean.shape"
   ]
  },
  {
   "cell_type": "markdown",
   "metadata": {
    "id": "So7H7On473bA"
   },
   "source": [
    "## Data Preparation"
   ]
  },
  {
   "cell_type": "code",
   "execution_count": 5,
   "metadata": {
    "id": "unhdyHQNcjwD"
   },
   "outputs": [],
   "source": [
    "y = mdClean.Response\n",
    "X = mdClean.drop(['Response'], axis=1)\n",
    "cols = X.columns"
   ]
  },
  {
   "cell_type": "code",
   "execution_count": 6,
   "metadata": {
    "colab": {
     "base_uri": "https://localhost:8080/"
    },
    "executionInfo": {
     "elapsed": 7,
     "status": "ok",
     "timestamp": 1647150231679,
     "user": {
      "displayName": "Ronaldlee Ejalu",
      "photoUrl": "https://lh3.googleusercontent.com/a-/AOh14Gi7xk3uTqSDq_yyGWoSsAw9V5JdwoAvamCudleogw=s64",
      "userId": "12494313714788869985"
     },
     "user_tz": 300
    },
    "id": "QtCwiJErk_m3",
    "outputId": "08c379fc-1550-4bab-9e95-09c16d09fc6d"
   },
   "outputs": [
    {
     "name": "stdout",
     "output_type": "stream",
     "text": [
      "0       1\n",
      "1       0\n",
      "2       0\n",
      "3       0\n",
      "4       0\n",
      "       ..\n",
      "2235    0\n",
      "2236    0\n",
      "2237    0\n",
      "2238    0\n",
      "2239    1\n",
      "Name: Response, Length: 2235, dtype: int64\n",
      "332\n",
      "count    2235.000000\n",
      "mean        0.148546\n",
      "std         0.355720\n",
      "min         0.000000\n",
      "25%         0.000000\n",
      "50%         0.000000\n",
      "75%         0.000000\n",
      "max         1.000000\n",
      "Name: Response, dtype: float64\n"
     ]
    }
   ],
   "source": [
    "print(y)\n",
    "print(y.sum())\n",
    "print(y.describe())"
   ]
  },
  {
   "cell_type": "markdown",
   "metadata": {
    "id": "0ZenQi5nccMU"
   },
   "source": [
    "### Split into training, validation, and testing data"
   ]
  },
  {
   "cell_type": "code",
   "execution_count": 7,
   "metadata": {
    "id": "r1S2PUOWcQdN"
   },
   "outputs": [],
   "source": [
    "X_train, X_test, y_train, y_test = train_test_split(X, y, test_size=0.20, random_state=RANDOM_STATE)\n",
    "X_train, X_val, y_train, y_val = train_test_split(X_train, y_train, test_size=0.20, random_state=RANDOM_STATE)"
   ]
  },
  {
   "cell_type": "code",
   "execution_count": 8,
   "metadata": {
    "id": "LtL0B2d6mEnt"
   },
   "outputs": [],
   "source": [
    "# Convert y into int type\n",
    "y_train = y_train.astype('int')\n",
    "\n",
    "y_val = y_val.astype('int')\n",
    "\n",
    "y_test = y_test.astype('int')"
   ]
  },
  {
   "cell_type": "markdown",
   "metadata": {
    "id": "6UIU7Y-pdB_v"
   },
   "source": [
    "### Standardize training, validation, and testing X data\n",
    "\n",
    "Our descriptive statistics indicated our variables have varying ranges, so we standardized our data using scikit learn's Standard Scalar."
   ]
  },
  {
   "cell_type": "code",
   "execution_count": 9,
   "metadata": {
    "id": "yy_wSHg9b5e6"
   },
   "outputs": [],
   "source": [
    "# Create numeric datasets by dropping categorical variables\n",
    "\n",
    "X_train_ss = X_train.drop(columns=['Education', 'RelStatus', 'dateCust'])\n",
    "cols = X_train_ss.columns\n",
    "\n",
    "X_val_ss = X_val.drop(columns=['Education','dateCust', 'RelStatus'])\n",
    "\n",
    "X_test_ss = X_test.drop(columns=['Education','dateCust', 'RelStatus'])"
   ]
  },
  {
   "cell_type": "code",
   "execution_count": 10,
   "metadata": {
    "id": "Lj2Cwe4zduHM"
   },
   "outputs": [],
   "source": [
    "# Use standard scalar to standardize X data\n",
    "ss = StandardScaler()\n",
    "ss.fit(X_train_ss)\n",
    "\n",
    "X_train_ss = ss.transform(X_train_ss)\n",
    "X_val_ss = ss.transform(X_val_ss)\n",
    "X_test_ss = ss.transform(X_test_ss)"
   ]
  },
  {
   "cell_type": "code",
   "execution_count": 11,
   "metadata": {
    "colab": {
     "base_uri": "https://localhost:8080/",
     "height": 488
    },
    "executionInfo": {
     "elapsed": 8,
     "status": "ok",
     "timestamp": 1647150232004,
     "user": {
      "displayName": "Ronaldlee Ejalu",
      "photoUrl": "https://lh3.googleusercontent.com/a-/AOh14Gi7xk3uTqSDq_yyGWoSsAw9V5JdwoAvamCudleogw=s64",
      "userId": "12494313714788869985"
     },
     "user_tz": 300
    },
    "id": "viyHQRNBe7og",
    "outputId": "0805e675-0057-45c8-d09e-605f596c6dbd"
   },
   "outputs": [
    {
     "data": {
      "text/html": [
       "<div>\n",
       "<style scoped>\n",
       "    .dataframe tbody tr th:only-of-type {\n",
       "        vertical-align: middle;\n",
       "    }\n",
       "\n",
       "    .dataframe tbody tr th {\n",
       "        vertical-align: top;\n",
       "    }\n",
       "\n",
       "    .dataframe thead th {\n",
       "        text-align: right;\n",
       "    }\n",
       "</style>\n",
       "<table border=\"1\" class=\"dataframe\">\n",
       "  <thead>\n",
       "    <tr style=\"text-align: right;\">\n",
       "      <th></th>\n",
       "      <th>Year_Birth</th>\n",
       "      <th>Income</th>\n",
       "      <th>Recency</th>\n",
       "      <th>NumWebVisitsMonth</th>\n",
       "      <th>Complain</th>\n",
       "      <th>amountSpent</th>\n",
       "      <th>numOfPurchases</th>\n",
       "      <th>numOfMinorsHome</th>\n",
       "      <th>prvAcceptedCampaigns</th>\n",
       "      <th>dateCustYear</th>\n",
       "      <th>custAge</th>\n",
       "    </tr>\n",
       "  </thead>\n",
       "  <tbody>\n",
       "    <tr>\n",
       "      <th>0</th>\n",
       "      <td>0.197814</td>\n",
       "      <td>-0.465168</td>\n",
       "      <td>-1.066122</td>\n",
       "      <td>1.138337</td>\n",
       "      <td>-0.10296</td>\n",
       "      <td>-0.953389</td>\n",
       "      <td>-1.303463</td>\n",
       "      <td>0.053770</td>\n",
       "      <td>-0.444879</td>\n",
       "      <td>-0.025056</td>\n",
       "      <td>-0.198519</td>\n",
       "    </tr>\n",
       "    <tr>\n",
       "      <th>1</th>\n",
       "      <td>-1.123643</td>\n",
       "      <td>-0.636986</td>\n",
       "      <td>0.112398</td>\n",
       "      <td>-0.532938</td>\n",
       "      <td>-0.10296</td>\n",
       "      <td>-0.948441</td>\n",
       "      <td>-1.042057</td>\n",
       "      <td>1.379484</td>\n",
       "      <td>-0.444879</td>\n",
       "      <td>1.467865</td>\n",
       "      <td>1.200724</td>\n",
       "    </tr>\n",
       "    <tr>\n",
       "      <th>2</th>\n",
       "      <td>1.436681</td>\n",
       "      <td>1.269167</td>\n",
       "      <td>-1.655381</td>\n",
       "      <td>-1.368575</td>\n",
       "      <td>-0.10296</td>\n",
       "      <td>1.679341</td>\n",
       "      <td>0.918484</td>\n",
       "      <td>-1.271944</td>\n",
       "      <td>-0.444879</td>\n",
       "      <td>1.467865</td>\n",
       "      <td>-1.350836</td>\n",
       "    </tr>\n",
       "    <tr>\n",
       "      <th>3</th>\n",
       "      <td>-1.288825</td>\n",
       "      <td>0.176040</td>\n",
       "      <td>0.563009</td>\n",
       "      <td>-0.532938</td>\n",
       "      <td>-0.10296</td>\n",
       "      <td>0.066051</td>\n",
       "      <td>0.918484</td>\n",
       "      <td>0.053770</td>\n",
       "      <td>-0.444879</td>\n",
       "      <td>-0.025056</td>\n",
       "      <td>1.283032</td>\n",
       "    </tr>\n",
       "    <tr>\n",
       "      <th>4</th>\n",
       "      <td>-1.288825</td>\n",
       "      <td>1.522548</td>\n",
       "      <td>0.840307</td>\n",
       "      <td>-1.368575</td>\n",
       "      <td>-0.10296</td>\n",
       "      <td>0.666499</td>\n",
       "      <td>0.395673</td>\n",
       "      <td>-1.271944</td>\n",
       "      <td>3.912493</td>\n",
       "      <td>-0.025056</td>\n",
       "      <td>1.283032</td>\n",
       "    </tr>\n",
       "    <tr>\n",
       "      <th>...</th>\n",
       "      <td>...</td>\n",
       "      <td>...</td>\n",
       "      <td>...</td>\n",
       "      <td>...</td>\n",
       "      <td>...</td>\n",
       "      <td>...</td>\n",
       "      <td>...</td>\n",
       "      <td>...</td>\n",
       "      <td>...</td>\n",
       "      <td>...</td>\n",
       "      <td>...</td>\n",
       "    </tr>\n",
       "    <tr>\n",
       "      <th>1425</th>\n",
       "      <td>-0.710688</td>\n",
       "      <td>1.438368</td>\n",
       "      <td>1.533554</td>\n",
       "      <td>-0.950757</td>\n",
       "      <td>-0.10296</td>\n",
       "      <td>0.209565</td>\n",
       "      <td>0.526376</td>\n",
       "      <td>-1.271944</td>\n",
       "      <td>-0.444879</td>\n",
       "      <td>-1.517977</td>\n",
       "      <td>0.624565</td>\n",
       "    </tr>\n",
       "    <tr>\n",
       "      <th>1426</th>\n",
       "      <td>0.775952</td>\n",
       "      <td>-1.110581</td>\n",
       "      <td>-0.234225</td>\n",
       "      <td>0.302699</td>\n",
       "      <td>-0.10296</td>\n",
       "      <td>-0.894005</td>\n",
       "      <td>-0.780652</td>\n",
       "      <td>0.053770</td>\n",
       "      <td>-0.444879</td>\n",
       "      <td>1.467865</td>\n",
       "      <td>-0.692369</td>\n",
       "    </tr>\n",
       "    <tr>\n",
       "      <th>1427</th>\n",
       "      <td>0.197814</td>\n",
       "      <td>-0.144424</td>\n",
       "      <td>1.498892</td>\n",
       "      <td>0.720518</td>\n",
       "      <td>-0.10296</td>\n",
       "      <td>0.445455</td>\n",
       "      <td>1.310592</td>\n",
       "      <td>0.053770</td>\n",
       "      <td>-0.444879</td>\n",
       "      <td>-1.517977</td>\n",
       "      <td>-0.280827</td>\n",
       "    </tr>\n",
       "    <tr>\n",
       "      <th>1428</th>\n",
       "      <td>0.610770</td>\n",
       "      <td>-0.998231</td>\n",
       "      <td>1.186931</td>\n",
       "      <td>0.720518</td>\n",
       "      <td>-0.10296</td>\n",
       "      <td>-0.951740</td>\n",
       "      <td>-1.303463</td>\n",
       "      <td>0.053770</td>\n",
       "      <td>-0.444879</td>\n",
       "      <td>-0.025056</td>\n",
       "      <td>-0.610061</td>\n",
       "    </tr>\n",
       "    <tr>\n",
       "      <th>1429</th>\n",
       "      <td>-0.297732</td>\n",
       "      <td>1.070489</td>\n",
       "      <td>-1.620719</td>\n",
       "      <td>-0.115119</td>\n",
       "      <td>-0.10296</td>\n",
       "      <td>0.692892</td>\n",
       "      <td>1.049187</td>\n",
       "      <td>-1.271944</td>\n",
       "      <td>-0.444879</td>\n",
       "      <td>-1.517977</td>\n",
       "      <td>0.213023</td>\n",
       "    </tr>\n",
       "  </tbody>\n",
       "</table>\n",
       "<p>1430 rows × 11 columns</p>\n",
       "</div>"
      ],
      "text/plain": [
       "      Year_Birth    Income   Recency  NumWebVisitsMonth  Complain  \\\n",
       "0       0.197814 -0.465168 -1.066122           1.138337  -0.10296   \n",
       "1      -1.123643 -0.636986  0.112398          -0.532938  -0.10296   \n",
       "2       1.436681  1.269167 -1.655381          -1.368575  -0.10296   \n",
       "3      -1.288825  0.176040  0.563009          -0.532938  -0.10296   \n",
       "4      -1.288825  1.522548  0.840307          -1.368575  -0.10296   \n",
       "...          ...       ...       ...                ...       ...   \n",
       "1425   -0.710688  1.438368  1.533554          -0.950757  -0.10296   \n",
       "1426    0.775952 -1.110581 -0.234225           0.302699  -0.10296   \n",
       "1427    0.197814 -0.144424  1.498892           0.720518  -0.10296   \n",
       "1428    0.610770 -0.998231  1.186931           0.720518  -0.10296   \n",
       "1429   -0.297732  1.070489 -1.620719          -0.115119  -0.10296   \n",
       "\n",
       "      amountSpent  numOfPurchases  numOfMinorsHome  prvAcceptedCampaigns  \\\n",
       "0       -0.953389       -1.303463         0.053770             -0.444879   \n",
       "1       -0.948441       -1.042057         1.379484             -0.444879   \n",
       "2        1.679341        0.918484        -1.271944             -0.444879   \n",
       "3        0.066051        0.918484         0.053770             -0.444879   \n",
       "4        0.666499        0.395673        -1.271944              3.912493   \n",
       "...           ...             ...              ...                   ...   \n",
       "1425     0.209565        0.526376        -1.271944             -0.444879   \n",
       "1426    -0.894005       -0.780652         0.053770             -0.444879   \n",
       "1427     0.445455        1.310592         0.053770             -0.444879   \n",
       "1428    -0.951740       -1.303463         0.053770             -0.444879   \n",
       "1429     0.692892        1.049187        -1.271944             -0.444879   \n",
       "\n",
       "      dateCustYear   custAge  \n",
       "0        -0.025056 -0.198519  \n",
       "1         1.467865  1.200724  \n",
       "2         1.467865 -1.350836  \n",
       "3        -0.025056  1.283032  \n",
       "4        -0.025056  1.283032  \n",
       "...            ...       ...  \n",
       "1425     -1.517977  0.624565  \n",
       "1426      1.467865 -0.692369  \n",
       "1427     -1.517977 -0.280827  \n",
       "1428     -0.025056 -0.610061  \n",
       "1429     -1.517977  0.213023  \n",
       "\n",
       "[1430 rows x 11 columns]"
      ]
     },
     "execution_count": 11,
     "metadata": {},
     "output_type": "execute_result"
    }
   ],
   "source": [
    "# Convert back to pd.DataFrame\n",
    "\n",
    "X_train_ss = pd.DataFrame(X_train_ss, columns=cols)\n",
    "X_train_ss"
   ]
  },
  {
   "cell_type": "code",
   "execution_count": 12,
   "metadata": {
    "id": "EPqEAER5fYLR"
   },
   "outputs": [],
   "source": [
    "# Convert validation and testing back to pd.DataFrame\n",
    "X_val_ss = pd.DataFrame(X_val_ss, columns=cols)\n",
    "X_test_ss = pd.DataFrame(X_test_ss, columns=cols)"
   ]
  },
  {
   "cell_type": "code",
   "execution_count": 13,
   "metadata": {
    "id": "12ZiVioOd1R7"
   },
   "outputs": [],
   "source": [
    "# Add back in the categorical variables Education and RelStatus\n",
    "\n",
    "X_train_ss['Education'] = X_train['Education']\n",
    "X_train_ss['RelStatus'] = X_train['RelStatus']\n",
    "\n",
    "X_val_ss['Education'] = X_val['Education']\n",
    "X_val_ss['RelStatus'] = X_val['RelStatus']\n",
    "\n",
    "X_test_ss['Education'] = X_test['Education']\n",
    "X_test_ss['RelStatus'] = X_test['RelStatus']\n"
   ]
  },
  {
   "cell_type": "code",
   "execution_count": 14,
   "metadata": {
    "id": "ZGCN74W3i8T7"
   },
   "outputs": [],
   "source": [
    "# Get dummy variables for education and RelStatus\n",
    "Xtrain = pd.get_dummies(X_train_ss)\n",
    "\n",
    "Xval = pd.get_dummies(X_val_ss)\n",
    "\n",
    "Xtest = pd.get_dummies(X_test_ss)"
   ]
  },
  {
   "cell_type": "code",
   "execution_count": 15,
   "metadata": {
    "colab": {
     "base_uri": "https://localhost:8080/",
     "height": 288
    },
    "executionInfo": {
     "elapsed": 7,
     "status": "ok",
     "timestamp": 1647150232005,
     "user": {
      "displayName": "Ronaldlee Ejalu",
      "photoUrl": "https://lh3.googleusercontent.com/a-/AOh14Gi7xk3uTqSDq_yyGWoSsAw9V5JdwoAvamCudleogw=s64",
      "userId": "12494313714788869985"
     },
     "user_tz": 300
    },
    "id": "cI5JxOyHvDEv",
    "outputId": "481c09bf-1b5c-42b6-b700-05ec552f7009"
   },
   "outputs": [
    {
     "data": {
      "text/html": [
       "<div>\n",
       "<style scoped>\n",
       "    .dataframe tbody tr th:only-of-type {\n",
       "        vertical-align: middle;\n",
       "    }\n",
       "\n",
       "    .dataframe tbody tr th {\n",
       "        vertical-align: top;\n",
       "    }\n",
       "\n",
       "    .dataframe thead th {\n",
       "        text-align: right;\n",
       "    }\n",
       "</style>\n",
       "<table border=\"1\" class=\"dataframe\">\n",
       "  <thead>\n",
       "    <tr style=\"text-align: right;\">\n",
       "      <th></th>\n",
       "      <th>Year_Birth</th>\n",
       "      <th>Income</th>\n",
       "      <th>Recency</th>\n",
       "      <th>NumWebVisitsMonth</th>\n",
       "      <th>Complain</th>\n",
       "      <th>amountSpent</th>\n",
       "      <th>numOfPurchases</th>\n",
       "      <th>numOfMinorsHome</th>\n",
       "      <th>prvAcceptedCampaigns</th>\n",
       "      <th>dateCustYear</th>\n",
       "      <th>custAge</th>\n",
       "      <th>Education_2n Cycle</th>\n",
       "      <th>Education_Basic</th>\n",
       "      <th>Education_Graduation</th>\n",
       "      <th>Education_Master</th>\n",
       "      <th>Education_PhD</th>\n",
       "      <th>RelStatus_Coupled</th>\n",
       "      <th>RelStatus_Single</th>\n",
       "    </tr>\n",
       "  </thead>\n",
       "  <tbody>\n",
       "    <tr>\n",
       "      <th>0</th>\n",
       "      <td>0.197814</td>\n",
       "      <td>-0.465168</td>\n",
       "      <td>-1.066122</td>\n",
       "      <td>1.138337</td>\n",
       "      <td>-0.10296</td>\n",
       "      <td>-0.953389</td>\n",
       "      <td>-1.303463</td>\n",
       "      <td>0.053770</td>\n",
       "      <td>-0.444879</td>\n",
       "      <td>-0.025056</td>\n",
       "      <td>-0.198519</td>\n",
       "      <td>0</td>\n",
       "      <td>0</td>\n",
       "      <td>1</td>\n",
       "      <td>0</td>\n",
       "      <td>0</td>\n",
       "      <td>0</td>\n",
       "      <td>1</td>\n",
       "    </tr>\n",
       "    <tr>\n",
       "      <th>1</th>\n",
       "      <td>-1.123643</td>\n",
       "      <td>-0.636986</td>\n",
       "      <td>0.112398</td>\n",
       "      <td>-0.532938</td>\n",
       "      <td>-0.10296</td>\n",
       "      <td>-0.948441</td>\n",
       "      <td>-1.042057</td>\n",
       "      <td>1.379484</td>\n",
       "      <td>-0.444879</td>\n",
       "      <td>1.467865</td>\n",
       "      <td>1.200724</td>\n",
       "      <td>0</td>\n",
       "      <td>0</td>\n",
       "      <td>1</td>\n",
       "      <td>0</td>\n",
       "      <td>0</td>\n",
       "      <td>0</td>\n",
       "      <td>1</td>\n",
       "    </tr>\n",
       "    <tr>\n",
       "      <th>2</th>\n",
       "      <td>1.436681</td>\n",
       "      <td>1.269167</td>\n",
       "      <td>-1.655381</td>\n",
       "      <td>-1.368575</td>\n",
       "      <td>-0.10296</td>\n",
       "      <td>1.679341</td>\n",
       "      <td>0.918484</td>\n",
       "      <td>-1.271944</td>\n",
       "      <td>-0.444879</td>\n",
       "      <td>1.467865</td>\n",
       "      <td>-1.350836</td>\n",
       "      <td>0</td>\n",
       "      <td>0</td>\n",
       "      <td>1</td>\n",
       "      <td>0</td>\n",
       "      <td>0</td>\n",
       "      <td>1</td>\n",
       "      <td>0</td>\n",
       "    </tr>\n",
       "    <tr>\n",
       "      <th>3</th>\n",
       "      <td>-1.288825</td>\n",
       "      <td>0.176040</td>\n",
       "      <td>0.563009</td>\n",
       "      <td>-0.532938</td>\n",
       "      <td>-0.10296</td>\n",
       "      <td>0.066051</td>\n",
       "      <td>0.918484</td>\n",
       "      <td>0.053770</td>\n",
       "      <td>-0.444879</td>\n",
       "      <td>-0.025056</td>\n",
       "      <td>1.283032</td>\n",
       "      <td>0</td>\n",
       "      <td>0</td>\n",
       "      <td>1</td>\n",
       "      <td>0</td>\n",
       "      <td>0</td>\n",
       "      <td>1</td>\n",
       "      <td>0</td>\n",
       "    </tr>\n",
       "    <tr>\n",
       "      <th>4</th>\n",
       "      <td>-1.288825</td>\n",
       "      <td>1.522548</td>\n",
       "      <td>0.840307</td>\n",
       "      <td>-1.368575</td>\n",
       "      <td>-0.10296</td>\n",
       "      <td>0.666499</td>\n",
       "      <td>0.395673</td>\n",
       "      <td>-1.271944</td>\n",
       "      <td>3.912493</td>\n",
       "      <td>-0.025056</td>\n",
       "      <td>1.283032</td>\n",
       "      <td>0</td>\n",
       "      <td>0</td>\n",
       "      <td>0</td>\n",
       "      <td>0</td>\n",
       "      <td>1</td>\n",
       "      <td>1</td>\n",
       "      <td>0</td>\n",
       "    </tr>\n",
       "  </tbody>\n",
       "</table>\n",
       "</div>"
      ],
      "text/plain": [
       "   Year_Birth    Income   Recency  NumWebVisitsMonth  Complain  amountSpent  \\\n",
       "0    0.197814 -0.465168 -1.066122           1.138337  -0.10296    -0.953389   \n",
       "1   -1.123643 -0.636986  0.112398          -0.532938  -0.10296    -0.948441   \n",
       "2    1.436681  1.269167 -1.655381          -1.368575  -0.10296     1.679341   \n",
       "3   -1.288825  0.176040  0.563009          -0.532938  -0.10296     0.066051   \n",
       "4   -1.288825  1.522548  0.840307          -1.368575  -0.10296     0.666499   \n",
       "\n",
       "   numOfPurchases  numOfMinorsHome  prvAcceptedCampaigns  dateCustYear  \\\n",
       "0       -1.303463         0.053770             -0.444879     -0.025056   \n",
       "1       -1.042057         1.379484             -0.444879      1.467865   \n",
       "2        0.918484        -1.271944             -0.444879      1.467865   \n",
       "3        0.918484         0.053770             -0.444879     -0.025056   \n",
       "4        0.395673        -1.271944              3.912493     -0.025056   \n",
       "\n",
       "    custAge  Education_2n Cycle  Education_Basic  Education_Graduation  \\\n",
       "0 -0.198519                   0                0                     1   \n",
       "1  1.200724                   0                0                     1   \n",
       "2 -1.350836                   0                0                     1   \n",
       "3  1.283032                   0                0                     1   \n",
       "4  1.283032                   0                0                     0   \n",
       "\n",
       "   Education_Master  Education_PhD  RelStatus_Coupled  RelStatus_Single  \n",
       "0                 0              0                  0                 1  \n",
       "1                 0              0                  0                 1  \n",
       "2                 0              0                  1                 0  \n",
       "3                 0              0                  1                 0  \n",
       "4                 0              1                  1                 0  "
      ]
     },
     "execution_count": 15,
     "metadata": {},
     "output_type": "execute_result"
    }
   ],
   "source": [
    "Xtrain.head() # display the top 5 records"
   ]
  },
  {
   "cell_type": "code",
   "execution_count": 16,
   "metadata": {
    "colab": {
     "base_uri": "https://localhost:8080/",
     "height": 288
    },
    "executionInfo": {
     "elapsed": 9,
     "status": "ok",
     "timestamp": 1647150233471,
     "user": {
      "displayName": "Ronaldlee Ejalu",
      "photoUrl": "https://lh3.googleusercontent.com/a-/AOh14Gi7xk3uTqSDq_yyGWoSsAw9V5JdwoAvamCudleogw=s64",
      "userId": "12494313714788869985"
     },
     "user_tz": 300
    },
    "id": "9rIoJBM-vRUt",
    "outputId": "44878487-dd21-4a19-ac80-77b5e27e2a09"
   },
   "outputs": [
    {
     "data": {
      "text/html": [
       "<div>\n",
       "<style scoped>\n",
       "    .dataframe tbody tr th:only-of-type {\n",
       "        vertical-align: middle;\n",
       "    }\n",
       "\n",
       "    .dataframe tbody tr th {\n",
       "        vertical-align: top;\n",
       "    }\n",
       "\n",
       "    .dataframe thead th {\n",
       "        text-align: right;\n",
       "    }\n",
       "</style>\n",
       "<table border=\"1\" class=\"dataframe\">\n",
       "  <thead>\n",
       "    <tr style=\"text-align: right;\">\n",
       "      <th></th>\n",
       "      <th>Year_Birth</th>\n",
       "      <th>Income</th>\n",
       "      <th>Recency</th>\n",
       "      <th>NumWebVisitsMonth</th>\n",
       "      <th>Complain</th>\n",
       "      <th>amountSpent</th>\n",
       "      <th>numOfPurchases</th>\n",
       "      <th>numOfMinorsHome</th>\n",
       "      <th>prvAcceptedCampaigns</th>\n",
       "      <th>dateCustYear</th>\n",
       "      <th>custAge</th>\n",
       "      <th>Education_2n Cycle</th>\n",
       "      <th>Education_Basic</th>\n",
       "      <th>Education_Graduation</th>\n",
       "      <th>Education_Master</th>\n",
       "      <th>Education_PhD</th>\n",
       "      <th>RelStatus_Coupled</th>\n",
       "      <th>RelStatus_Single</th>\n",
       "    </tr>\n",
       "  </thead>\n",
       "  <tbody>\n",
       "    <tr>\n",
       "      <th>0</th>\n",
       "      <td>0.032632</td>\n",
       "      <td>0.763058</td>\n",
       "      <td>-1.586057</td>\n",
       "      <td>-1.368575</td>\n",
       "      <td>-0.10296</td>\n",
       "      <td>0.777020</td>\n",
       "      <td>0.134267</td>\n",
       "      <td>-1.271944</td>\n",
       "      <td>-0.444879</td>\n",
       "      <td>1.467865</td>\n",
       "      <td>0.048407</td>\n",
       "      <td>0</td>\n",
       "      <td>0</td>\n",
       "      <td>0</td>\n",
       "      <td>0</td>\n",
       "      <td>0</td>\n",
       "      <td>0</td>\n",
       "      <td>0</td>\n",
       "    </tr>\n",
       "    <tr>\n",
       "      <th>1</th>\n",
       "      <td>0.445588</td>\n",
       "      <td>-1.254369</td>\n",
       "      <td>-1.170109</td>\n",
       "      <td>1.556155</td>\n",
       "      <td>-0.10296</td>\n",
       "      <td>-0.856064</td>\n",
       "      <td>-0.780652</td>\n",
       "      <td>0.053770</td>\n",
       "      <td>-0.444879</td>\n",
       "      <td>-1.517977</td>\n",
       "      <td>-0.527752</td>\n",
       "      <td>0</td>\n",
       "      <td>0</td>\n",
       "      <td>0</td>\n",
       "      <td>0</td>\n",
       "      <td>0</td>\n",
       "      <td>0</td>\n",
       "      <td>0</td>\n",
       "    </tr>\n",
       "    <tr>\n",
       "      <th>2</th>\n",
       "      <td>0.445588</td>\n",
       "      <td>-0.615263</td>\n",
       "      <td>1.464229</td>\n",
       "      <td>-0.115119</td>\n",
       "      <td>-0.10296</td>\n",
       "      <td>-0.803278</td>\n",
       "      <td>-0.780652</td>\n",
       "      <td>0.053770</td>\n",
       "      <td>-0.444879</td>\n",
       "      <td>1.467865</td>\n",
       "      <td>-0.363135</td>\n",
       "      <td>0</td>\n",
       "      <td>0</td>\n",
       "      <td>0</td>\n",
       "      <td>0</td>\n",
       "      <td>0</td>\n",
       "      <td>0</td>\n",
       "      <td>0</td>\n",
       "    </tr>\n",
       "    <tr>\n",
       "      <th>3</th>\n",
       "      <td>-0.215141</td>\n",
       "      <td>-0.682159</td>\n",
       "      <td>0.008411</td>\n",
       "      <td>1.138337</td>\n",
       "      <td>-0.10296</td>\n",
       "      <td>-0.956689</td>\n",
       "      <td>-1.172760</td>\n",
       "      <td>1.379484</td>\n",
       "      <td>-0.444879</td>\n",
       "      <td>-1.517977</td>\n",
       "      <td>0.130715</td>\n",
       "      <td>0</td>\n",
       "      <td>0</td>\n",
       "      <td>0</td>\n",
       "      <td>0</td>\n",
       "      <td>0</td>\n",
       "      <td>0</td>\n",
       "      <td>0</td>\n",
       "    </tr>\n",
       "    <tr>\n",
       "      <th>4</th>\n",
       "      <td>-1.123643</td>\n",
       "      <td>1.402538</td>\n",
       "      <td>0.216385</td>\n",
       "      <td>-1.786394</td>\n",
       "      <td>-0.10296</td>\n",
       "      <td>2.205557</td>\n",
       "      <td>1.571998</td>\n",
       "      <td>-1.271944</td>\n",
       "      <td>1.007579</td>\n",
       "      <td>-1.517977</td>\n",
       "      <td>1.036107</td>\n",
       "      <td>0</td>\n",
       "      <td>0</td>\n",
       "      <td>0</td>\n",
       "      <td>0</td>\n",
       "      <td>0</td>\n",
       "      <td>0</td>\n",
       "      <td>0</td>\n",
       "    </tr>\n",
       "  </tbody>\n",
       "</table>\n",
       "</div>"
      ],
      "text/plain": [
       "   Year_Birth    Income   Recency  NumWebVisitsMonth  Complain  amountSpent  \\\n",
       "0    0.032632  0.763058 -1.586057          -1.368575  -0.10296     0.777020   \n",
       "1    0.445588 -1.254369 -1.170109           1.556155  -0.10296    -0.856064   \n",
       "2    0.445588 -0.615263  1.464229          -0.115119  -0.10296    -0.803278   \n",
       "3   -0.215141 -0.682159  0.008411           1.138337  -0.10296    -0.956689   \n",
       "4   -1.123643  1.402538  0.216385          -1.786394  -0.10296     2.205557   \n",
       "\n",
       "   numOfPurchases  numOfMinorsHome  prvAcceptedCampaigns  dateCustYear  \\\n",
       "0        0.134267        -1.271944             -0.444879      1.467865   \n",
       "1       -0.780652         0.053770             -0.444879     -1.517977   \n",
       "2       -0.780652         0.053770             -0.444879      1.467865   \n",
       "3       -1.172760         1.379484             -0.444879     -1.517977   \n",
       "4        1.571998        -1.271944              1.007579     -1.517977   \n",
       "\n",
       "    custAge  Education_2n Cycle  Education_Basic  Education_Graduation  \\\n",
       "0  0.048407                   0                0                     0   \n",
       "1 -0.527752                   0                0                     0   \n",
       "2 -0.363135                   0                0                     0   \n",
       "3  0.130715                   0                0                     0   \n",
       "4  1.036107                   0                0                     0   \n",
       "\n",
       "   Education_Master  Education_PhD  RelStatus_Coupled  RelStatus_Single  \n",
       "0                 0              0                  0                 0  \n",
       "1                 0              0                  0                 0  \n",
       "2                 0              0                  0                 0  \n",
       "3                 0              0                  0                 0  \n",
       "4                 0              0                  0                 0  "
      ]
     },
     "execution_count": 16,
     "metadata": {},
     "output_type": "execute_result"
    }
   ],
   "source": [
    "Xval.head() # display the top 5 records"
   ]
  },
  {
   "cell_type": "code",
   "execution_count": 17,
   "metadata": {
    "colab": {
     "base_uri": "https://localhost:8080/",
     "height": 288
    },
    "executionInfo": {
     "elapsed": 8,
     "status": "ok",
     "timestamp": 1647150233471,
     "user": {
      "displayName": "Ronaldlee Ejalu",
      "photoUrl": "https://lh3.googleusercontent.com/a-/AOh14Gi7xk3uTqSDq_yyGWoSsAw9V5JdwoAvamCudleogw=s64",
      "userId": "12494313714788869985"
     },
     "user_tz": 300
    },
    "id": "jvLMrjlkvZDn",
    "outputId": "29549518-5dbe-4367-da7c-5ad000200374"
   },
   "outputs": [
    {
     "data": {
      "text/html": [
       "<div>\n",
       "<style scoped>\n",
       "    .dataframe tbody tr th:only-of-type {\n",
       "        vertical-align: middle;\n",
       "    }\n",
       "\n",
       "    .dataframe tbody tr th {\n",
       "        vertical-align: top;\n",
       "    }\n",
       "\n",
       "    .dataframe thead th {\n",
       "        text-align: right;\n",
       "    }\n",
       "</style>\n",
       "<table border=\"1\" class=\"dataframe\">\n",
       "  <thead>\n",
       "    <tr style=\"text-align: right;\">\n",
       "      <th></th>\n",
       "      <th>Year_Birth</th>\n",
       "      <th>Income</th>\n",
       "      <th>Recency</th>\n",
       "      <th>NumWebVisitsMonth</th>\n",
       "      <th>Complain</th>\n",
       "      <th>amountSpent</th>\n",
       "      <th>numOfPurchases</th>\n",
       "      <th>numOfMinorsHome</th>\n",
       "      <th>prvAcceptedCampaigns</th>\n",
       "      <th>dateCustYear</th>\n",
       "      <th>custAge</th>\n",
       "      <th>Education_2n Cycle</th>\n",
       "      <th>Education_Basic</th>\n",
       "      <th>Education_Graduation</th>\n",
       "      <th>Education_Master</th>\n",
       "      <th>Education_PhD</th>\n",
       "      <th>RelStatus_Coupled</th>\n",
       "      <th>RelStatus_Single</th>\n",
       "    </tr>\n",
       "  </thead>\n",
       "  <tbody>\n",
       "    <tr>\n",
       "      <th>0</th>\n",
       "      <td>-0.132550</td>\n",
       "      <td>0.496130</td>\n",
       "      <td>-0.962134</td>\n",
       "      <td>-0.950757</td>\n",
       "      <td>-0.10296</td>\n",
       "      <td>1.422006</td>\n",
       "      <td>1.049187</td>\n",
       "      <td>-1.271944</td>\n",
       "      <td>1.007579</td>\n",
       "      <td>-0.025056</td>\n",
       "      <td>0.130715</td>\n",
       "      <td>0</td>\n",
       "      <td>0</td>\n",
       "      <td>0</td>\n",
       "      <td>0</td>\n",
       "      <td>0</td>\n",
       "      <td>0</td>\n",
       "      <td>0</td>\n",
       "    </tr>\n",
       "    <tr>\n",
       "      <th>1</th>\n",
       "      <td>0.362997</td>\n",
       "      <td>0.876716</td>\n",
       "      <td>1.082944</td>\n",
       "      <td>0.720518</td>\n",
       "      <td>-0.10296</td>\n",
       "      <td>1.641401</td>\n",
       "      <td>1.571998</td>\n",
       "      <td>0.053770</td>\n",
       "      <td>-0.444879</td>\n",
       "      <td>-1.517977</td>\n",
       "      <td>-0.445444</td>\n",
       "      <td>0</td>\n",
       "      <td>0</td>\n",
       "      <td>0</td>\n",
       "      <td>0</td>\n",
       "      <td>0</td>\n",
       "      <td>0</td>\n",
       "      <td>0</td>\n",
       "    </tr>\n",
       "    <tr>\n",
       "      <th>2</th>\n",
       "      <td>-2.114736</td>\n",
       "      <td>-0.159420</td>\n",
       "      <td>0.147060</td>\n",
       "      <td>0.302699</td>\n",
       "      <td>-0.10296</td>\n",
       "      <td>0.465250</td>\n",
       "      <td>1.179889</td>\n",
       "      <td>-1.271944</td>\n",
       "      <td>1.007579</td>\n",
       "      <td>-0.025056</td>\n",
       "      <td>2.106116</td>\n",
       "      <td>0</td>\n",
       "      <td>0</td>\n",
       "      <td>0</td>\n",
       "      <td>0</td>\n",
       "      <td>0</td>\n",
       "      <td>0</td>\n",
       "      <td>0</td>\n",
       "    </tr>\n",
       "    <tr>\n",
       "      <th>3</th>\n",
       "      <td>1.023725</td>\n",
       "      <td>-0.808599</td>\n",
       "      <td>1.152268</td>\n",
       "      <td>0.302699</td>\n",
       "      <td>-0.10296</td>\n",
       "      <td>-0.945142</td>\n",
       "      <td>-0.911355</td>\n",
       "      <td>0.053770</td>\n",
       "      <td>-0.444879</td>\n",
       "      <td>-0.025056</td>\n",
       "      <td>-1.021602</td>\n",
       "      <td>0</td>\n",
       "      <td>0</td>\n",
       "      <td>0</td>\n",
       "      <td>0</td>\n",
       "      <td>0</td>\n",
       "      <td>0</td>\n",
       "      <td>0</td>\n",
       "    </tr>\n",
       "    <tr>\n",
       "      <th>4</th>\n",
       "      <td>-0.380323</td>\n",
       "      <td>0.745353</td>\n",
       "      <td>0.181723</td>\n",
       "      <td>0.302699</td>\n",
       "      <td>-0.10296</td>\n",
       "      <td>0.974970</td>\n",
       "      <td>2.225511</td>\n",
       "      <td>0.053770</td>\n",
       "      <td>-0.444879</td>\n",
       "      <td>-1.517977</td>\n",
       "      <td>0.295332</td>\n",
       "      <td>0</td>\n",
       "      <td>0</td>\n",
       "      <td>0</td>\n",
       "      <td>0</td>\n",
       "      <td>0</td>\n",
       "      <td>0</td>\n",
       "      <td>0</td>\n",
       "    </tr>\n",
       "  </tbody>\n",
       "</table>\n",
       "</div>"
      ],
      "text/plain": [
       "   Year_Birth    Income   Recency  NumWebVisitsMonth  Complain  amountSpent  \\\n",
       "0   -0.132550  0.496130 -0.962134          -0.950757  -0.10296     1.422006   \n",
       "1    0.362997  0.876716  1.082944           0.720518  -0.10296     1.641401   \n",
       "2   -2.114736 -0.159420  0.147060           0.302699  -0.10296     0.465250   \n",
       "3    1.023725 -0.808599  1.152268           0.302699  -0.10296    -0.945142   \n",
       "4   -0.380323  0.745353  0.181723           0.302699  -0.10296     0.974970   \n",
       "\n",
       "   numOfPurchases  numOfMinorsHome  prvAcceptedCampaigns  dateCustYear  \\\n",
       "0        1.049187        -1.271944              1.007579     -0.025056   \n",
       "1        1.571998         0.053770             -0.444879     -1.517977   \n",
       "2        1.179889        -1.271944              1.007579     -0.025056   \n",
       "3       -0.911355         0.053770             -0.444879     -0.025056   \n",
       "4        2.225511         0.053770             -0.444879     -1.517977   \n",
       "\n",
       "    custAge  Education_2n Cycle  Education_Basic  Education_Graduation  \\\n",
       "0  0.130715                   0                0                     0   \n",
       "1 -0.445444                   0                0                     0   \n",
       "2  2.106116                   0                0                     0   \n",
       "3 -1.021602                   0                0                     0   \n",
       "4  0.295332                   0                0                     0   \n",
       "\n",
       "   Education_Master  Education_PhD  RelStatus_Coupled  RelStatus_Single  \n",
       "0                 0              0                  0                 0  \n",
       "1                 0              0                  0                 0  \n",
       "2                 0              0                  0                 0  \n",
       "3                 0              0                  0                 0  \n",
       "4                 0              0                  0                 0  "
      ]
     },
     "execution_count": 17,
     "metadata": {},
     "output_type": "execute_result"
    }
   ],
   "source": [
    "Xtest.head() # display the top 5 records"
   ]
  },
  {
   "cell_type": "markdown",
   "metadata": {
    "id": "aVhF5VGe7uqN"
   },
   "source": [
    "## Helper Functions"
   ]
  },
  {
   "cell_type": "code",
   "execution_count": 18,
   "metadata": {
    "id": "BLOPn9Sh_QWJ"
   },
   "outputs": [],
   "source": [
    "def deriveConfusionMatrix(y_val_cat, val_pred):\n",
    "    \"\"\"\n",
    "    A function that the utilizes the confusion matrix to calculate and print \n",
    "    the following metrics: Recall(Sensitivity), Specificity, Precision, Balanced Accuracy, and F1-Score \n",
    "    and displays the confusion matrix \"\"\"\n",
    "    \n",
    "    print('\\nThe Confusion Matrix is given below:')\n",
    "    # create a confusion matrix\n",
    "    metrics.ConfusionMatrixDisplay.from_predictions(y_true=y_val_cat, y_pred=val_pred) \n",
    "    plt.grid(False)\n",
    "    plt.show()\n",
    "\n",
    "    # Calculate Recall(Sensitivity), Specificity, Precision, Balanced Accuracy, F1-Score, and Profit\n",
    "    TN, FP, FN, TP = metrics.confusion_matrix(y_true=y_val_cat, y_pred=val_pred).ravel() # return the elements of the matrix as array\n",
    "\n",
    "    profit = (TP * 11) - (FP * 3) - (FN * 11)\n",
    "\n",
    "    Specificity = round(TN/(TN+FP),2)\n",
    "\n",
    "    Precision = round(TP/(TP+FP),2)\n",
    "\n",
    "    Recall = round(TP/(TP+FN),2)\n",
    "\n",
    "    F1Score = round(2 * ((Precision * Recall)/(Precision + Recall)),2)\n",
    "\n",
    "    BalancedAccuracy = round(((Recall + Specificity)/2),2)\n",
    "\n",
    "    print('Recall (Sensivity): %s' %(str(Recall)))\n",
    "    print('Specificity: %s' %(str(Specificity)))\n",
    "    print('Precision: %s' %(str(Precision)))\n",
    "    print('Balanced Accuracy: %s' %(str(BalancedAccuracy)))\n",
    "    print('F1 Score: %s' %(str(F1Score)))\n",
    "    print('Profit: %s' %(str(profit)))\n",
    "    \n",
    "    return Recall, Specificity, Precision, BalancedAccuracy, F1Score, profit\n",
    "    "
   ]
  },
  {
   "cell_type": "code",
   "execution_count": 19,
   "metadata": {
    "id": "XX84bnwAc2xP"
   },
   "outputs": [],
   "source": [
    "def print_results(results):\n",
    "    \"\"\"Function that prints the best GridSearchCV parameters\"\"\"\n",
    "    print('BEST PARAMS: {}\\n'.format(results.best_params_))\n",
    "    return None"
   ]
  },
  {
   "cell_type": "code",
   "execution_count": 20,
   "metadata": {
    "id": "UW4ZA9mlaoUn"
   },
   "outputs": [],
   "source": [
    "def score_keeper(model, xTrain, yTrain, xVal, yVal, scoreDF):\n",
    "    '''Takes in classification model, fits model, predicts training and validation data, \n",
    "    saves training accuracy, validation accuracy, recall, specificity, precision,\n",
    "    balanced accuracy, and F1 score in dataframe.'''\n",
    "    \n",
    "    model.fit(xTrain, yTrain)  # Fit on training\n",
    "    pred_train = model.predict(xTrain)\n",
    "    pred_val = model.predict(xVal)\n",
    "\n",
    "    trainAcc = round((accuracy_score(yTrain, pred_train)),2)\n",
    "    print('\\nTraining accuracy:', trainAcc)\n",
    "    valAcc = round((accuracy_score(yVal, pred_val)),2)\n",
    "    print('Validation accuracy:', valAcc)\n",
    "    accDiff = trainAcc - valAcc\n",
    "    \n",
    "    # Get evaluation metrics\n",
    "    recall, spec, precision, balAcc, F1, profit = deriveConfusionMatrix(yVal, pred_val)\n",
    "    \n",
    "    df = pd.DataFrame([[str(model), trainAcc, valAcc, accDiff, recall, spec, precision, balAcc, F1, profit]], \n",
    "                      columns=['model','train acc.', 'val acc.', 'acc. diff.', 'recall', 'specificity',\n",
    "                               'precision', 'bal acc.', 'F1', 'profit']) \n",
    "    \n",
    "    scoreDF = scoreDF.append(df, ignore_index=True)\n",
    "    \n",
    "    return scoreDF"
   ]
  },
  {
   "cell_type": "code",
   "execution_count": 21,
   "metadata": {
    "id": "Hle3lAHsctTZ"
   },
   "outputs": [],
   "source": [
    "def classGridSearchCV(dataframe, model, parameters, X_train, y_train, X_val, y_val, score_v, scoreDF):\n",
    "    \"\"\"Function that takes GridSearchCV parameters, which are used to initialize a GridSearchCV object and fits the training data to \n",
    "    find the best parameters and uses the best model found to derive the model metrics which are stored into a data frame\n",
    "    \"\"\"\n",
    "\n",
    "    # perform a grid Search\n",
    "    gs = GridSearchCV(model, parameters, scoring=score_v, cv=cv, n_jobs=-1)\n",
    "\n",
    "    # fit the object with the training data.\n",
    "    gs.fit(X_train, y_train)\n",
    "\n",
    "    print_results(gs)\n",
    "    print('\\n')\n",
    "\n",
    "    # output the model's prediction on the training set\n",
    "    y_train_pred_gs = gs.best_estimator_.predict(X_train)\n",
    "\n",
    "    # output the model's prediction on the validation data\n",
    "    y_val_pred_gs = gs.best_estimator_.predict(X_val)\n",
    "\n",
    "    trainAcc = round((metrics.accuracy_score(y_true=y_train, y_pred=y_train_pred_gs)),2)\n",
    "    valAcc = round((metrics.accuracy_score(y_true=y_val, y_pred=y_val_pred_gs)),2)\n",
    "    \n",
    "    accDiff = trainAcc - valAcc\n",
    "\n",
    "    print(\"The model's accuracy on training is : %s\" %str(trainAcc))\n",
    "    print(\"The model's accuracy on validation is : %s\" %str(valAcc))\n",
    "\n",
    "    # Get evaluation metrics\n",
    "    recall, spec, precision, balAcc, F1, profit = deriveConfusionMatrix(y_val, y_val_pred_gs)\n",
    "    \n",
    "    df = pd.DataFrame([[str(gs.best_estimator_), trainAcc, valAcc, accDiff, recall, spec, precision, balAcc, F1, profit]], \n",
    "                      columns=['model','train acc.', 'val acc.', 'acc. diff.', 'recall', 'specificity',\n",
    "                               'precision', 'bal acc.', 'F1', 'profit']) \n",
    "    \n",
    "    if dataframe == 'orig':\n",
    "        return scoreDF.append(df, ignore_index=True), gs.best_estimator_\n",
    "    elif dataframe == 'bal':\n",
    "        return scores_balanced_ds.append(df, ignore_index=True), gs.best_estimator_\n",
    "    "
   ]
  },
  {
   "cell_type": "code",
   "execution_count": 22,
   "metadata": {
    "id": "N9-80ADGg_yA"
   },
   "outputs": [],
   "source": [
    "def deriveMetricsOnTest(modelName, y_pred_test):\n",
    "    \"\"\"\n",
    "    A helper function that returns the metrics on the testing data set \n",
    "    after taking the predictions on the test data set as a parameter value;\n",
    "    It also prints a confusion matrix and a classification reports.\n",
    "    \"\"\"\n",
    "\n",
    "    class_Metrics=deriveConfusionMatrix(y_test, y_pred_test)\n",
    "\n",
    "    TN, FP, FN, TP = metrics.confusion_matrix(y_test, y_pred_test).ravel()\n",
    "\n",
    "    # convert the tuple into a list\n",
    "    listOfMetrics = list(class_Metrics)\n",
    "    #listOfMetrics.append(profit)\n",
    "    all_metrics = [str(modelName),\n",
    "                   round((metrics.accuracy_score(y_true=y_test, y_pred=y_pred_test)),2),]\n",
    "\n",
    "    # loop through the items of the list and add them to the list of all metrics\n",
    "    for item in listOfMetrics: \n",
    "        all_metrics.append(item)\n",
    "\n",
    "    return all_metrics\n",
    "  "
   ]
  },
  {
   "cell_type": "code",
   "execution_count": 23,
   "metadata": {
    "id": "I98Su3uYhUAs"
   },
   "outputs": [],
   "source": [
    "# Initialize blank scores and scores_balanced_ds dataframes\n",
    "col_names = ['model','train acc.', 'val acc.', 'acc. diff.', 'recall', 'specificity',\n",
    "                              'precision','bal acc.', 'F1', 'profit']\n",
    "scores = pd.DataFrame(columns=col_names)\n",
    "scores_balanced_ds = pd.DataFrame(columns=col_names)"
   ]
  },
  {
   "cell_type": "markdown",
   "metadata": {
    "id": "LOxrlBLu8D_5"
   },
   "source": [
    "## Build Models Using Standardized Data"
   ]
  },
  {
   "cell_type": "markdown",
   "metadata": {
    "id": "m8N2J-GBhlby"
   },
   "source": [
    "### Logistic Regression"
   ]
  },
  {
   "cell_type": "code",
   "execution_count": 24,
   "metadata": {
    "colab": {
     "base_uri": "https://localhost:8080/"
    },
    "executionInfo": {
     "elapsed": 7,
     "status": "ok",
     "timestamp": 1647150234553,
     "user": {
      "displayName": "Ronaldlee Ejalu",
      "photoUrl": "https://lh3.googleusercontent.com/a-/AOh14Gi7xk3uTqSDq_yyGWoSsAw9V5JdwoAvamCudleogw=s64",
      "userId": "12494313714788869985"
     },
     "user_tz": 300
    },
    "id": "g665rUcNFPUW",
    "outputId": "33d01bf0-acb2-410a-faf3-cb4bd4613ad8"
   },
   "outputs": [
    {
     "data": {
      "text/plain": [
       "{'C': [0.01, 0.1, 0.5, 1, 10], 'max_iter': [10, 100, 200, 500]}"
      ]
     },
     "execution_count": 24,
     "metadata": {},
     "output_type": "execute_result"
    }
   ],
   "source": [
    "parameters = {\n",
    "    'C': [0.01, 0.1, 0.5, 1, 10],\n",
    "    'max_iter' : [10, 100, 200, 500]\n",
    "} \n",
    "parameters"
   ]
  },
  {
   "cell_type": "code",
   "execution_count": 25,
   "metadata": {
    "id": "TGRTsq8CHVFp"
   },
   "outputs": [],
   "source": [
    "lr=LogisticRegression(random_state=RANDOM_STATE, solver='lbfgs', class_weight='balanced')"
   ]
  },
  {
   "cell_type": "code",
   "execution_count": 26,
   "metadata": {
    "colab": {
     "base_uri": "https://localhost:8080/",
     "height": 873
    },
    "executionInfo": {
     "elapsed": 1241,
     "status": "ok",
     "timestamp": 1647150235791,
     "user": {
      "displayName": "Ronaldlee Ejalu",
      "photoUrl": "https://lh3.googleusercontent.com/a-/AOh14Gi7xk3uTqSDq_yyGWoSsAw9V5JdwoAvamCudleogw=s64",
      "userId": "12494313714788869985"
     },
     "user_tz": 300
    },
    "id": "c1shCjGmTmHP",
    "outputId": "cd282d04-7c0b-4c61-fa45-39f334013951"
   },
   "outputs": [
    {
     "name": "stdout",
     "output_type": "stream",
     "text": [
      "BEST PARAMS: {'C': 0.5, 'max_iter': 100}\n",
      "\n",
      "\n",
      "\n",
      "The model's accuracy on training is : 0.79\n",
      "The model's accuracy on validation is : 0.79\n",
      "\n",
      "The Confusion Matrix is given below:\n"
     ]
    },
    {
     "data": {
      "image/png": "[encoded data removed]",
      "text/plain": [
       "<Figure size 432x288 with 2 Axes>"
      ]
     },
     "metadata": {
      "needs_background": "light"
     },
     "output_type": "display_data"
    },
    {
     "name": "stdout",
     "output_type": "stream",
     "text": [
      "Recall (Sensivity): 0.73\n",
      "Specificity: 0.8\n",
      "Precision: 0.38\n",
      "Balanced Accuracy: 0.76\n",
      "F1 Score: 0.5\n",
      "Profit: 81\n",
      "Wall time: 3.1 s\n"
     ]
    }
   ],
   "source": [
    "%%time\n",
    "\n",
    "scores, lr_best_est =classGridSearchCV('orig', lr, parameters, Xtrain, y_train, Xval, y_val, 'f1', scores)"
   ]
  },
  {
   "cell_type": "code",
   "execution_count": 27,
   "metadata": {
    "id": "hPT4QMDBmHSl"
   },
   "outputs": [],
   "source": [
    "pd.get_option('display.max_colwidth') # don't forget to reset this back to 50\n",
    "pd.set_option('display.max_colwidth', 500)"
   ]
  },
  {
   "cell_type": "code",
   "execution_count": 28,
   "metadata": {
    "colab": {
     "base_uri": "https://localhost:8080/",
     "height": 191
    },
    "executionInfo": {
     "elapsed": 19,
     "status": "ok",
     "timestamp": 1647150235792,
     "user": {
      "displayName": "Ronaldlee Ejalu",
      "photoUrl": "https://lh3.googleusercontent.com/a-/AOh14Gi7xk3uTqSDq_yyGWoSsAw9V5JdwoAvamCudleogw=s64",
      "userId": "12494313714788869985"
     },
     "user_tz": 300
    },
    "id": "wHfI2cHElP1l",
    "outputId": "3d6b2d6c-a959-4980-a109-3e1b64dd8e69"
   },
   "outputs": [
    {
     "data": {
      "text/html": [
       "<div>\n",
       "<style scoped>\n",
       "    .dataframe tbody tr th:only-of-type {\n",
       "        vertical-align: middle;\n",
       "    }\n",
       "\n",
       "    .dataframe tbody tr th {\n",
       "        vertical-align: top;\n",
       "    }\n",
       "\n",
       "    .dataframe thead th {\n",
       "        text-align: right;\n",
       "    }\n",
       "</style>\n",
       "<table border=\"1\" class=\"dataframe\">\n",
       "  <thead>\n",
       "    <tr style=\"text-align: right;\">\n",
       "      <th></th>\n",
       "      <th>model</th>\n",
       "      <th>train acc.</th>\n",
       "      <th>val acc.</th>\n",
       "      <th>acc. diff.</th>\n",
       "      <th>recall</th>\n",
       "      <th>specificity</th>\n",
       "      <th>precision</th>\n",
       "      <th>bal acc.</th>\n",
       "      <th>F1</th>\n",
       "      <th>profit</th>\n",
       "    </tr>\n",
       "  </thead>\n",
       "  <tbody>\n",
       "    <tr>\n",
       "      <th>0</th>\n",
       "      <td>LogisticRegression(C=0.5, class_weight='balanced', random_state=0)</td>\n",
       "      <td>0.79</td>\n",
       "      <td>0.79</td>\n",
       "      <td>0.0</td>\n",
       "      <td>0.73</td>\n",
       "      <td>0.8</td>\n",
       "      <td>0.38</td>\n",
       "      <td>0.76</td>\n",
       "      <td>0.5</td>\n",
       "      <td>81</td>\n",
       "    </tr>\n",
       "  </tbody>\n",
       "</table>\n",
       "</div>"
      ],
      "text/plain": [
       "                                                                model  \\\n",
       "0  LogisticRegression(C=0.5, class_weight='balanced', random_state=0)   \n",
       "\n",
       "   train acc.  val acc.  acc. diff.  recall  specificity  precision  bal acc.  \\\n",
       "0        0.79      0.79         0.0    0.73          0.8       0.38      0.76   \n",
       "\n",
       "    F1 profit  \n",
       "0  0.5     81  "
      ]
     },
     "execution_count": 28,
     "metadata": {},
     "output_type": "execute_result"
    }
   ],
   "source": [
    "scores"
   ]
  },
  {
   "cell_type": "markdown",
   "metadata": {
    "id": "3PUaMT0Ya59F"
   },
   "source": [
    "### Support Vector Machines Classifier (SVC)"
   ]
  },
  {
   "cell_type": "code",
   "execution_count": 29,
   "metadata": {
    "colab": {
     "base_uri": "https://localhost:8080/"
    },
    "executionInfo": {
     "elapsed": 12,
     "status": "ok",
     "timestamp": 1647150235793,
     "user": {
      "displayName": "Ronaldlee Ejalu",
      "photoUrl": "https://lh3.googleusercontent.com/a-/AOh14Gi7xk3uTqSDq_yyGWoSsAw9V5JdwoAvamCudleogw=s64",
      "userId": "12494313714788869985"
     },
     "user_tz": 300
    },
    "id": "jTfd6rzKYzoV",
    "outputId": "293e96b7-fb2e-47f9-b00b-4ca39cb7f68b"
   },
   "outputs": [
    {
     "data": {
      "text/plain": [
       "{'C': [1, 10, 25, 50, 100, 200, 300],\n",
       " 'gamma': [0.001, 0.01, 0.1, 1, 'scale'],\n",
       " 'kernel': ['linear', 'rbf']}"
      ]
     },
     "execution_count": 29,
     "metadata": {},
     "output_type": "execute_result"
    }
   ],
   "source": [
    "parameters = {\n",
    "     'C': [1, 10, 25, 50, 100, 200, 300],\n",
    "    'gamma': [0.001, 0.01, 0.1, 1, 'scale'] ,\n",
    "    'kernel': ['linear', 'rbf']\n",
    "}\n",
    "parameters"
   ]
  },
  {
   "cell_type": "code",
   "execution_count": 30,
   "metadata": {
    "id": "gutedk8gsHu6"
   },
   "outputs": [],
   "source": [
    "svc = SVC(class_weight='balanced', random_state=RANDOM_STATE)"
   ]
  },
  {
   "cell_type": "code",
   "execution_count": 31,
   "metadata": {
    "colab": {
     "base_uri": "https://localhost:8080/",
     "height": 873
    },
    "executionInfo": {
     "elapsed": 8238,
     "status": "ok",
     "timestamp": 1647150244023,
     "user": {
      "displayName": "Ronaldlee Ejalu",
      "photoUrl": "https://lh3.googleusercontent.com/a-/AOh14Gi7xk3uTqSDq_yyGWoSsAw9V5JdwoAvamCudleogw=s64",
      "userId": "12494313714788869985"
     },
     "user_tz": 300
    },
    "id": "jkPFe6LmcE_z",
    "outputId": "bbe0fb7e-ffbd-47dd-c461-d696cd22dc83"
   },
   "outputs": [
    {
     "name": "stdout",
     "output_type": "stream",
     "text": [
      "BEST PARAMS: {'C': 100, 'gamma': 0.01, 'kernel': 'rbf'}\n",
      "\n",
      "\n",
      "\n",
      "The model's accuracy on training is : 0.85\n",
      "The model's accuracy on validation is : 0.8\n",
      "\n",
      "The Confusion Matrix is given below:\n"
     ]
    },
    {
     "data": {
      "image/png": "[encoded data removed]",
      "text/plain": [
       "<Figure size 432x288 with 2 Axes>"
      ]
     },
     "metadata": {
      "needs_background": "light"
     },
     "output_type": "display_data"
    },
    {
     "name": "stdout",
     "output_type": "stream",
     "text": [
      "Recall (Sensivity): 0.75\n",
      "Specificity: 0.8\n",
      "Precision: 0.39\n",
      "Balanced Accuracy: 0.78\n",
      "F1 Score: 0.51\n",
      "Profit: 106\n",
      "Wall time: 2min 5s\n"
     ]
    }
   ],
   "source": [
    "%%time\n",
    "\n",
    "scores, svc_best_est =classGridSearchCV('orig', svc, parameters, Xtrain, y_train, Xval, y_val, 'f1', scores)"
   ]
  },
  {
   "cell_type": "code",
   "execution_count": 32,
   "metadata": {
    "colab": {
     "base_uri": "https://localhost:8080/",
     "height": 271
    },
    "executionInfo": {
     "elapsed": 6,
     "status": "ok",
     "timestamp": 1647150244024,
     "user": {
      "displayName": "Ronaldlee Ejalu",
      "photoUrl": "https://lh3.googleusercontent.com/a-/AOh14Gi7xk3uTqSDq_yyGWoSsAw9V5JdwoAvamCudleogw=s64",
      "userId": "12494313714788869985"
     },
     "user_tz": 300
    },
    "id": "-2rkmeDecVb6",
    "outputId": "e36f32ce-2352-4ea1-8845-6f23a4a8a203"
   },
   "outputs": [
    {
     "data": {
      "text/html": [
       "<div>\n",
       "<style scoped>\n",
       "    .dataframe tbody tr th:only-of-type {\n",
       "        vertical-align: middle;\n",
       "    }\n",
       "\n",
       "    .dataframe tbody tr th {\n",
       "        vertical-align: top;\n",
       "    }\n",
       "\n",
       "    .dataframe thead th {\n",
       "        text-align: right;\n",
       "    }\n",
       "</style>\n",
       "<table border=\"1\" class=\"dataframe\">\n",
       "  <thead>\n",
       "    <tr style=\"text-align: right;\">\n",
       "      <th></th>\n",
       "      <th>model</th>\n",
       "      <th>train acc.</th>\n",
       "      <th>val acc.</th>\n",
       "      <th>acc. diff.</th>\n",
       "      <th>recall</th>\n",
       "      <th>specificity</th>\n",
       "      <th>precision</th>\n",
       "      <th>bal acc.</th>\n",
       "      <th>F1</th>\n",
       "      <th>profit</th>\n",
       "    </tr>\n",
       "  </thead>\n",
       "  <tbody>\n",
       "    <tr>\n",
       "      <th>0</th>\n",
       "      <td>LogisticRegression(C=0.5, class_weight='balanced', random_state=0)</td>\n",
       "      <td>0.79</td>\n",
       "      <td>0.79</td>\n",
       "      <td>0.00</td>\n",
       "      <td>0.73</td>\n",
       "      <td>0.8</td>\n",
       "      <td>0.38</td>\n",
       "      <td>0.76</td>\n",
       "      <td>0.50</td>\n",
       "      <td>81</td>\n",
       "    </tr>\n",
       "    <tr>\n",
       "      <th>1</th>\n",
       "      <td>SVC(C=100, class_weight='balanced', gamma=0.01, random_state=0)</td>\n",
       "      <td>0.85</td>\n",
       "      <td>0.80</td>\n",
       "      <td>0.05</td>\n",
       "      <td>0.75</td>\n",
       "      <td>0.8</td>\n",
       "      <td>0.39</td>\n",
       "      <td>0.78</td>\n",
       "      <td>0.51</td>\n",
       "      <td>106</td>\n",
       "    </tr>\n",
       "  </tbody>\n",
       "</table>\n",
       "</div>"
      ],
      "text/plain": [
       "                                                                model  \\\n",
       "0  LogisticRegression(C=0.5, class_weight='balanced', random_state=0)   \n",
       "1     SVC(C=100, class_weight='balanced', gamma=0.01, random_state=0)   \n",
       "\n",
       "   train acc.  val acc.  acc. diff.  recall  specificity  precision  bal acc.  \\\n",
       "0        0.79      0.79        0.00    0.73          0.8       0.38      0.76   \n",
       "1        0.85      0.80        0.05    0.75          0.8       0.39      0.78   \n",
       "\n",
       "     F1 profit  \n",
       "0  0.50     81  \n",
       "1  0.51    106  "
      ]
     },
     "execution_count": 32,
     "metadata": {},
     "output_type": "execute_result"
    }
   ],
   "source": [
    "scores"
   ]
  },
  {
   "cell_type": "markdown",
   "metadata": {
    "id": "pmX67HKJxnHy"
   },
   "source": [
    "### KNN Classifier"
   ]
  },
  {
   "cell_type": "code",
   "execution_count": 33,
   "metadata": {
    "id": "Dv6TNaNPhstt"
   },
   "outputs": [],
   "source": [
    "parameters = {\n",
    "    'n_neighbors': [1, 3, 5, 10],\n",
    "    'weights' : ['uniform', 'distance'],\n",
    "    'algorithm' : ['auto', 'ball_tree', 'kd_tree', 'brute'],\n",
    "    'leaf_size' : [2, 5, 15, 30, 50, 100, 200]\n",
    "}"
   ]
  },
  {
   "cell_type": "code",
   "execution_count": 34,
   "metadata": {
    "id": "_CaGrEvShswU"
   },
   "outputs": [],
   "source": [
    "knc = KNeighborsClassifier()"
   ]
  },
  {
   "cell_type": "code",
   "execution_count": 35,
   "metadata": {
    "colab": {
     "base_uri": "https://localhost:8080/",
     "height": 873
    },
    "executionInfo": {
     "elapsed": 7345,
     "status": "ok",
     "timestamp": 1647150253178,
     "user": {
      "displayName": "Ronaldlee Ejalu",
      "photoUrl": "https://lh3.googleusercontent.com/a-/AOh14Gi7xk3uTqSDq_yyGWoSsAw9V5JdwoAvamCudleogw=s64",
      "userId": "12494313714788869985"
     },
     "user_tz": 300
    },
    "id": "tb-dV4Knhszi",
    "outputId": "86a6a83d-8454-4c1e-e76a-f543ca14f984"
   },
   "outputs": [
    {
     "name": "stdout",
     "output_type": "stream",
     "text": [
      "BEST PARAMS: {'algorithm': 'ball_tree', 'leaf_size': 5, 'n_neighbors': 5, 'weights': 'uniform'}\n",
      "\n",
      "\n",
      "\n",
      "The model's accuracy on training is : 0.88\n",
      "The model's accuracy on validation is : 0.87\n",
      "\n",
      "The Confusion Matrix is given below:\n"
     ]
    },
    {
     "data": {
      "image/png": "[encoded data removed]",
      "text/plain": [
       "<Figure size 432x288 with 2 Axes>"
      ]
     },
     "metadata": {
      "needs_background": "light"
     },
     "output_type": "display_data"
    },
    {
     "name": "stdout",
     "output_type": "stream",
     "text": [
      "Recall (Sensivity): 0.29\n",
      "Specificity: 0.97\n",
      "Precision: 0.65\n",
      "Balanced Accuracy: 0.63\n",
      "F1 Score: 0.4\n",
      "Profit: -266\n",
      "Wall time: 9.26 s\n"
     ]
    }
   ],
   "source": [
    "%%time\n",
    "\n",
    "scores, knc_best_est =classGridSearchCV('orig', knc, parameters, Xtrain, y_train, Xval, y_val, 'f1', scores)"
   ]
  },
  {
   "cell_type": "code",
   "execution_count": 36,
   "metadata": {
    "colab": {
     "base_uri": "https://localhost:8080/",
     "height": 351
    },
    "executionInfo": {
     "elapsed": 12,
     "status": "ok",
     "timestamp": 1647150253179,
     "user": {
      "displayName": "Ronaldlee Ejalu",
      "photoUrl": "https://lh3.googleusercontent.com/a-/AOh14Gi7xk3uTqSDq_yyGWoSsAw9V5JdwoAvamCudleogw=s64",
      "userId": "12494313714788869985"
     },
     "user_tz": 300
    },
    "id": "WcW0lxaM0e-J",
    "outputId": "74c94dfa-c130-4b8f-be83-0f67d02222e4"
   },
   "outputs": [
    {
     "data": {
      "text/html": [
       "<div>\n",
       "<style scoped>\n",
       "    .dataframe tbody tr th:only-of-type {\n",
       "        vertical-align: middle;\n",
       "    }\n",
       "\n",
       "    .dataframe tbody tr th {\n",
       "        vertical-align: top;\n",
       "    }\n",
       "\n",
       "    .dataframe thead th {\n",
       "        text-align: right;\n",
       "    }\n",
       "</style>\n",
       "<table border=\"1\" class=\"dataframe\">\n",
       "  <thead>\n",
       "    <tr style=\"text-align: right;\">\n",
       "      <th></th>\n",
       "      <th>model</th>\n",
       "      <th>train acc.</th>\n",
       "      <th>val acc.</th>\n",
       "      <th>acc. diff.</th>\n",
       "      <th>recall</th>\n",
       "      <th>specificity</th>\n",
       "      <th>precision</th>\n",
       "      <th>bal acc.</th>\n",
       "      <th>F1</th>\n",
       "      <th>profit</th>\n",
       "    </tr>\n",
       "  </thead>\n",
       "  <tbody>\n",
       "    <tr>\n",
       "      <th>0</th>\n",
       "      <td>LogisticRegression(C=0.5, class_weight='balanced', random_state=0)</td>\n",
       "      <td>0.79</td>\n",
       "      <td>0.79</td>\n",
       "      <td>0.00</td>\n",
       "      <td>0.73</td>\n",
       "      <td>0.80</td>\n",
       "      <td>0.38</td>\n",
       "      <td>0.76</td>\n",
       "      <td>0.50</td>\n",
       "      <td>81</td>\n",
       "    </tr>\n",
       "    <tr>\n",
       "      <th>1</th>\n",
       "      <td>SVC(C=100, class_weight='balanced', gamma=0.01, random_state=0)</td>\n",
       "      <td>0.85</td>\n",
       "      <td>0.80</td>\n",
       "      <td>0.05</td>\n",
       "      <td>0.75</td>\n",
       "      <td>0.80</td>\n",
       "      <td>0.39</td>\n",
       "      <td>0.78</td>\n",
       "      <td>0.51</td>\n",
       "      <td>106</td>\n",
       "    </tr>\n",
       "    <tr>\n",
       "      <th>2</th>\n",
       "      <td>KNeighborsClassifier(algorithm='ball_tree', leaf_size=5)</td>\n",
       "      <td>0.88</td>\n",
       "      <td>0.87</td>\n",
       "      <td>0.01</td>\n",
       "      <td>0.29</td>\n",
       "      <td>0.97</td>\n",
       "      <td>0.65</td>\n",
       "      <td>0.63</td>\n",
       "      <td>0.40</td>\n",
       "      <td>-266</td>\n",
       "    </tr>\n",
       "  </tbody>\n",
       "</table>\n",
       "</div>"
      ],
      "text/plain": [
       "                                                                model  \\\n",
       "0  LogisticRegression(C=0.5, class_weight='balanced', random_state=0)   \n",
       "1     SVC(C=100, class_weight='balanced', gamma=0.01, random_state=0)   \n",
       "2            KNeighborsClassifier(algorithm='ball_tree', leaf_size=5)   \n",
       "\n",
       "   train acc.  val acc.  acc. diff.  recall  specificity  precision  bal acc.  \\\n",
       "0        0.79      0.79        0.00    0.73         0.80       0.38      0.76   \n",
       "1        0.85      0.80        0.05    0.75         0.80       0.39      0.78   \n",
       "2        0.88      0.87        0.01    0.29         0.97       0.65      0.63   \n",
       "\n",
       "     F1 profit  \n",
       "0  0.50     81  \n",
       "1  0.51    106  \n",
       "2  0.40   -266  "
      ]
     },
     "execution_count": 36,
     "metadata": {},
     "output_type": "execute_result"
    }
   ],
   "source": [
    "scores"
   ]
  },
  {
   "cell_type": "markdown",
   "metadata": {
    "id": "qIe-z-AgmQh1"
   },
   "source": [
    "### Decision Tree Classifier"
   ]
  },
  {
   "cell_type": "code",
   "execution_count": 37,
   "metadata": {
    "id": "7h-61eTgnlhI"
   },
   "outputs": [],
   "source": [
    "parameters = {\n",
    "    'max_depth': [5, 10, 15, None],\n",
    "    'min_samples_split' : [2, 5, 10, 30, 50, 70],\n",
    "    'min_samples_leaf' : [2, 5, 10, 30, 50],\n",
    "    'max_features' : [2,5,18]\n",
    "}"
   ]
  },
  {
   "cell_type": "code",
   "execution_count": 38,
   "metadata": {
    "id": "KAXNeuZJmUV9"
   },
   "outputs": [],
   "source": [
    "dt = DecisionTreeClassifier(class_weight=\"balanced\", random_state=RANDOM_STATE)"
   ]
  },
  {
   "cell_type": "code",
   "execution_count": 39,
   "metadata": {
    "colab": {
     "base_uri": "https://localhost:8080/",
     "height": 873
    },
    "executionInfo": {
     "elapsed": 9811,
     "status": "ok",
     "timestamp": 1647150264077,
     "user": {
      "displayName": "Ronaldlee Ejalu",
      "photoUrl": "https://lh3.googleusercontent.com/a-/AOh14Gi7xk3uTqSDq_yyGWoSsAw9V5JdwoAvamCudleogw=s64",
      "userId": "12494313714788869985"
     },
     "user_tz": 300
    },
    "id": "f7eKvnymmUgO",
    "outputId": "187a3a3c-36c7-4263-86a7-4efbcede80f8"
   },
   "outputs": [
    {
     "name": "stdout",
     "output_type": "stream",
     "text": [
      "BEST PARAMS: {'max_depth': 10, 'max_features': 18, 'min_samples_leaf': 10, 'min_samples_split': 70}\n",
      "\n",
      "\n",
      "\n",
      "The model's accuracy on training is : 0.8\n",
      "The model's accuracy on validation is : 0.79\n",
      "\n",
      "The Confusion Matrix is given below:\n"
     ]
    },
    {
     "data": {
      "image/png": "[encoded data removed]",
      "text/plain": [
       "<Figure size 432x288 with 2 Axes>"
      ]
     },
     "metadata": {
      "needs_background": "light"
     },
     "output_type": "display_data"
    },
    {
     "name": "stdout",
     "output_type": "stream",
     "text": [
      "Recall (Sensivity): 0.77\n",
      "Specificity: 0.79\n",
      "Precision: 0.39\n",
      "Balanced Accuracy: 0.78\n",
      "F1 Score: 0.52\n",
      "Profit: 119\n",
      "Wall time: 7.94 s\n"
     ]
    }
   ],
   "source": [
    "%%time\n",
    "\n",
    "scores, dt_best_est =classGridSearchCV('orig', dt, parameters, Xtrain, y_train, Xval, y_val, 'f1', scores)"
   ]
  },
  {
   "cell_type": "code",
   "execution_count": 40,
   "metadata": {
    "colab": {
     "base_uri": "https://localhost:8080/",
     "height": 466
    },
    "executionInfo": {
     "elapsed": 15,
     "status": "ok",
     "timestamp": 1647150264078,
     "user": {
      "displayName": "Ronaldlee Ejalu",
      "photoUrl": "https://lh3.googleusercontent.com/a-/AOh14Gi7xk3uTqSDq_yyGWoSsAw9V5JdwoAvamCudleogw=s64",
      "userId": "12494313714788869985"
     },
     "user_tz": 300
    },
    "id": "t6kmP7-pogk-",
    "outputId": "845173df-ff84-47f0-d90a-4cec43eeb60e"
   },
   "outputs": [
    {
     "data": {
      "text/html": [
       "<div>\n",
       "<style scoped>\n",
       "    .dataframe tbody tr th:only-of-type {\n",
       "        vertical-align: middle;\n",
       "    }\n",
       "\n",
       "    .dataframe tbody tr th {\n",
       "        vertical-align: top;\n",
       "    }\n",
       "\n",
       "    .dataframe thead th {\n",
       "        text-align: right;\n",
       "    }\n",
       "</style>\n",
       "<table border=\"1\" class=\"dataframe\">\n",
       "  <thead>\n",
       "    <tr style=\"text-align: right;\">\n",
       "      <th></th>\n",
       "      <th>model</th>\n",
       "      <th>train acc.</th>\n",
       "      <th>val acc.</th>\n",
       "      <th>acc. diff.</th>\n",
       "      <th>recall</th>\n",
       "      <th>specificity</th>\n",
       "      <th>precision</th>\n",
       "      <th>bal acc.</th>\n",
       "      <th>F1</th>\n",
       "      <th>profit</th>\n",
       "    </tr>\n",
       "  </thead>\n",
       "  <tbody>\n",
       "    <tr>\n",
       "      <th>0</th>\n",
       "      <td>LogisticRegression(C=0.5, class_weight='balanced', random_state=0)</td>\n",
       "      <td>0.79</td>\n",
       "      <td>0.79</td>\n",
       "      <td>0.00</td>\n",
       "      <td>0.73</td>\n",
       "      <td>0.80</td>\n",
       "      <td>0.38</td>\n",
       "      <td>0.76</td>\n",
       "      <td>0.50</td>\n",
       "      <td>81</td>\n",
       "    </tr>\n",
       "    <tr>\n",
       "      <th>1</th>\n",
       "      <td>SVC(C=100, class_weight='balanced', gamma=0.01, random_state=0)</td>\n",
       "      <td>0.85</td>\n",
       "      <td>0.80</td>\n",
       "      <td>0.05</td>\n",
       "      <td>0.75</td>\n",
       "      <td>0.80</td>\n",
       "      <td>0.39</td>\n",
       "      <td>0.78</td>\n",
       "      <td>0.51</td>\n",
       "      <td>106</td>\n",
       "    </tr>\n",
       "    <tr>\n",
       "      <th>2</th>\n",
       "      <td>KNeighborsClassifier(algorithm='ball_tree', leaf_size=5)</td>\n",
       "      <td>0.88</td>\n",
       "      <td>0.87</td>\n",
       "      <td>0.01</td>\n",
       "      <td>0.29</td>\n",
       "      <td>0.97</td>\n",
       "      <td>0.65</td>\n",
       "      <td>0.63</td>\n",
       "      <td>0.40</td>\n",
       "      <td>-266</td>\n",
       "    </tr>\n",
       "    <tr>\n",
       "      <th>3</th>\n",
       "      <td>DecisionTreeClassifier(class_weight='balanced', max_depth=10, max_features=18,\\n                       min_samples_leaf=10, min_samples_split=70,\\n                       random_state=0)</td>\n",
       "      <td>0.80</td>\n",
       "      <td>0.79</td>\n",
       "      <td>0.01</td>\n",
       "      <td>0.77</td>\n",
       "      <td>0.79</td>\n",
       "      <td>0.39</td>\n",
       "      <td>0.78</td>\n",
       "      <td>0.52</td>\n",
       "      <td>119</td>\n",
       "    </tr>\n",
       "  </tbody>\n",
       "</table>\n",
       "</div>"
      ],
      "text/plain": [
       "                                                                                                                                                                                       model  \\\n",
       "0                                                                                                                         LogisticRegression(C=0.5, class_weight='balanced', random_state=0)   \n",
       "1                                                                                                                            SVC(C=100, class_weight='balanced', gamma=0.01, random_state=0)   \n",
       "2                                                                                                                                   KNeighborsClassifier(algorithm='ball_tree', leaf_size=5)   \n",
       "3  DecisionTreeClassifier(class_weight='balanced', max_depth=10, max_features=18,\\n                       min_samples_leaf=10, min_samples_split=70,\\n                       random_state=0)   \n",
       "\n",
       "   train acc.  val acc.  acc. diff.  recall  specificity  precision  bal acc.  \\\n",
       "0        0.79      0.79        0.00    0.73         0.80       0.38      0.76   \n",
       "1        0.85      0.80        0.05    0.75         0.80       0.39      0.78   \n",
       "2        0.88      0.87        0.01    0.29         0.97       0.65      0.63   \n",
       "3        0.80      0.79        0.01    0.77         0.79       0.39      0.78   \n",
       "\n",
       "     F1 profit  \n",
       "0  0.50     81  \n",
       "1  0.51    106  \n",
       "2  0.40   -266  \n",
       "3  0.52    119  "
      ]
     },
     "execution_count": 40,
     "metadata": {},
     "output_type": "execute_result"
    }
   ],
   "source": [
    "scores"
   ]
  },
  {
   "cell_type": "markdown",
   "metadata": {
    "id": "kyNeMqhRmUsj"
   },
   "source": [
    "### Random Forest Classifier"
   ]
  },
  {
   "cell_type": "code",
   "execution_count": 41,
   "metadata": {
    "id": "cJQn5cTEo3R6"
   },
   "outputs": [],
   "source": [
    "parameters = {\n",
    "    'n_estimators' : [50, 150, 200],\n",
    "    'max_depth': [1, 10, 100],\n",
    "    'min_samples_split' : [2, 100, 300],\n",
    "    'bootstrap': [True, False],\n",
    "    'max_features': [2,5,18],\n",
    "}"
   ]
  },
  {
   "cell_type": "code",
   "execution_count": 42,
   "metadata": {
    "id": "nnWN4xl2o3WT"
   },
   "outputs": [],
   "source": [
    "rf = RandomForestClassifier(class_weight=\"balanced\", random_state=RANDOM_STATE)"
   ]
  },
  {
   "cell_type": "code",
   "execution_count": 43,
   "metadata": {
    "colab": {
     "base_uri": "https://localhost:8080/",
     "height": 893
    },
    "executionInfo": {
     "elapsed": 157013,
     "status": "ok",
     "timestamp": 1647150422151,
     "user": {
      "displayName": "Ronaldlee Ejalu",
      "photoUrl": "https://lh3.googleusercontent.com/a-/AOh14Gi7xk3uTqSDq_yyGWoSsAw9V5JdwoAvamCudleogw=s64",
      "userId": "12494313714788869985"
     },
     "user_tz": 300
    },
    "id": "dsto1UVEo3aN",
    "outputId": "cd1dee4b-2a43-4928-f94b-d103dbe5c6a1"
   },
   "outputs": [
    {
     "name": "stdout",
     "output_type": "stream",
     "text": [
      "BEST PARAMS: {'bootstrap': True, 'max_depth': 10, 'max_features': 2, 'min_samples_split': 100, 'n_estimators': 50}\n",
      "\n",
      "\n",
      "\n",
      "The model's accuracy on training is : 0.81\n",
      "The model's accuracy on validation is : 0.82\n",
      "\n",
      "The Confusion Matrix is given below:\n"
     ]
    },
    {
     "data": {
      "image/png": "[encoded data removed]",
      "text/plain": [
       "<Figure size 432x288 with 2 Axes>"
      ]
     },
     "metadata": {
      "needs_background": "light"
     },
     "output_type": "display_data"
    },
    {
     "name": "stdout",
     "output_type": "stream",
     "text": [
      "Recall (Sensivity): 0.77\n",
      "Specificity: 0.83\n",
      "Precision: 0.43\n",
      "Balanced Accuracy: 0.8\n",
      "F1 Score: 0.55\n",
      "Profit: 149\n",
      "Wall time: 2min 19s\n"
     ]
    }
   ],
   "source": [
    "%%time\n",
    "\n",
    "scores, rf_best_est =classGridSearchCV('orig', rf, parameters, Xtrain, y_train, Xval, y_val, 'f1', scores)"
   ]
  },
  {
   "cell_type": "code",
   "execution_count": 44,
   "metadata": {
    "colab": {
     "base_uri": "https://localhost:8080/",
     "height": 581
    },
    "executionInfo": {
     "elapsed": 8,
     "status": "ok",
     "timestamp": 1647150422505,
     "user": {
      "displayName": "Ronaldlee Ejalu",
      "photoUrl": "https://lh3.googleusercontent.com/a-/AOh14Gi7xk3uTqSDq_yyGWoSsAw9V5JdwoAvamCudleogw=s64",
      "userId": "12494313714788869985"
     },
     "user_tz": 300
    },
    "id": "o8k2T_GFmXzD",
    "outputId": "4a58df6b-21ca-4644-cce2-98316d2e1583"
   },
   "outputs": [
    {
     "data": {
      "text/html": [
       "<div>\n",
       "<style scoped>\n",
       "    .dataframe tbody tr th:only-of-type {\n",
       "        vertical-align: middle;\n",
       "    }\n",
       "\n",
       "    .dataframe tbody tr th {\n",
       "        vertical-align: top;\n",
       "    }\n",
       "\n",
       "    .dataframe thead th {\n",
       "        text-align: right;\n",
       "    }\n",
       "</style>\n",
       "<table border=\"1\" class=\"dataframe\">\n",
       "  <thead>\n",
       "    <tr style=\"text-align: right;\">\n",
       "      <th></th>\n",
       "      <th>model</th>\n",
       "      <th>train acc.</th>\n",
       "      <th>val acc.</th>\n",
       "      <th>acc. diff.</th>\n",
       "      <th>recall</th>\n",
       "      <th>specificity</th>\n",
       "      <th>precision</th>\n",
       "      <th>bal acc.</th>\n",
       "      <th>F1</th>\n",
       "      <th>profit</th>\n",
       "    </tr>\n",
       "  </thead>\n",
       "  <tbody>\n",
       "    <tr>\n",
       "      <th>0</th>\n",
       "      <td>LogisticRegression(C=0.5, class_weight='balanced', random_state=0)</td>\n",
       "      <td>0.79</td>\n",
       "      <td>0.79</td>\n",
       "      <td>0.00</td>\n",
       "      <td>0.73</td>\n",
       "      <td>0.80</td>\n",
       "      <td>0.38</td>\n",
       "      <td>0.76</td>\n",
       "      <td>0.50</td>\n",
       "      <td>81</td>\n",
       "    </tr>\n",
       "    <tr>\n",
       "      <th>1</th>\n",
       "      <td>SVC(C=100, class_weight='balanced', gamma=0.01, random_state=0)</td>\n",
       "      <td>0.85</td>\n",
       "      <td>0.80</td>\n",
       "      <td>0.05</td>\n",
       "      <td>0.75</td>\n",
       "      <td>0.80</td>\n",
       "      <td>0.39</td>\n",
       "      <td>0.78</td>\n",
       "      <td>0.51</td>\n",
       "      <td>106</td>\n",
       "    </tr>\n",
       "    <tr>\n",
       "      <th>2</th>\n",
       "      <td>KNeighborsClassifier(algorithm='ball_tree', leaf_size=5)</td>\n",
       "      <td>0.88</td>\n",
       "      <td>0.87</td>\n",
       "      <td>0.01</td>\n",
       "      <td>0.29</td>\n",
       "      <td>0.97</td>\n",
       "      <td>0.65</td>\n",
       "      <td>0.63</td>\n",
       "      <td>0.40</td>\n",
       "      <td>-266</td>\n",
       "    </tr>\n",
       "    <tr>\n",
       "      <th>3</th>\n",
       "      <td>DecisionTreeClassifier(class_weight='balanced', max_depth=10, max_features=18,\\n                       min_samples_leaf=10, min_samples_split=70,\\n                       random_state=0)</td>\n",
       "      <td>0.80</td>\n",
       "      <td>0.79</td>\n",
       "      <td>0.01</td>\n",
       "      <td>0.77</td>\n",
       "      <td>0.79</td>\n",
       "      <td>0.39</td>\n",
       "      <td>0.78</td>\n",
       "      <td>0.52</td>\n",
       "      <td>119</td>\n",
       "    </tr>\n",
       "    <tr>\n",
       "      <th>4</th>\n",
       "      <td>RandomForestClassifier(class_weight='balanced', max_depth=10, max_features=2,\\n                       min_samples_split=100, n_estimators=50, random_state=0)</td>\n",
       "      <td>0.81</td>\n",
       "      <td>0.82</td>\n",
       "      <td>-0.01</td>\n",
       "      <td>0.77</td>\n",
       "      <td>0.83</td>\n",
       "      <td>0.43</td>\n",
       "      <td>0.80</td>\n",
       "      <td>0.55</td>\n",
       "      <td>149</td>\n",
       "    </tr>\n",
       "  </tbody>\n",
       "</table>\n",
       "</div>"
      ],
      "text/plain": [
       "                                                                                                                                                                                       model  \\\n",
       "0                                                                                                                         LogisticRegression(C=0.5, class_weight='balanced', random_state=0)   \n",
       "1                                                                                                                            SVC(C=100, class_weight='balanced', gamma=0.01, random_state=0)   \n",
       "2                                                                                                                                   KNeighborsClassifier(algorithm='ball_tree', leaf_size=5)   \n",
       "3  DecisionTreeClassifier(class_weight='balanced', max_depth=10, max_features=18,\\n                       min_samples_leaf=10, min_samples_split=70,\\n                       random_state=0)   \n",
       "4                              RandomForestClassifier(class_weight='balanced', max_depth=10, max_features=2,\\n                       min_samples_split=100, n_estimators=50, random_state=0)   \n",
       "\n",
       "   train acc.  val acc.  acc. diff.  recall  specificity  precision  bal acc.  \\\n",
       "0        0.79      0.79        0.00    0.73         0.80       0.38      0.76   \n",
       "1        0.85      0.80        0.05    0.75         0.80       0.39      0.78   \n",
       "2        0.88      0.87        0.01    0.29         0.97       0.65      0.63   \n",
       "3        0.80      0.79        0.01    0.77         0.79       0.39      0.78   \n",
       "4        0.81      0.82       -0.01    0.77         0.83       0.43      0.80   \n",
       "\n",
       "     F1 profit  \n",
       "0  0.50     81  \n",
       "1  0.51    106  \n",
       "2  0.40   -266  \n",
       "3  0.52    119  \n",
       "4  0.55    149  "
      ]
     },
     "execution_count": 44,
     "metadata": {},
     "output_type": "execute_result"
    }
   ],
   "source": [
    "scores"
   ]
  },
  {
   "cell_type": "markdown",
   "metadata": {
    "id": "jJuifi42mYJ8"
   },
   "source": [
    "### Adaboost Classifier"
   ]
  },
  {
   "cell_type": "code",
   "execution_count": 45,
   "metadata": {
    "id": "eZEgIRVJmZ8H"
   },
   "outputs": [],
   "source": [
    "parameters = {\n",
    "    'n_estimators' : [50, 250, 400],\n",
    "    'learning_rate': [0.5, 1.5, 2.0]\n",
    "}"
   ]
  },
  {
   "cell_type": "code",
   "execution_count": 46,
   "metadata": {
    "id": "mWdWQMjEmZ_G"
   },
   "outputs": [],
   "source": [
    "ab = AdaBoostClassifier(random_state=RANDOM_STATE)"
   ]
  },
  {
   "cell_type": "code",
   "execution_count": 47,
   "metadata": {
    "colab": {
     "base_uri": "https://localhost:8080/",
     "height": 873
    },
    "executionInfo": {
     "elapsed": 16059,
     "status": "ok",
     "timestamp": 1647150440140,
     "user": {
      "displayName": "Ronaldlee Ejalu",
      "photoUrl": "https://lh3.googleusercontent.com/a-/AOh14Gi7xk3uTqSDq_yyGWoSsAw9V5JdwoAvamCudleogw=s64",
      "userId": "12494313714788869985"
     },
     "user_tz": 300
    },
    "id": "0Ly8o0VSmaGN",
    "outputId": "81992af6-4730-4f29-d404-6d0987f3df50"
   },
   "outputs": [
    {
     "name": "stdout",
     "output_type": "stream",
     "text": [
      "BEST PARAMS: {'learning_rate': 0.5, 'n_estimators': 50}\n",
      "\n",
      "\n",
      "\n",
      "The model's accuracy on training is : 0.88\n",
      "The model's accuracy on validation is : 0.91\n",
      "\n",
      "The Confusion Matrix is given below:\n"
     ]
    },
    {
     "data": {
      "image/png": "[encoded data removed]",
      "text/plain": [
       "<Figure size 432x288 with 2 Axes>"
      ]
     },
     "metadata": {
      "needs_background": "light"
     },
     "output_type": "display_data"
    },
    {
     "name": "stdout",
     "output_type": "stream",
     "text": [
      "Recall (Sensivity): 0.44\n",
      "Specificity: 0.99\n",
      "Precision: 0.85\n",
      "Balanced Accuracy: 0.72\n",
      "F1 Score: 0.58\n",
      "Profit: -78\n",
      "Wall time: 14.3 s\n"
     ]
    }
   ],
   "source": [
    "%%time\n",
    "\n",
    "scores, ab_best_est =classGridSearchCV('orig', ab, parameters, Xtrain, y_train, Xval, y_val, 'f1', scores)"
   ]
  },
  {
   "cell_type": "code",
   "execution_count": 48,
   "metadata": {
    "colab": {
     "base_uri": "https://localhost:8080/",
     "height": 661
    },
    "executionInfo": {
     "elapsed": 5,
     "status": "ok",
     "timestamp": 1647150440140,
     "user": {
      "displayName": "Ronaldlee Ejalu",
      "photoUrl": "https://lh3.googleusercontent.com/a-/AOh14Gi7xk3uTqSDq_yyGWoSsAw9V5JdwoAvamCudleogw=s64",
      "userId": "12494313714788869985"
     },
     "user_tz": 300
    },
    "id": "-W-XF_sIpxCU",
    "outputId": "b8f5cb2f-9bf4-458d-986b-77e0d27a7cbc"
   },
   "outputs": [
    {
     "data": {
      "text/html": [
       "<div>\n",
       "<style scoped>\n",
       "    .dataframe tbody tr th:only-of-type {\n",
       "        vertical-align: middle;\n",
       "    }\n",
       "\n",
       "    .dataframe tbody tr th {\n",
       "        vertical-align: top;\n",
       "    }\n",
       "\n",
       "    .dataframe thead th {\n",
       "        text-align: right;\n",
       "    }\n",
       "</style>\n",
       "<table border=\"1\" class=\"dataframe\">\n",
       "  <thead>\n",
       "    <tr style=\"text-align: right;\">\n",
       "      <th></th>\n",
       "      <th>model</th>\n",
       "      <th>train acc.</th>\n",
       "      <th>val acc.</th>\n",
       "      <th>acc. diff.</th>\n",
       "      <th>recall</th>\n",
       "      <th>specificity</th>\n",
       "      <th>precision</th>\n",
       "      <th>bal acc.</th>\n",
       "      <th>F1</th>\n",
       "      <th>profit</th>\n",
       "    </tr>\n",
       "  </thead>\n",
       "  <tbody>\n",
       "    <tr>\n",
       "      <th>0</th>\n",
       "      <td>LogisticRegression(C=0.5, class_weight='balanced', random_state=0)</td>\n",
       "      <td>0.79</td>\n",
       "      <td>0.79</td>\n",
       "      <td>0.00</td>\n",
       "      <td>0.73</td>\n",
       "      <td>0.80</td>\n",
       "      <td>0.38</td>\n",
       "      <td>0.76</td>\n",
       "      <td>0.50</td>\n",
       "      <td>81</td>\n",
       "    </tr>\n",
       "    <tr>\n",
       "      <th>1</th>\n",
       "      <td>SVC(C=100, class_weight='balanced', gamma=0.01, random_state=0)</td>\n",
       "      <td>0.85</td>\n",
       "      <td>0.80</td>\n",
       "      <td>0.05</td>\n",
       "      <td>0.75</td>\n",
       "      <td>0.80</td>\n",
       "      <td>0.39</td>\n",
       "      <td>0.78</td>\n",
       "      <td>0.51</td>\n",
       "      <td>106</td>\n",
       "    </tr>\n",
       "    <tr>\n",
       "      <th>2</th>\n",
       "      <td>KNeighborsClassifier(algorithm='ball_tree', leaf_size=5)</td>\n",
       "      <td>0.88</td>\n",
       "      <td>0.87</td>\n",
       "      <td>0.01</td>\n",
       "      <td>0.29</td>\n",
       "      <td>0.97</td>\n",
       "      <td>0.65</td>\n",
       "      <td>0.63</td>\n",
       "      <td>0.40</td>\n",
       "      <td>-266</td>\n",
       "    </tr>\n",
       "    <tr>\n",
       "      <th>3</th>\n",
       "      <td>DecisionTreeClassifier(class_weight='balanced', max_depth=10, max_features=18,\\n                       min_samples_leaf=10, min_samples_split=70,\\n                       random_state=0)</td>\n",
       "      <td>0.80</td>\n",
       "      <td>0.79</td>\n",
       "      <td>0.01</td>\n",
       "      <td>0.77</td>\n",
       "      <td>0.79</td>\n",
       "      <td>0.39</td>\n",
       "      <td>0.78</td>\n",
       "      <td>0.52</td>\n",
       "      <td>119</td>\n",
       "    </tr>\n",
       "    <tr>\n",
       "      <th>4</th>\n",
       "      <td>RandomForestClassifier(class_weight='balanced', max_depth=10, max_features=2,\\n                       min_samples_split=100, n_estimators=50, random_state=0)</td>\n",
       "      <td>0.81</td>\n",
       "      <td>0.82</td>\n",
       "      <td>-0.01</td>\n",
       "      <td>0.77</td>\n",
       "      <td>0.83</td>\n",
       "      <td>0.43</td>\n",
       "      <td>0.80</td>\n",
       "      <td>0.55</td>\n",
       "      <td>149</td>\n",
       "    </tr>\n",
       "    <tr>\n",
       "      <th>5</th>\n",
       "      <td>AdaBoostClassifier(learning_rate=0.5, random_state=0)</td>\n",
       "      <td>0.88</td>\n",
       "      <td>0.91</td>\n",
       "      <td>-0.03</td>\n",
       "      <td>0.44</td>\n",
       "      <td>0.99</td>\n",
       "      <td>0.85</td>\n",
       "      <td>0.72</td>\n",
       "      <td>0.58</td>\n",
       "      <td>-78</td>\n",
       "    </tr>\n",
       "  </tbody>\n",
       "</table>\n",
       "</div>"
      ],
      "text/plain": [
       "                                                                                                                                                                                       model  \\\n",
       "0                                                                                                                         LogisticRegression(C=0.5, class_weight='balanced', random_state=0)   \n",
       "1                                                                                                                            SVC(C=100, class_weight='balanced', gamma=0.01, random_state=0)   \n",
       "2                                                                                                                                   KNeighborsClassifier(algorithm='ball_tree', leaf_size=5)   \n",
       "3  DecisionTreeClassifier(class_weight='balanced', max_depth=10, max_features=18,\\n                       min_samples_leaf=10, min_samples_split=70,\\n                       random_state=0)   \n",
       "4                              RandomForestClassifier(class_weight='balanced', max_depth=10, max_features=2,\\n                       min_samples_split=100, n_estimators=50, random_state=0)   \n",
       "5                                                                                                                                      AdaBoostClassifier(learning_rate=0.5, random_state=0)   \n",
       "\n",
       "   train acc.  val acc.  acc. diff.  recall  specificity  precision  bal acc.  \\\n",
       "0        0.79      0.79        0.00    0.73         0.80       0.38      0.76   \n",
       "1        0.85      0.80        0.05    0.75         0.80       0.39      0.78   \n",
       "2        0.88      0.87        0.01    0.29         0.97       0.65      0.63   \n",
       "3        0.80      0.79        0.01    0.77         0.79       0.39      0.78   \n",
       "4        0.81      0.82       -0.01    0.77         0.83       0.43      0.80   \n",
       "5        0.88      0.91       -0.03    0.44         0.99       0.85      0.72   \n",
       "\n",
       "     F1 profit  \n",
       "0  0.50     81  \n",
       "1  0.51    106  \n",
       "2  0.40   -266  \n",
       "3  0.52    119  \n",
       "4  0.55    149  \n",
       "5  0.58    -78  "
      ]
     },
     "execution_count": 48,
     "metadata": {},
     "output_type": "execute_result"
    }
   ],
   "source": [
    "scores"
   ]
  },
  {
   "cell_type": "markdown",
   "metadata": {
    "id": "j1YOgop6mab-"
   },
   "source": [
    "### Gradient Boosting Classifier"
   ]
  },
  {
   "cell_type": "code",
   "execution_count": 49,
   "metadata": {
    "id": "0t_BGfXVmceq"
   },
   "outputs": [],
   "source": [
    "parameters = dict(\n",
    "    learning_rate = [0.1, 0.5, 1.5],\n",
    "    n_estimators = [30, 200, 600],\n",
    "    max_depth = [2, 5, 6],\n",
    "    min_samples_split = [2, 10, 100],\n",
    "    subsample = [0.5, 1]\n",
    "    )"
   ]
  },
  {
   "cell_type": "code",
   "execution_count": 50,
   "metadata": {
    "id": "HTjZMFObmciz"
   },
   "outputs": [],
   "source": [
    "gb = GradientBoostingClassifier(random_state=RANDOM_STATE)"
   ]
  },
  {
   "cell_type": "code",
   "execution_count": 51,
   "metadata": {
    "colab": {
     "base_uri": "https://localhost:8080/",
     "height": 893
    },
    "executionInfo": {
     "elapsed": 417373,
     "status": "ok",
     "timestamp": 1647150858880,
     "user": {
      "displayName": "Ronaldlee Ejalu",
      "photoUrl": "https://lh3.googleusercontent.com/a-/AOh14Gi7xk3uTqSDq_yyGWoSsAw9V5JdwoAvamCudleogw=s64",
      "userId": "12494313714788869985"
     },
     "user_tz": 300
    },
    "id": "iK_h1XVqmcpT",
    "outputId": "5e214232-f07c-4c0c-c29f-b9317a7864af"
   },
   "outputs": [
    {
     "name": "stdout",
     "output_type": "stream",
     "text": [
      "BEST PARAMS: {'learning_rate': 0.1, 'max_depth': 5, 'min_samples_split': 100, 'n_estimators': 200, 'subsample': 0.5}\n",
      "\n",
      "\n",
      "\n",
      "The model's accuracy on training is : 0.97\n",
      "The model's accuracy on validation is : 0.9\n",
      "\n",
      "The Confusion Matrix is given below:\n"
     ]
    },
    {
     "data": {
      "image/png": "[encoded data removed]",
      "text/plain": [
       "<Figure size 432x288 with 2 Axes>"
      ]
     },
     "metadata": {
      "needs_background": "light"
     },
     "output_type": "display_data"
    },
    {
     "name": "stdout",
     "output_type": "stream",
     "text": [
      "Recall (Sensivity): 0.54\n",
      "Specificity: 0.96\n",
      "Precision: 0.72\n",
      "Balanced Accuracy: 0.75\n",
      "F1 Score: 0.62\n",
      "Profit: 11\n",
      "Wall time: 5min 11s\n"
     ]
    }
   ],
   "source": [
    "%%time\n",
    "\n",
    "scores, gb_best_est =classGridSearchCV('orig', gb, parameters, Xtrain, y_train, Xval, y_val, 'f1', scores)"
   ]
  },
  {
   "cell_type": "code",
   "execution_count": 52,
   "metadata": {
    "colab": {
     "base_uri": "https://localhost:8080/",
     "height": 758
    },
    "executionInfo": {
     "elapsed": 24,
     "status": "ok",
     "timestamp": 1647150858881,
     "user": {
      "displayName": "Ronaldlee Ejalu",
      "photoUrl": "https://lh3.googleusercontent.com/a-/AOh14Gi7xk3uTqSDq_yyGWoSsAw9V5JdwoAvamCudleogw=s64",
      "userId": "12494313714788869985"
     },
     "user_tz": 300
    },
    "id": "TFv4v3HuqkrH",
    "outputId": "ede35d72-b100-4815-da95-f39312404523"
   },
   "outputs": [
    {
     "data": {
      "text/html": [
       "<div>\n",
       "<style scoped>\n",
       "    .dataframe tbody tr th:only-of-type {\n",
       "        vertical-align: middle;\n",
       "    }\n",
       "\n",
       "    .dataframe tbody tr th {\n",
       "        vertical-align: top;\n",
       "    }\n",
       "\n",
       "    .dataframe thead th {\n",
       "        text-align: right;\n",
       "    }\n",
       "</style>\n",
       "<table border=\"1\" class=\"dataframe\">\n",
       "  <thead>\n",
       "    <tr style=\"text-align: right;\">\n",
       "      <th></th>\n",
       "      <th>model</th>\n",
       "      <th>train acc.</th>\n",
       "      <th>val acc.</th>\n",
       "      <th>acc. diff.</th>\n",
       "      <th>recall</th>\n",
       "      <th>specificity</th>\n",
       "      <th>precision</th>\n",
       "      <th>bal acc.</th>\n",
       "      <th>F1</th>\n",
       "      <th>profit</th>\n",
       "    </tr>\n",
       "  </thead>\n",
       "  <tbody>\n",
       "    <tr>\n",
       "      <th>0</th>\n",
       "      <td>LogisticRegression(C=0.5, class_weight='balanced', random_state=0)</td>\n",
       "      <td>0.79</td>\n",
       "      <td>0.79</td>\n",
       "      <td>0.00</td>\n",
       "      <td>0.73</td>\n",
       "      <td>0.80</td>\n",
       "      <td>0.38</td>\n",
       "      <td>0.76</td>\n",
       "      <td>0.50</td>\n",
       "      <td>81</td>\n",
       "    </tr>\n",
       "    <tr>\n",
       "      <th>1</th>\n",
       "      <td>SVC(C=100, class_weight='balanced', gamma=0.01, random_state=0)</td>\n",
       "      <td>0.85</td>\n",
       "      <td>0.80</td>\n",
       "      <td>0.05</td>\n",
       "      <td>0.75</td>\n",
       "      <td>0.80</td>\n",
       "      <td>0.39</td>\n",
       "      <td>0.78</td>\n",
       "      <td>0.51</td>\n",
       "      <td>106</td>\n",
       "    </tr>\n",
       "    <tr>\n",
       "      <th>2</th>\n",
       "      <td>KNeighborsClassifier(algorithm='ball_tree', leaf_size=5)</td>\n",
       "      <td>0.88</td>\n",
       "      <td>0.87</td>\n",
       "      <td>0.01</td>\n",
       "      <td>0.29</td>\n",
       "      <td>0.97</td>\n",
       "      <td>0.65</td>\n",
       "      <td>0.63</td>\n",
       "      <td>0.40</td>\n",
       "      <td>-266</td>\n",
       "    </tr>\n",
       "    <tr>\n",
       "      <th>3</th>\n",
       "      <td>DecisionTreeClassifier(class_weight='balanced', max_depth=10, max_features=18,\\n                       min_samples_leaf=10, min_samples_split=70,\\n                       random_state=0)</td>\n",
       "      <td>0.80</td>\n",
       "      <td>0.79</td>\n",
       "      <td>0.01</td>\n",
       "      <td>0.77</td>\n",
       "      <td>0.79</td>\n",
       "      <td>0.39</td>\n",
       "      <td>0.78</td>\n",
       "      <td>0.52</td>\n",
       "      <td>119</td>\n",
       "    </tr>\n",
       "    <tr>\n",
       "      <th>4</th>\n",
       "      <td>RandomForestClassifier(class_weight='balanced', max_depth=10, max_features=2,\\n                       min_samples_split=100, n_estimators=50, random_state=0)</td>\n",
       "      <td>0.81</td>\n",
       "      <td>0.82</td>\n",
       "      <td>-0.01</td>\n",
       "      <td>0.77</td>\n",
       "      <td>0.83</td>\n",
       "      <td>0.43</td>\n",
       "      <td>0.80</td>\n",
       "      <td>0.55</td>\n",
       "      <td>149</td>\n",
       "    </tr>\n",
       "    <tr>\n",
       "      <th>5</th>\n",
       "      <td>AdaBoostClassifier(learning_rate=0.5, random_state=0)</td>\n",
       "      <td>0.88</td>\n",
       "      <td>0.91</td>\n",
       "      <td>-0.03</td>\n",
       "      <td>0.44</td>\n",
       "      <td>0.99</td>\n",
       "      <td>0.85</td>\n",
       "      <td>0.72</td>\n",
       "      <td>0.58</td>\n",
       "      <td>-78</td>\n",
       "    </tr>\n",
       "    <tr>\n",
       "      <th>6</th>\n",
       "      <td>GradientBoostingClassifier(max_depth=5, min_samples_split=100, n_estimators=200,\\n                           random_state=0, subsample=0.5)</td>\n",
       "      <td>0.97</td>\n",
       "      <td>0.90</td>\n",
       "      <td>0.07</td>\n",
       "      <td>0.54</td>\n",
       "      <td>0.96</td>\n",
       "      <td>0.72</td>\n",
       "      <td>0.75</td>\n",
       "      <td>0.62</td>\n",
       "      <td>11</td>\n",
       "    </tr>\n",
       "  </tbody>\n",
       "</table>\n",
       "</div>"
      ],
      "text/plain": [
       "                                                                                                                                                                                       model  \\\n",
       "0                                                                                                                         LogisticRegression(C=0.5, class_weight='balanced', random_state=0)   \n",
       "1                                                                                                                            SVC(C=100, class_weight='balanced', gamma=0.01, random_state=0)   \n",
       "2                                                                                                                                   KNeighborsClassifier(algorithm='ball_tree', leaf_size=5)   \n",
       "3  DecisionTreeClassifier(class_weight='balanced', max_depth=10, max_features=18,\\n                       min_samples_leaf=10, min_samples_split=70,\\n                       random_state=0)   \n",
       "4                              RandomForestClassifier(class_weight='balanced', max_depth=10, max_features=2,\\n                       min_samples_split=100, n_estimators=50, random_state=0)   \n",
       "5                                                                                                                                      AdaBoostClassifier(learning_rate=0.5, random_state=0)   \n",
       "6                                                GradientBoostingClassifier(max_depth=5, min_samples_split=100, n_estimators=200,\\n                           random_state=0, subsample=0.5)   \n",
       "\n",
       "   train acc.  val acc.  acc. diff.  recall  specificity  precision  bal acc.  \\\n",
       "0        0.79      0.79        0.00    0.73         0.80       0.38      0.76   \n",
       "1        0.85      0.80        0.05    0.75         0.80       0.39      0.78   \n",
       "2        0.88      0.87        0.01    0.29         0.97       0.65      0.63   \n",
       "3        0.80      0.79        0.01    0.77         0.79       0.39      0.78   \n",
       "4        0.81      0.82       -0.01    0.77         0.83       0.43      0.80   \n",
       "5        0.88      0.91       -0.03    0.44         0.99       0.85      0.72   \n",
       "6        0.97      0.90        0.07    0.54         0.96       0.72      0.75   \n",
       "\n",
       "     F1 profit  \n",
       "0  0.50     81  \n",
       "1  0.51    106  \n",
       "2  0.40   -266  \n",
       "3  0.52    119  \n",
       "4  0.55    149  \n",
       "5  0.58    -78  \n",
       "6  0.62     11  "
      ]
     },
     "execution_count": 52,
     "metadata": {},
     "output_type": "execute_result"
    }
   ],
   "source": [
    "scores"
   ]
  },
  {
   "cell_type": "markdown",
   "metadata": {
    "id": "glS2xE0lgEGP"
   },
   "source": [
    "The Random Forest Classifier performed the best on the original standardized dataset, with a profit score of 149. The Decision Tree Classifier had the next highest profit, at 119."
   ]
  },
  {
   "cell_type": "markdown",
   "metadata": {
    "id": "WGE47H0H8m6T"
   },
   "source": [
    "## Create and Build Models Using Balanced Dataset"
   ]
  },
  {
   "cell_type": "code",
   "execution_count": 53,
   "metadata": {
    "colab": {
     "base_uri": "https://localhost:8080/"
    },
    "executionInfo": {
     "elapsed": 22,
     "status": "ok",
     "timestamp": 1647150858881,
     "user": {
      "displayName": "Ronaldlee Ejalu",
      "photoUrl": "https://lh3.googleusercontent.com/a-/AOh14Gi7xk3uTqSDq_yyGWoSsAw9V5JdwoAvamCudleogw=s64",
      "userId": "12494313714788869985"
     },
     "user_tz": 300
    },
    "id": "vayxah4aX6Iq",
    "outputId": "c2d9af26-3bef-43a0-c3cf-7b829b40eb90"
   },
   "outputs": [
    {
     "data": {
      "text/plain": [
       "0    1206\n",
       "1     224\n",
       "Name: Response, dtype: int64"
      ]
     },
     "execution_count": 53,
     "metadata": {},
     "output_type": "execute_result"
    }
   ],
   "source": [
    "y_train.value_counts()"
   ]
  },
  {
   "cell_type": "markdown",
   "metadata": {
    "id": "8-uJCmHfm7NR"
   },
   "source": [
    "The **Synthetic Minority OverSampling Technique** (SMOTE) package was used to create a more balanced dataset by oversampling the majority class using SMOTE and randomly undersampling the minority class with the goal of addressing the class imbalance problem and improving model performance."
   ]
  },
  {
   "cell_type": "code",
   "execution_count": 54,
   "metadata": {
    "id": "MwJ5fkEGwu08"
   },
   "outputs": [],
   "source": [
    "sampling_strategy_u = {0 : 500} \n",
    "sampling_strategy_o = {1: 800}\n",
    "\n",
    "# transform the data set\n",
    "\n",
    "overSample = SMOTE(sampling_strategy=sampling_strategy_o)\n",
    "underSample = RandomUnderSampler(sampling_strategy=sampling_strategy_u)\n",
    "# create the steps\n",
    "steps = [('o', overSample), ('u', underSample)]\n",
    "\n",
    "# create a pipeline object using the steps as your parameter\n",
    "pipeline=Pipeline(steps=steps)\n",
    "XtrainT, y_trainT = pipeline.fit_resample(Xtrain, y_train)"
   ]
  },
  {
   "cell_type": "markdown",
   "metadata": {
    "id": "YDjUkgRWi-vc"
   },
   "source": [
    "Now that we have a balanced data set, let's explore how we can **tune** the different classification algorithms."
   ]
  },
  {
   "cell_type": "markdown",
   "metadata": {
    "id": "62wDbI2GVlLG"
   },
   "source": [
    "### Logistic Regression"
   ]
  },
  {
   "cell_type": "code",
   "execution_count": 55,
   "metadata": {
    "colab": {
     "base_uri": "https://localhost:8080/"
    },
    "executionInfo": {
     "elapsed": 5,
     "status": "ok",
     "timestamp": 1647150859589,
     "user": {
      "displayName": "Ronaldlee Ejalu",
      "photoUrl": "https://lh3.googleusercontent.com/a-/AOh14Gi7xk3uTqSDq_yyGWoSsAw9V5JdwoAvamCudleogw=s64",
      "userId": "12494313714788869985"
     },
     "user_tz": 300
    },
    "id": "ZiYa7BFqWMF2",
    "outputId": "12092c68-640a-41c2-b943-84c8f014c494"
   },
   "outputs": [
    {
     "data": {
      "text/plain": [
       "{'C': [0.1, 0.5, 1, 10, 20, 30, 50]}"
      ]
     },
     "execution_count": 55,
     "metadata": {},
     "output_type": "execute_result"
    }
   ],
   "source": [
    "# Use GridSearchCV to find the **hyper parameters** for **Logistic regression**.\n",
    "\n",
    "parameters = {\n",
    "    'C': [0.1, 0.5, 1, 10, 20, 30, 50]\n",
    "    #'max_iter' : [10, 100, 200, 300, 500]\n",
    "} \n",
    "parameters"
   ]
  },
  {
   "cell_type": "code",
   "execution_count": 56,
   "metadata": {
    "id": "IXKvaoBxWMF3"
   },
   "outputs": [],
   "source": [
    "lr=LogisticRegression(max_iter=10000, random_state=RANDOM_STATE, solver='lbfgs')"
   ]
  },
  {
   "cell_type": "code",
   "execution_count": 57,
   "metadata": {
    "colab": {
     "base_uri": "https://localhost:8080/",
     "height": 874
    },
    "executionInfo": {
     "elapsed": 524,
     "status": "ok",
     "timestamp": 1647150860111,
     "user": {
      "displayName": "Ronaldlee Ejalu",
      "photoUrl": "https://lh3.googleusercontent.com/a-/AOh14Gi7xk3uTqSDq_yyGWoSsAw9V5JdwoAvamCudleogw=s64",
      "userId": "12494313714788869985"
     },
     "user_tz": 300
    },
    "id": "xUO4QFBwWMF3",
    "outputId": "6efbad40-3147-4416-e4d4-88dddda08bd7"
   },
   "outputs": [
    {
     "name": "stdout",
     "output_type": "stream",
     "text": [
      "BEST PARAMS: {'C': 10}\n",
      "\n",
      "\n",
      "\n",
      "The model's accuracy on training is : 0.81\n",
      "The model's accuracy on validation is : 0.66\n",
      "\n",
      "The Confusion Matrix is given below:\n"
     ]
    },
    {
     "data": {
      "image/png": "[encoded data removed]",
      "text/plain": [
       "<Figure size 432x288 with 2 Axes>"
      ]
     },
     "metadata": {
      "needs_background": "light"
     },
     "output_type": "display_data"
    },
    {
     "name": "stdout",
     "output_type": "stream",
     "text": [
      "Recall (Sensivity): 0.96\n",
      "Specificity: 0.61\n",
      "Precision: 0.3\n",
      "Balanced Accuracy: 0.78\n",
      "F1 Score: 0.46\n",
      "Profit: 174\n",
      "Wall time: 656 ms\n"
     ]
    }
   ],
   "source": [
    "%%time\n",
    "scores_balanced_ds, lr_bal_best_est =classGridSearchCV('bal', lr, parameters, XtrainT, y_trainT, Xval, y_val, 'f1', scores_balanced_ds)"
   ]
  },
  {
   "cell_type": "code",
   "execution_count": 58,
   "metadata": {},
   "outputs": [
    {
     "data": {
      "text/html": [
       "<div>\n",
       "<style scoped>\n",
       "    .dataframe tbody tr th:only-of-type {\n",
       "        vertical-align: middle;\n",
       "    }\n",
       "\n",
       "    .dataframe tbody tr th {\n",
       "        vertical-align: top;\n",
       "    }\n",
       "\n",
       "    .dataframe thead th {\n",
       "        text-align: right;\n",
       "    }\n",
       "</style>\n",
       "<table border=\"1\" class=\"dataframe\">\n",
       "  <thead>\n",
       "    <tr style=\"text-align: right;\">\n",
       "      <th></th>\n",
       "      <th>model</th>\n",
       "      <th>train acc.</th>\n",
       "      <th>val acc.</th>\n",
       "      <th>acc. diff.</th>\n",
       "      <th>recall</th>\n",
       "      <th>specificity</th>\n",
       "      <th>precision</th>\n",
       "      <th>bal acc.</th>\n",
       "      <th>F1</th>\n",
       "      <th>profit</th>\n",
       "    </tr>\n",
       "  </thead>\n",
       "  <tbody>\n",
       "    <tr>\n",
       "      <th>0</th>\n",
       "      <td>LogisticRegression(C=10, max_iter=10000, random_state=0)</td>\n",
       "      <td>0.81</td>\n",
       "      <td>0.66</td>\n",
       "      <td>0.15</td>\n",
       "      <td>0.96</td>\n",
       "      <td>0.61</td>\n",
       "      <td>0.3</td>\n",
       "      <td>0.78</td>\n",
       "      <td>0.46</td>\n",
       "      <td>174</td>\n",
       "    </tr>\n",
       "  </tbody>\n",
       "</table>\n",
       "</div>"
      ],
      "text/plain": [
       "                                                      model  train acc.  \\\n",
       "0  LogisticRegression(C=10, max_iter=10000, random_state=0)        0.81   \n",
       "\n",
       "   val acc.  acc. diff.  recall  specificity  precision  bal acc.    F1 profit  \n",
       "0      0.66        0.15    0.96         0.61        0.3      0.78  0.46    174  "
      ]
     },
     "execution_count": 58,
     "metadata": {},
     "output_type": "execute_result"
    }
   ],
   "source": [
    "scores_balanced_ds"
   ]
  },
  {
   "cell_type": "markdown",
   "metadata": {
    "id": "oLUPyB71Wrah"
   },
   "source": [
    "### Support Vector Machines Classifier"
   ]
  },
  {
   "cell_type": "code",
   "execution_count": 59,
   "metadata": {
    "colab": {
     "base_uri": "https://localhost:8080/"
    },
    "executionInfo": {
     "elapsed": 8,
     "status": "ok",
     "timestamp": 1647150860111,
     "user": {
      "displayName": "Ronaldlee Ejalu",
      "photoUrl": "https://lh3.googleusercontent.com/a-/AOh14Gi7xk3uTqSDq_yyGWoSsAw9V5JdwoAvamCudleogw=s64",
      "userId": "12494313714788869985"
     },
     "user_tz": 300
    },
    "id": "gm7Z08sBW-pk",
    "outputId": "d7ad0f00-1f1e-471f-de20-152f2f9fddc2"
   },
   "outputs": [
    {
     "data": {
      "text/plain": [
       "{'C': [0.01, 0.1, 1, 10, 25, 50, 100, 200, 300],\n",
       " 'gamma': [0.1, 1, 2],\n",
       " 'kernel': ['linear', 'rbf']}"
      ]
     },
     "execution_count": 59,
     "metadata": {},
     "output_type": "execute_result"
    }
   ],
   "source": [
    "parameters = {\n",
    "    'C': [.01, .1, 1, 10, 25, 50, 100, 200, 300],\n",
    "    'gamma': [0.1, 1, 2],\n",
    "    'kernel': ['linear', 'rbf']\n",
    "}\n",
    "parameters"
   ]
  },
  {
   "cell_type": "code",
   "execution_count": 60,
   "metadata": {
    "id": "O2ucPG4DW-pl"
   },
   "outputs": [],
   "source": [
    "svc = SVC(random_state=RANDOM_STATE)"
   ]
  },
  {
   "cell_type": "code",
   "execution_count": 61,
   "metadata": {
    "colab": {
     "base_uri": "https://localhost:8080/",
     "height": 873
    },
    "executionInfo": {
     "elapsed": 6085,
     "status": "ok",
     "timestamp": 1647150866897,
     "user": {
      "displayName": "Ronaldlee Ejalu",
      "photoUrl": "https://lh3.googleusercontent.com/a-/AOh14Gi7xk3uTqSDq_yyGWoSsAw9V5JdwoAvamCudleogw=s64",
      "userId": "12494313714788869985"
     },
     "user_tz": 300
    },
    "id": "8Eb2uY8TW-pl",
    "outputId": "37cc87e5-ed91-448d-ab88-3f22eb2449f6"
   },
   "outputs": [
    {
     "name": "stdout",
     "output_type": "stream",
     "text": [
      "BEST PARAMS: {'C': 1, 'gamma': 1, 'kernel': 'rbf'}\n",
      "\n",
      "\n",
      "\n",
      "The model's accuracy on training is : 0.99\n",
      "The model's accuracy on validation is : 0.8\n",
      "\n",
      "The Confusion Matrix is given below:\n"
     ]
    },
    {
     "data": {
      "image/png": "[encoded data removed]",
      "text/plain": [
       "<Figure size 432x288 with 2 Axes>"
      ]
     },
     "metadata": {
      "needs_background": "light"
     },
     "output_type": "display_data"
    },
    {
     "name": "stdout",
     "output_type": "stream",
     "text": [
      "Recall (Sensivity): 0.33\n",
      "Specificity: 0.89\n",
      "Precision: 0.33\n",
      "Balanced Accuracy: 0.61\n",
      "F1 Score: 0.33\n",
      "Profit: -303\n",
      "Wall time: 1min 18s\n"
     ]
    }
   ],
   "source": [
    "%%time\n",
    "scores_balanced_ds, svc_bal_best_est =classGridSearchCV('bal', svc, parameters, XtrainT, y_trainT, Xval, y_val, 'f1', scores_balanced_ds)"
   ]
  },
  {
   "cell_type": "code",
   "execution_count": 62,
   "metadata": {
    "colab": {
     "base_uri": "https://localhost:8080/",
     "height": 191
    },
    "executionInfo": {
     "elapsed": 14,
     "status": "ok",
     "timestamp": 1647150866897,
     "user": {
      "displayName": "Ronaldlee Ejalu",
      "photoUrl": "https://lh3.googleusercontent.com/a-/AOh14Gi7xk3uTqSDq_yyGWoSsAw9V5JdwoAvamCudleogw=s64",
      "userId": "12494313714788869985"
     },
     "user_tz": 300
    },
    "id": "xakoP7YdW-pl",
    "outputId": "11733d57-4503-40f3-89dd-7c59a22ed0cd"
   },
   "outputs": [
    {
     "data": {
      "text/html": [
       "<div>\n",
       "<style scoped>\n",
       "    .dataframe tbody tr th:only-of-type {\n",
       "        vertical-align: middle;\n",
       "    }\n",
       "\n",
       "    .dataframe tbody tr th {\n",
       "        vertical-align: top;\n",
       "    }\n",
       "\n",
       "    .dataframe thead th {\n",
       "        text-align: right;\n",
       "    }\n",
       "</style>\n",
       "<table border=\"1\" class=\"dataframe\">\n",
       "  <thead>\n",
       "    <tr style=\"text-align: right;\">\n",
       "      <th></th>\n",
       "      <th>model</th>\n",
       "      <th>train acc.</th>\n",
       "      <th>val acc.</th>\n",
       "      <th>acc. diff.</th>\n",
       "      <th>recall</th>\n",
       "      <th>specificity</th>\n",
       "      <th>precision</th>\n",
       "      <th>bal acc.</th>\n",
       "      <th>F1</th>\n",
       "      <th>profit</th>\n",
       "    </tr>\n",
       "  </thead>\n",
       "  <tbody>\n",
       "    <tr>\n",
       "      <th>0</th>\n",
       "      <td>LogisticRegression(C=10, max_iter=10000, random_state=0)</td>\n",
       "      <td>0.81</td>\n",
       "      <td>0.66</td>\n",
       "      <td>0.15</td>\n",
       "      <td>0.96</td>\n",
       "      <td>0.61</td>\n",
       "      <td>0.30</td>\n",
       "      <td>0.78</td>\n",
       "      <td>0.46</td>\n",
       "      <td>174</td>\n",
       "    </tr>\n",
       "    <tr>\n",
       "      <th>1</th>\n",
       "      <td>SVC(C=1, gamma=1, random_state=0)</td>\n",
       "      <td>0.99</td>\n",
       "      <td>0.80</td>\n",
       "      <td>0.19</td>\n",
       "      <td>0.33</td>\n",
       "      <td>0.89</td>\n",
       "      <td>0.33</td>\n",
       "      <td>0.61</td>\n",
       "      <td>0.33</td>\n",
       "      <td>-303</td>\n",
       "    </tr>\n",
       "  </tbody>\n",
       "</table>\n",
       "</div>"
      ],
      "text/plain": [
       "                                                      model  train acc.  \\\n",
       "0  LogisticRegression(C=10, max_iter=10000, random_state=0)        0.81   \n",
       "1                         SVC(C=1, gamma=1, random_state=0)        0.99   \n",
       "\n",
       "   val acc.  acc. diff.  recall  specificity  precision  bal acc.    F1 profit  \n",
       "0      0.66        0.15    0.96         0.61       0.30      0.78  0.46    174  \n",
       "1      0.80        0.19    0.33         0.89       0.33      0.61  0.33   -303  "
      ]
     },
     "execution_count": 62,
     "metadata": {},
     "output_type": "execute_result"
    }
   ],
   "source": [
    "scores_balanced_ds"
   ]
  },
  {
   "cell_type": "markdown",
   "metadata": {},
   "source": [
    "### KNN Classifier"
   ]
  },
  {
   "cell_type": "code",
   "execution_count": 63,
   "metadata": {},
   "outputs": [],
   "source": [
    "parameters = {\n",
    "    'n_neighbors': [1, 3, 5, 10],\n",
    "    'weights' : ['uniform', 'distance'],\n",
    "    'algorithm' : ['auto', 'ball_tree', 'kd_tree', 'brute'],\n",
    "    'leaf_size' : [2, 5, 15, 30, 50, 100, 200]\n",
    "}"
   ]
  },
  {
   "cell_type": "code",
   "execution_count": 64,
   "metadata": {
    "id": "JahYZSMTXwuR"
   },
   "outputs": [],
   "source": [
    "knc = KNeighborsClassifier()"
   ]
  },
  {
   "cell_type": "code",
   "execution_count": 65,
   "metadata": {
    "colab": {
     "base_uri": "https://localhost:8080/",
     "height": 873
    },
    "executionInfo": {
     "elapsed": 7747,
     "status": "ok",
     "timestamp": 1647150874953,
     "user": {
      "displayName": "Ronaldlee Ejalu",
      "photoUrl": "https://lh3.googleusercontent.com/a-/AOh14Gi7xk3uTqSDq_yyGWoSsAw9V5JdwoAvamCudleogw=s64",
      "userId": "12494313714788869985"
     },
     "user_tz": 300
    },
    "id": "nBigwYt_XwuR",
    "outputId": "5ae052e1-bcf7-4414-ae37-277a84839cd1"
   },
   "outputs": [
    {
     "name": "stdout",
     "output_type": "stream",
     "text": [
      "BEST PARAMS: {'algorithm': 'auto', 'leaf_size': 2, 'n_neighbors': 1, 'weights': 'uniform'}\n",
      "\n",
      "\n",
      "\n",
      "The model's accuracy on training is : 1.0\n",
      "The model's accuracy on validation is : 0.72\n",
      "\n",
      "The Confusion Matrix is given below:\n"
     ]
    },
    {
     "data": {
      "image/png": "[encoded data removed]",
      "text/plain": [
       "<Figure size 432x288 with 2 Axes>"
      ]
     },
     "metadata": {
      "needs_background": "light"
     },
     "output_type": "display_data"
    },
    {
     "name": "stdout",
     "output_type": "stream",
     "text": [
      "Recall (Sensivity): 0.58\n",
      "Specificity: 0.75\n",
      "Precision: 0.28\n",
      "Balanced Accuracy: 0.66\n",
      "F1 Score: 0.38\n",
      "Profit: -143\n",
      "Wall time: 7.82 s\n"
     ]
    }
   ],
   "source": [
    "%%time\n",
    "scores_balanced_ds, knc_bal_best_est =classGridSearchCV('bal', knc, parameters, XtrainT, y_trainT, Xval, y_val, 'f1', scores_balanced_ds)"
   ]
  },
  {
   "cell_type": "code",
   "execution_count": 66,
   "metadata": {
    "colab": {
     "base_uri": "https://localhost:8080/",
     "height": 240
    },
    "executionInfo": {
     "elapsed": 7,
     "status": "ok",
     "timestamp": 1647150874954,
     "user": {
      "displayName": "Ronaldlee Ejalu",
      "photoUrl": "https://lh3.googleusercontent.com/a-/AOh14Gi7xk3uTqSDq_yyGWoSsAw9V5JdwoAvamCudleogw=s64",
      "userId": "12494313714788869985"
     },
     "user_tz": 300
    },
    "id": "F_jc1BJdXwuS",
    "outputId": "d45793f1-9bea-4b86-b86c-3aec770148a8"
   },
   "outputs": [
    {
     "data": {
      "text/html": [
       "<div>\n",
       "<style scoped>\n",
       "    .dataframe tbody tr th:only-of-type {\n",
       "        vertical-align: middle;\n",
       "    }\n",
       "\n",
       "    .dataframe tbody tr th {\n",
       "        vertical-align: top;\n",
       "    }\n",
       "\n",
       "    .dataframe thead th {\n",
       "        text-align: right;\n",
       "    }\n",
       "</style>\n",
       "<table border=\"1\" class=\"dataframe\">\n",
       "  <thead>\n",
       "    <tr style=\"text-align: right;\">\n",
       "      <th></th>\n",
       "      <th>model</th>\n",
       "      <th>train acc.</th>\n",
       "      <th>val acc.</th>\n",
       "      <th>acc. diff.</th>\n",
       "      <th>recall</th>\n",
       "      <th>specificity</th>\n",
       "      <th>precision</th>\n",
       "      <th>bal acc.</th>\n",
       "      <th>F1</th>\n",
       "      <th>profit</th>\n",
       "    </tr>\n",
       "  </thead>\n",
       "  <tbody>\n",
       "    <tr>\n",
       "      <th>0</th>\n",
       "      <td>LogisticRegression(C=10, max_iter=10000, random_state=0)</td>\n",
       "      <td>0.81</td>\n",
       "      <td>0.66</td>\n",
       "      <td>0.15</td>\n",
       "      <td>0.96</td>\n",
       "      <td>0.61</td>\n",
       "      <td>0.30</td>\n",
       "      <td>0.78</td>\n",
       "      <td>0.46</td>\n",
       "      <td>174</td>\n",
       "    </tr>\n",
       "    <tr>\n",
       "      <th>1</th>\n",
       "      <td>SVC(C=1, gamma=1, random_state=0)</td>\n",
       "      <td>0.99</td>\n",
       "      <td>0.80</td>\n",
       "      <td>0.19</td>\n",
       "      <td>0.33</td>\n",
       "      <td>0.89</td>\n",
       "      <td>0.33</td>\n",
       "      <td>0.61</td>\n",
       "      <td>0.33</td>\n",
       "      <td>-303</td>\n",
       "    </tr>\n",
       "    <tr>\n",
       "      <th>2</th>\n",
       "      <td>KNeighborsClassifier(leaf_size=2, n_neighbors=1)</td>\n",
       "      <td>1.00</td>\n",
       "      <td>0.72</td>\n",
       "      <td>0.28</td>\n",
       "      <td>0.58</td>\n",
       "      <td>0.75</td>\n",
       "      <td>0.28</td>\n",
       "      <td>0.66</td>\n",
       "      <td>0.38</td>\n",
       "      <td>-143</td>\n",
       "    </tr>\n",
       "  </tbody>\n",
       "</table>\n",
       "</div>"
      ],
      "text/plain": [
       "                                                      model  train acc.  \\\n",
       "0  LogisticRegression(C=10, max_iter=10000, random_state=0)        0.81   \n",
       "1                         SVC(C=1, gamma=1, random_state=0)        0.99   \n",
       "2          KNeighborsClassifier(leaf_size=2, n_neighbors=1)        1.00   \n",
       "\n",
       "   val acc.  acc. diff.  recall  specificity  precision  bal acc.    F1 profit  \n",
       "0      0.66        0.15    0.96         0.61       0.30      0.78  0.46    174  \n",
       "1      0.80        0.19    0.33         0.89       0.33      0.61  0.33   -303  \n",
       "2      0.72        0.28    0.58         0.75       0.28      0.66  0.38   -143  "
      ]
     },
     "execution_count": 66,
     "metadata": {},
     "output_type": "execute_result"
    }
   ],
   "source": [
    "scores_balanced_ds"
   ]
  },
  {
   "cell_type": "markdown",
   "metadata": {
    "id": "GyIe7IiHYGTF"
   },
   "source": [
    "### Decision Tree Classifier"
   ]
  },
  {
   "cell_type": "code",
   "execution_count": 67,
   "metadata": {
    "id": "HmETKRrBYQjD"
   },
   "outputs": [],
   "source": [
    "parameters = {\n",
    "    'max_depth': [5, 10, 15],\n",
    "    'min_samples_split' : [2, 5, 10],\n",
    "    'min_samples_leaf' : [2, 5, 10, 100],\n",
    "    'max_features': [1, 5, 18]\n",
    "}"
   ]
  },
  {
   "cell_type": "code",
   "execution_count": 68,
   "metadata": {
    "id": "h5usIP9nYQjD"
   },
   "outputs": [],
   "source": [
    "dt = DecisionTreeClassifier(random_state=RANDOM_STATE)"
   ]
  },
  {
   "cell_type": "code",
   "execution_count": 69,
   "metadata": {
    "colab": {
     "base_uri": "https://localhost:8080/",
     "height": 873
    },
    "executionInfo": {
     "elapsed": 1971,
     "status": "ok",
     "timestamp": 1647150876920,
     "user": {
      "displayName": "Ronaldlee Ejalu",
      "photoUrl": "https://lh3.googleusercontent.com/a-/AOh14Gi7xk3uTqSDq_yyGWoSsAw9V5JdwoAvamCudleogw=s64",
      "userId": "12494313714788869985"
     },
     "user_tz": 300
    },
    "id": "2aZCZ4TUYQjD",
    "outputId": "fe30c895-d7fb-4cdc-b90f-23a92c5fce9c"
   },
   "outputs": [
    {
     "name": "stdout",
     "output_type": "stream",
     "text": [
      "BEST PARAMS: {'max_depth': 10, 'max_features': 5, 'min_samples_leaf': 5, 'min_samples_split': 2}\n",
      "\n",
      "\n",
      "\n",
      "The model's accuracy on training is : 0.9\n",
      "The model's accuracy on validation is : 0.74\n",
      "\n",
      "The Confusion Matrix is given below:\n"
     ]
    },
    {
     "data": {
      "image/png": "[encoded data removed]",
      "text/plain": [
       "<Figure size 432x288 with 2 Axes>"
      ]
     },
     "metadata": {
      "needs_background": "light"
     },
     "output_type": "display_data"
    },
    {
     "name": "stdout",
     "output_type": "stream",
     "text": [
      "Recall (Sensivity): 0.75\n",
      "Specificity: 0.74\n",
      "Precision: 0.32\n",
      "Balanced Accuracy: 0.74\n",
      "F1 Score: 0.45\n",
      "Profit: 43\n",
      "Wall time: 2.38 s\n"
     ]
    }
   ],
   "source": [
    "%%time\n",
    "scores_balanced_ds, dt_bal_best_est =classGridSearchCV('bal', dt, parameters, XtrainT, y_trainT, Xval, y_val, 'f1', scores_balanced_ds)"
   ]
  },
  {
   "cell_type": "code",
   "execution_count": 70,
   "metadata": {
    "colab": {
     "base_uri": "https://localhost:8080/",
     "height": 288
    },
    "executionInfo": {
     "elapsed": 8,
     "status": "ok",
     "timestamp": 1647150876921,
     "user": {
      "displayName": "Ronaldlee Ejalu",
      "photoUrl": "https://lh3.googleusercontent.com/a-/AOh14Gi7xk3uTqSDq_yyGWoSsAw9V5JdwoAvamCudleogw=s64",
      "userId": "12494313714788869985"
     },
     "user_tz": 300
    },
    "id": "29hVnzIlYQjD",
    "outputId": "0221747e-1ff3-42c4-f391-61958c661689"
   },
   "outputs": [
    {
     "data": {
      "text/html": [
       "<div>\n",
       "<style scoped>\n",
       "    .dataframe tbody tr th:only-of-type {\n",
       "        vertical-align: middle;\n",
       "    }\n",
       "\n",
       "    .dataframe tbody tr th {\n",
       "        vertical-align: top;\n",
       "    }\n",
       "\n",
       "    .dataframe thead th {\n",
       "        text-align: right;\n",
       "    }\n",
       "</style>\n",
       "<table border=\"1\" class=\"dataframe\">\n",
       "  <thead>\n",
       "    <tr style=\"text-align: right;\">\n",
       "      <th></th>\n",
       "      <th>model</th>\n",
       "      <th>train acc.</th>\n",
       "      <th>val acc.</th>\n",
       "      <th>acc. diff.</th>\n",
       "      <th>recall</th>\n",
       "      <th>specificity</th>\n",
       "      <th>precision</th>\n",
       "      <th>bal acc.</th>\n",
       "      <th>F1</th>\n",
       "      <th>profit</th>\n",
       "    </tr>\n",
       "  </thead>\n",
       "  <tbody>\n",
       "    <tr>\n",
       "      <th>0</th>\n",
       "      <td>LogisticRegression(C=10, max_iter=10000, random_state=0)</td>\n",
       "      <td>0.81</td>\n",
       "      <td>0.66</td>\n",
       "      <td>0.15</td>\n",
       "      <td>0.96</td>\n",
       "      <td>0.61</td>\n",
       "      <td>0.30</td>\n",
       "      <td>0.78</td>\n",
       "      <td>0.46</td>\n",
       "      <td>174</td>\n",
       "    </tr>\n",
       "    <tr>\n",
       "      <th>1</th>\n",
       "      <td>SVC(C=1, gamma=1, random_state=0)</td>\n",
       "      <td>0.99</td>\n",
       "      <td>0.80</td>\n",
       "      <td>0.19</td>\n",
       "      <td>0.33</td>\n",
       "      <td>0.89</td>\n",
       "      <td>0.33</td>\n",
       "      <td>0.61</td>\n",
       "      <td>0.33</td>\n",
       "      <td>-303</td>\n",
       "    </tr>\n",
       "    <tr>\n",
       "      <th>2</th>\n",
       "      <td>KNeighborsClassifier(leaf_size=2, n_neighbors=1)</td>\n",
       "      <td>1.00</td>\n",
       "      <td>0.72</td>\n",
       "      <td>0.28</td>\n",
       "      <td>0.58</td>\n",
       "      <td>0.75</td>\n",
       "      <td>0.28</td>\n",
       "      <td>0.66</td>\n",
       "      <td>0.38</td>\n",
       "      <td>-143</td>\n",
       "    </tr>\n",
       "    <tr>\n",
       "      <th>3</th>\n",
       "      <td>DecisionTreeClassifier(max_depth=10, max_features=5, min_samples_leaf=5,\\n                       random_state=0)</td>\n",
       "      <td>0.90</td>\n",
       "      <td>0.74</td>\n",
       "      <td>0.16</td>\n",
       "      <td>0.75</td>\n",
       "      <td>0.74</td>\n",
       "      <td>0.32</td>\n",
       "      <td>0.74</td>\n",
       "      <td>0.45</td>\n",
       "      <td>43</td>\n",
       "    </tr>\n",
       "  </tbody>\n",
       "</table>\n",
       "</div>"
      ],
      "text/plain": [
       "                                                                                                              model  \\\n",
       "0                                                          LogisticRegression(C=10, max_iter=10000, random_state=0)   \n",
       "1                                                                                 SVC(C=1, gamma=1, random_state=0)   \n",
       "2                                                                  KNeighborsClassifier(leaf_size=2, n_neighbors=1)   \n",
       "3  DecisionTreeClassifier(max_depth=10, max_features=5, min_samples_leaf=5,\\n                       random_state=0)   \n",
       "\n",
       "   train acc.  val acc.  acc. diff.  recall  specificity  precision  bal acc.  \\\n",
       "0        0.81      0.66        0.15    0.96         0.61       0.30      0.78   \n",
       "1        0.99      0.80        0.19    0.33         0.89       0.33      0.61   \n",
       "2        1.00      0.72        0.28    0.58         0.75       0.28      0.66   \n",
       "3        0.90      0.74        0.16    0.75         0.74       0.32      0.74   \n",
       "\n",
       "     F1 profit  \n",
       "0  0.46    174  \n",
       "1  0.33   -303  \n",
       "2  0.38   -143  \n",
       "3  0.45     43  "
      ]
     },
     "execution_count": 70,
     "metadata": {},
     "output_type": "execute_result"
    }
   ],
   "source": [
    "scores_balanced_ds"
   ]
  },
  {
   "cell_type": "markdown",
   "metadata": {
    "id": "d8CFMbeXoXSj"
   },
   "source": [
    "### Random Forest Classifier"
   ]
  },
  {
   "cell_type": "code",
   "execution_count": 71,
   "metadata": {
    "id": "DO2LZEKWBRbR"
   },
   "outputs": [],
   "source": [
    "parameters = {\n",
    "    'n_estimators' : [50, 100, 150],\n",
    "    'max_depth': [5,10,20],\n",
    "    'min_samples_split' : [2, 10, 50],\n",
    "    'max_features': [2, 5, 18],\n",
    "    'bootstrap': [True, False]\n",
    "}"
   ]
  },
  {
   "cell_type": "code",
   "execution_count": 72,
   "metadata": {
    "id": "6NjbGBFjBSVm"
   },
   "outputs": [],
   "source": [
    "rfc = RandomForestClassifier(random_state=RANDOM_STATE)"
   ]
  },
  {
   "cell_type": "code",
   "execution_count": 73,
   "metadata": {
    "colab": {
     "base_uri": "https://localhost:8080/",
     "height": 897
    },
    "executionInfo": {
     "elapsed": 168420,
     "status": "ok",
     "timestamp": 1647151045335,
     "user": {
      "displayName": "Ronaldlee Ejalu",
      "photoUrl": "https://lh3.googleusercontent.com/a-/AOh14Gi7xk3uTqSDq_yyGWoSsAw9V5JdwoAvamCudleogw=s64",
      "userId": "12494313714788869985"
     },
     "user_tz": 300
    },
    "id": "_eTxlo05BcU1",
    "outputId": "b0b41c3a-8666-466e-879e-8b1445e615b1"
   },
   "outputs": [
    {
     "name": "stdout",
     "output_type": "stream",
     "text": [
      "BEST PARAMS: {'bootstrap': False, 'max_depth': 20, 'max_features': 2, 'min_samples_split': 2, 'n_estimators': 150}\n",
      "\n",
      "\n",
      "\n",
      "The model's accuracy on training is : 1.0\n",
      "The model's accuracy on validation is : 0.82\n",
      "\n",
      "The Confusion Matrix is given below:\n"
     ]
    },
    {
     "data": {
      "image/png": "[encoded data removed]",
      "text/plain": [
       "<Figure size 432x288 with 2 Axes>"
      ]
     },
     "metadata": {
      "needs_background": "light"
     },
     "output_type": "display_data"
    },
    {
     "name": "stdout",
     "output_type": "stream",
     "text": [
      "Recall (Sensivity): 0.71\n",
      "Specificity: 0.84\n",
      "Precision: 0.44\n",
      "Balanced Accuracy: 0.77\n",
      "F1 Score: 0.54\n",
      "Profit: 98\n",
      "Wall time: 2min 19s\n"
     ]
    }
   ],
   "source": [
    "%%time\n",
    "scores_balanced_ds, rf_bal_best_est =classGridSearchCV('bal', rfc, parameters, XtrainT, y_trainT, Xval, y_val, 'f1', scores_balanced_ds)"
   ]
  },
  {
   "cell_type": "code",
   "execution_count": 74,
   "metadata": {
    "colab": {
     "base_uri": "https://localhost:8080/",
     "height": 354
    },
    "executionInfo": {
     "elapsed": 7,
     "status": "ok",
     "timestamp": 1647151045335,
     "user": {
      "displayName": "Ronaldlee Ejalu",
      "photoUrl": "https://lh3.googleusercontent.com/a-/AOh14Gi7xk3uTqSDq_yyGWoSsAw9V5JdwoAvamCudleogw=s64",
      "userId": "12494313714788869985"
     },
     "user_tz": 300
    },
    "id": "0vJdi9ZLKYjS",
    "outputId": "37aa4259-a9ca-4999-a373-03f965f75573"
   },
   "outputs": [
    {
     "data": {
      "text/html": [
       "<div>\n",
       "<style scoped>\n",
       "    .dataframe tbody tr th:only-of-type {\n",
       "        vertical-align: middle;\n",
       "    }\n",
       "\n",
       "    .dataframe tbody tr th {\n",
       "        vertical-align: top;\n",
       "    }\n",
       "\n",
       "    .dataframe thead th {\n",
       "        text-align: right;\n",
       "    }\n",
       "</style>\n",
       "<table border=\"1\" class=\"dataframe\">\n",
       "  <thead>\n",
       "    <tr style=\"text-align: right;\">\n",
       "      <th></th>\n",
       "      <th>model</th>\n",
       "      <th>train acc.</th>\n",
       "      <th>val acc.</th>\n",
       "      <th>acc. diff.</th>\n",
       "      <th>recall</th>\n",
       "      <th>specificity</th>\n",
       "      <th>precision</th>\n",
       "      <th>bal acc.</th>\n",
       "      <th>F1</th>\n",
       "      <th>profit</th>\n",
       "    </tr>\n",
       "  </thead>\n",
       "  <tbody>\n",
       "    <tr>\n",
       "      <th>0</th>\n",
       "      <td>LogisticRegression(C=10, max_iter=10000, random_state=0)</td>\n",
       "      <td>0.81</td>\n",
       "      <td>0.66</td>\n",
       "      <td>0.15</td>\n",
       "      <td>0.96</td>\n",
       "      <td>0.61</td>\n",
       "      <td>0.30</td>\n",
       "      <td>0.78</td>\n",
       "      <td>0.46</td>\n",
       "      <td>174</td>\n",
       "    </tr>\n",
       "    <tr>\n",
       "      <th>1</th>\n",
       "      <td>SVC(C=1, gamma=1, random_state=0)</td>\n",
       "      <td>0.99</td>\n",
       "      <td>0.80</td>\n",
       "      <td>0.19</td>\n",
       "      <td>0.33</td>\n",
       "      <td>0.89</td>\n",
       "      <td>0.33</td>\n",
       "      <td>0.61</td>\n",
       "      <td>0.33</td>\n",
       "      <td>-303</td>\n",
       "    </tr>\n",
       "    <tr>\n",
       "      <th>2</th>\n",
       "      <td>KNeighborsClassifier(leaf_size=2, n_neighbors=1)</td>\n",
       "      <td>1.00</td>\n",
       "      <td>0.72</td>\n",
       "      <td>0.28</td>\n",
       "      <td>0.58</td>\n",
       "      <td>0.75</td>\n",
       "      <td>0.28</td>\n",
       "      <td>0.66</td>\n",
       "      <td>0.38</td>\n",
       "      <td>-143</td>\n",
       "    </tr>\n",
       "    <tr>\n",
       "      <th>3</th>\n",
       "      <td>DecisionTreeClassifier(max_depth=10, max_features=5, min_samples_leaf=5,\\n                       random_state=0)</td>\n",
       "      <td>0.90</td>\n",
       "      <td>0.74</td>\n",
       "      <td>0.16</td>\n",
       "      <td>0.75</td>\n",
       "      <td>0.74</td>\n",
       "      <td>0.32</td>\n",
       "      <td>0.74</td>\n",
       "      <td>0.45</td>\n",
       "      <td>43</td>\n",
       "    </tr>\n",
       "    <tr>\n",
       "      <th>4</th>\n",
       "      <td>RandomForestClassifier(bootstrap=False, max_depth=20, max_features=2,\\n                       n_estimators=150, random_state=0)</td>\n",
       "      <td>1.00</td>\n",
       "      <td>0.82</td>\n",
       "      <td>0.18</td>\n",
       "      <td>0.71</td>\n",
       "      <td>0.84</td>\n",
       "      <td>0.44</td>\n",
       "      <td>0.77</td>\n",
       "      <td>0.54</td>\n",
       "      <td>98</td>\n",
       "    </tr>\n",
       "  </tbody>\n",
       "</table>\n",
       "</div>"
      ],
      "text/plain": [
       "                                                                                                                             model  \\\n",
       "0                                                                         LogisticRegression(C=10, max_iter=10000, random_state=0)   \n",
       "1                                                                                                SVC(C=1, gamma=1, random_state=0)   \n",
       "2                                                                                 KNeighborsClassifier(leaf_size=2, n_neighbors=1)   \n",
       "3                 DecisionTreeClassifier(max_depth=10, max_features=5, min_samples_leaf=5,\\n                       random_state=0)   \n",
       "4  RandomForestClassifier(bootstrap=False, max_depth=20, max_features=2,\\n                       n_estimators=150, random_state=0)   \n",
       "\n",
       "   train acc.  val acc.  acc. diff.  recall  specificity  precision  bal acc.  \\\n",
       "0        0.81      0.66        0.15    0.96         0.61       0.30      0.78   \n",
       "1        0.99      0.80        0.19    0.33         0.89       0.33      0.61   \n",
       "2        1.00      0.72        0.28    0.58         0.75       0.28      0.66   \n",
       "3        0.90      0.74        0.16    0.75         0.74       0.32      0.74   \n",
       "4        1.00      0.82        0.18    0.71         0.84       0.44      0.77   \n",
       "\n",
       "     F1 profit  \n",
       "0  0.46    174  \n",
       "1  0.33   -303  \n",
       "2  0.38   -143  \n",
       "3  0.45     43  \n",
       "4  0.54     98  "
      ]
     },
     "execution_count": 74,
     "metadata": {},
     "output_type": "execute_result"
    }
   ],
   "source": [
    "scores_balanced_ds"
   ]
  },
  {
   "cell_type": "markdown",
   "metadata": {
    "id": "lY9JasdvZO4v"
   },
   "source": [
    "### Adaboost Classifier"
   ]
  },
  {
   "cell_type": "code",
   "execution_count": 75,
   "metadata": {
    "id": "DTCetlcUZa8v"
   },
   "outputs": [],
   "source": [
    "parameters = {\n",
    "    'n_estimators' : [200, 400, 600],\n",
    "    'learning_rate': [0.3, 0.5, 1.0]\n",
    "}"
   ]
  },
  {
   "cell_type": "code",
   "execution_count": 76,
   "metadata": {
    "id": "EL2lEAwIZa8w"
   },
   "outputs": [],
   "source": [
    "ab = AdaBoostClassifier(random_state=RANDOM_STATE)"
   ]
  },
  {
   "cell_type": "code",
   "execution_count": 77,
   "metadata": {
    "colab": {
     "base_uri": "https://localhost:8080/",
     "height": 873
    },
    "executionInfo": {
     "elapsed": 20856,
     "status": "ok",
     "timestamp": 1647151066187,
     "user": {
      "displayName": "Ronaldlee Ejalu",
      "photoUrl": "https://lh3.googleusercontent.com/a-/AOh14Gi7xk3uTqSDq_yyGWoSsAw9V5JdwoAvamCudleogw=s64",
      "userId": "12494313714788869985"
     },
     "user_tz": 300
    },
    "id": "8Qvy0MYoZa8w",
    "outputId": "370b4151-2e6d-45f1-be53-4e5811219748"
   },
   "outputs": [
    {
     "name": "stdout",
     "output_type": "stream",
     "text": [
      "BEST PARAMS: {'learning_rate': 1.0, 'n_estimators': 200}\n",
      "\n",
      "\n",
      "\n",
      "The model's accuracy on training is : 0.92\n",
      "The model's accuracy on validation is : 0.8\n",
      "\n",
      "The Confusion Matrix is given below:\n"
     ]
    },
    {
     "data": {
      "image/png": "[encoded data removed]",
      "text/plain": [
       "<Figure size 432x288 with 2 Axes>"
      ]
     },
     "metadata": {
      "needs_background": "light"
     },
     "output_type": "display_data"
    },
    {
     "name": "stdout",
     "output_type": "stream",
     "text": [
      "Recall (Sensivity): 0.79\n",
      "Specificity: 0.8\n",
      "Precision: 0.4\n",
      "Balanced Accuracy: 0.8\n",
      "F1 Score: 0.53\n",
      "Profit: 147\n",
      "Wall time: 25.1 s\n"
     ]
    }
   ],
   "source": [
    "%%time\n",
    "scores_balanced_ds, ab_bal_best_est =classGridSearchCV('bal', ab, parameters, XtrainT, y_trainT, Xval, y_val, 'f1', scores_balanced_ds)"
   ]
  },
  {
   "cell_type": "code",
   "execution_count": 78,
   "metadata": {
    "colab": {
     "base_uri": "https://localhost:8080/",
     "height": 403
    },
    "executionInfo": {
     "elapsed": 8,
     "status": "ok",
     "timestamp": 1647151066188,
     "user": {
      "displayName": "Ronaldlee Ejalu",
      "photoUrl": "https://lh3.googleusercontent.com/a-/AOh14Gi7xk3uTqSDq_yyGWoSsAw9V5JdwoAvamCudleogw=s64",
      "userId": "12494313714788869985"
     },
     "user_tz": 300
    },
    "id": "2eZPj42YZa8x",
    "outputId": "a3e1c9f5-1a3e-4dfb-a12a-ba49e79792e0"
   },
   "outputs": [
    {
     "data": {
      "text/html": [
       "<div>\n",
       "<style scoped>\n",
       "    .dataframe tbody tr th:only-of-type {\n",
       "        vertical-align: middle;\n",
       "    }\n",
       "\n",
       "    .dataframe tbody tr th {\n",
       "        vertical-align: top;\n",
       "    }\n",
       "\n",
       "    .dataframe thead th {\n",
       "        text-align: right;\n",
       "    }\n",
       "</style>\n",
       "<table border=\"1\" class=\"dataframe\">\n",
       "  <thead>\n",
       "    <tr style=\"text-align: right;\">\n",
       "      <th></th>\n",
       "      <th>model</th>\n",
       "      <th>train acc.</th>\n",
       "      <th>val acc.</th>\n",
       "      <th>acc. diff.</th>\n",
       "      <th>recall</th>\n",
       "      <th>specificity</th>\n",
       "      <th>precision</th>\n",
       "      <th>bal acc.</th>\n",
       "      <th>F1</th>\n",
       "      <th>profit</th>\n",
       "    </tr>\n",
       "  </thead>\n",
       "  <tbody>\n",
       "    <tr>\n",
       "      <th>0</th>\n",
       "      <td>LogisticRegression(C=10, max_iter=10000, random_state=0)</td>\n",
       "      <td>0.81</td>\n",
       "      <td>0.66</td>\n",
       "      <td>0.15</td>\n",
       "      <td>0.96</td>\n",
       "      <td>0.61</td>\n",
       "      <td>0.30</td>\n",
       "      <td>0.78</td>\n",
       "      <td>0.46</td>\n",
       "      <td>174</td>\n",
       "    </tr>\n",
       "    <tr>\n",
       "      <th>1</th>\n",
       "      <td>SVC(C=1, gamma=1, random_state=0)</td>\n",
       "      <td>0.99</td>\n",
       "      <td>0.80</td>\n",
       "      <td>0.19</td>\n",
       "      <td>0.33</td>\n",
       "      <td>0.89</td>\n",
       "      <td>0.33</td>\n",
       "      <td>0.61</td>\n",
       "      <td>0.33</td>\n",
       "      <td>-303</td>\n",
       "    </tr>\n",
       "    <tr>\n",
       "      <th>2</th>\n",
       "      <td>KNeighborsClassifier(leaf_size=2, n_neighbors=1)</td>\n",
       "      <td>1.00</td>\n",
       "      <td>0.72</td>\n",
       "      <td>0.28</td>\n",
       "      <td>0.58</td>\n",
       "      <td>0.75</td>\n",
       "      <td>0.28</td>\n",
       "      <td>0.66</td>\n",
       "      <td>0.38</td>\n",
       "      <td>-143</td>\n",
       "    </tr>\n",
       "    <tr>\n",
       "      <th>3</th>\n",
       "      <td>DecisionTreeClassifier(max_depth=10, max_features=5, min_samples_leaf=5,\\n                       random_state=0)</td>\n",
       "      <td>0.90</td>\n",
       "      <td>0.74</td>\n",
       "      <td>0.16</td>\n",
       "      <td>0.75</td>\n",
       "      <td>0.74</td>\n",
       "      <td>0.32</td>\n",
       "      <td>0.74</td>\n",
       "      <td>0.45</td>\n",
       "      <td>43</td>\n",
       "    </tr>\n",
       "    <tr>\n",
       "      <th>4</th>\n",
       "      <td>RandomForestClassifier(bootstrap=False, max_depth=20, max_features=2,\\n                       n_estimators=150, random_state=0)</td>\n",
       "      <td>1.00</td>\n",
       "      <td>0.82</td>\n",
       "      <td>0.18</td>\n",
       "      <td>0.71</td>\n",
       "      <td>0.84</td>\n",
       "      <td>0.44</td>\n",
       "      <td>0.77</td>\n",
       "      <td>0.54</td>\n",
       "      <td>98</td>\n",
       "    </tr>\n",
       "    <tr>\n",
       "      <th>5</th>\n",
       "      <td>AdaBoostClassifier(n_estimators=200, random_state=0)</td>\n",
       "      <td>0.92</td>\n",
       "      <td>0.80</td>\n",
       "      <td>0.12</td>\n",
       "      <td>0.79</td>\n",
       "      <td>0.80</td>\n",
       "      <td>0.40</td>\n",
       "      <td>0.80</td>\n",
       "      <td>0.53</td>\n",
       "      <td>147</td>\n",
       "    </tr>\n",
       "  </tbody>\n",
       "</table>\n",
       "</div>"
      ],
      "text/plain": [
       "                                                                                                                             model  \\\n",
       "0                                                                         LogisticRegression(C=10, max_iter=10000, random_state=0)   \n",
       "1                                                                                                SVC(C=1, gamma=1, random_state=0)   \n",
       "2                                                                                 KNeighborsClassifier(leaf_size=2, n_neighbors=1)   \n",
       "3                 DecisionTreeClassifier(max_depth=10, max_features=5, min_samples_leaf=5,\\n                       random_state=0)   \n",
       "4  RandomForestClassifier(bootstrap=False, max_depth=20, max_features=2,\\n                       n_estimators=150, random_state=0)   \n",
       "5                                                                             AdaBoostClassifier(n_estimators=200, random_state=0)   \n",
       "\n",
       "   train acc.  val acc.  acc. diff.  recall  specificity  precision  bal acc.  \\\n",
       "0        0.81      0.66        0.15    0.96         0.61       0.30      0.78   \n",
       "1        0.99      0.80        0.19    0.33         0.89       0.33      0.61   \n",
       "2        1.00      0.72        0.28    0.58         0.75       0.28      0.66   \n",
       "3        0.90      0.74        0.16    0.75         0.74       0.32      0.74   \n",
       "4        1.00      0.82        0.18    0.71         0.84       0.44      0.77   \n",
       "5        0.92      0.80        0.12    0.79         0.80       0.40      0.80   \n",
       "\n",
       "     F1 profit  \n",
       "0  0.46    174  \n",
       "1  0.33   -303  \n",
       "2  0.38   -143  \n",
       "3  0.45     43  \n",
       "4  0.54     98  \n",
       "5  0.53    147  "
      ]
     },
     "execution_count": 78,
     "metadata": {},
     "output_type": "execute_result"
    }
   ],
   "source": [
    "scores_balanced_ds"
   ]
  },
  {
   "cell_type": "markdown",
   "metadata": {
    "id": "zC5785dMZgXx"
   },
   "source": [
    "### Gradient Boosting Classifier"
   ]
  },
  {
   "cell_type": "code",
   "execution_count": 79,
   "metadata": {
    "id": "UYksFAETZo7B"
   },
   "outputs": [],
   "source": [
    "parameters = dict(\n",
    "    learning_rate = [0.1,  0.5, 1.5],\n",
    "    n_estimators = [30,  200, 600],\n",
    "    max_depth = [2, 3, 6],\n",
    "    min_samples_split = [2,  10, 100],\n",
    "    subsample = [0.5, 1]\n",
    "    )"
   ]
  },
  {
   "cell_type": "code",
   "execution_count": 80,
   "metadata": {
    "id": "Wainu6MCZo7C"
   },
   "outputs": [],
   "source": [
    "gb = GradientBoostingClassifier(random_state=RANDOM_STATE)"
   ]
  },
  {
   "cell_type": "code",
   "execution_count": 81,
   "metadata": {
    "colab": {
     "base_uri": "https://localhost:8080/",
     "height": 893
    },
    "executionInfo": {
     "elapsed": 382675,
     "status": "ok",
     "timestamp": 1647151448858,
     "user": {
      "displayName": "Ronaldlee Ejalu",
      "photoUrl": "https://lh3.googleusercontent.com/a-/AOh14Gi7xk3uTqSDq_yyGWoSsAw9V5JdwoAvamCudleogw=s64",
      "userId": "12494313714788869985"
     },
     "user_tz": 300
    },
    "id": "stVY8MJAZo7C",
    "outputId": "5e0b275e-5c6a-4ce3-9613-a1963a65f1c3"
   },
   "outputs": [
    {
     "name": "stdout",
     "output_type": "stream",
     "text": [
      "BEST PARAMS: {'learning_rate': 0.5, 'max_depth': 6, 'min_samples_split': 10, 'n_estimators': 200, 'subsample': 1}\n",
      "\n",
      "\n",
      "\n",
      "The model's accuracy on training is : 1.0\n",
      "The model's accuracy on validation is : 0.82\n",
      "\n",
      "The Confusion Matrix is given below:\n"
     ]
    },
    {
     "data": {
      "image/png": "[encoded data removed]",
      "text/plain": [
       "<Figure size 432x288 with 2 Axes>"
      ]
     },
     "metadata": {
      "needs_background": "light"
     },
     "output_type": "display_data"
    },
    {
     "name": "stdout",
     "output_type": "stream",
     "text": [
      "Recall (Sensivity): 0.69\n",
      "Specificity: 0.84\n",
      "Precision: 0.42\n",
      "Balanced Accuracy: 0.76\n",
      "F1 Score: 0.52\n",
      "Profit: 73\n",
      "Wall time: 4min 37s\n"
     ]
    }
   ],
   "source": [
    "%%time\n",
    "scores_balanced_ds, gb_bal_best_est =classGridSearchCV('bal', gb, parameters, XtrainT, y_trainT, Xval, y_val, 'f1', scores_balanced_ds)"
   ]
  },
  {
   "cell_type": "code",
   "execution_count": 82,
   "metadata": {
    "colab": {
     "base_uri": "https://localhost:8080/",
     "height": 469
    },
    "executionInfo": {
     "elapsed": 23,
     "status": "ok",
     "timestamp": 1647151448859,
     "user": {
      "displayName": "Ronaldlee Ejalu",
      "photoUrl": "https://lh3.googleusercontent.com/a-/AOh14Gi7xk3uTqSDq_yyGWoSsAw9V5JdwoAvamCudleogw=s64",
      "userId": "12494313714788869985"
     },
     "user_tz": 300
    },
    "id": "zJ1m_3O3Zo7C",
    "outputId": "a865fdab-b5e1-49cb-d29b-d601b33e09ec"
   },
   "outputs": [
    {
     "data": {
      "text/html": [
       "<div>\n",
       "<style scoped>\n",
       "    .dataframe tbody tr th:only-of-type {\n",
       "        vertical-align: middle;\n",
       "    }\n",
       "\n",
       "    .dataframe tbody tr th {\n",
       "        vertical-align: top;\n",
       "    }\n",
       "\n",
       "    .dataframe thead th {\n",
       "        text-align: right;\n",
       "    }\n",
       "</style>\n",
       "<table border=\"1\" class=\"dataframe\">\n",
       "  <thead>\n",
       "    <tr style=\"text-align: right;\">\n",
       "      <th></th>\n",
       "      <th>model</th>\n",
       "      <th>train acc.</th>\n",
       "      <th>val acc.</th>\n",
       "      <th>acc. diff.</th>\n",
       "      <th>recall</th>\n",
       "      <th>specificity</th>\n",
       "      <th>precision</th>\n",
       "      <th>bal acc.</th>\n",
       "      <th>F1</th>\n",
       "      <th>profit</th>\n",
       "    </tr>\n",
       "  </thead>\n",
       "  <tbody>\n",
       "    <tr>\n",
       "      <th>0</th>\n",
       "      <td>LogisticRegression(C=10, max_iter=10000, random_state=0)</td>\n",
       "      <td>0.81</td>\n",
       "      <td>0.66</td>\n",
       "      <td>0.15</td>\n",
       "      <td>0.96</td>\n",
       "      <td>0.61</td>\n",
       "      <td>0.30</td>\n",
       "      <td>0.78</td>\n",
       "      <td>0.46</td>\n",
       "      <td>174</td>\n",
       "    </tr>\n",
       "    <tr>\n",
       "      <th>1</th>\n",
       "      <td>SVC(C=1, gamma=1, random_state=0)</td>\n",
       "      <td>0.99</td>\n",
       "      <td>0.80</td>\n",
       "      <td>0.19</td>\n",
       "      <td>0.33</td>\n",
       "      <td>0.89</td>\n",
       "      <td>0.33</td>\n",
       "      <td>0.61</td>\n",
       "      <td>0.33</td>\n",
       "      <td>-303</td>\n",
       "    </tr>\n",
       "    <tr>\n",
       "      <th>2</th>\n",
       "      <td>KNeighborsClassifier(leaf_size=2, n_neighbors=1)</td>\n",
       "      <td>1.00</td>\n",
       "      <td>0.72</td>\n",
       "      <td>0.28</td>\n",
       "      <td>0.58</td>\n",
       "      <td>0.75</td>\n",
       "      <td>0.28</td>\n",
       "      <td>0.66</td>\n",
       "      <td>0.38</td>\n",
       "      <td>-143</td>\n",
       "    </tr>\n",
       "    <tr>\n",
       "      <th>3</th>\n",
       "      <td>DecisionTreeClassifier(max_depth=10, max_features=5, min_samples_leaf=5,\\n                       random_state=0)</td>\n",
       "      <td>0.90</td>\n",
       "      <td>0.74</td>\n",
       "      <td>0.16</td>\n",
       "      <td>0.75</td>\n",
       "      <td>0.74</td>\n",
       "      <td>0.32</td>\n",
       "      <td>0.74</td>\n",
       "      <td>0.45</td>\n",
       "      <td>43</td>\n",
       "    </tr>\n",
       "    <tr>\n",
       "      <th>4</th>\n",
       "      <td>RandomForestClassifier(bootstrap=False, max_depth=20, max_features=2,\\n                       n_estimators=150, random_state=0)</td>\n",
       "      <td>1.00</td>\n",
       "      <td>0.82</td>\n",
       "      <td>0.18</td>\n",
       "      <td>0.71</td>\n",
       "      <td>0.84</td>\n",
       "      <td>0.44</td>\n",
       "      <td>0.77</td>\n",
       "      <td>0.54</td>\n",
       "      <td>98</td>\n",
       "    </tr>\n",
       "    <tr>\n",
       "      <th>5</th>\n",
       "      <td>AdaBoostClassifier(n_estimators=200, random_state=0)</td>\n",
       "      <td>0.92</td>\n",
       "      <td>0.80</td>\n",
       "      <td>0.12</td>\n",
       "      <td>0.79</td>\n",
       "      <td>0.80</td>\n",
       "      <td>0.40</td>\n",
       "      <td>0.80</td>\n",
       "      <td>0.53</td>\n",
       "      <td>147</td>\n",
       "    </tr>\n",
       "    <tr>\n",
       "      <th>6</th>\n",
       "      <td>GradientBoostingClassifier(learning_rate=0.5, max_depth=6, min_samples_split=10,\\n                           n_estimators=200, random_state=0, subsample=1)</td>\n",
       "      <td>1.00</td>\n",
       "      <td>0.82</td>\n",
       "      <td>0.18</td>\n",
       "      <td>0.69</td>\n",
       "      <td>0.84</td>\n",
       "      <td>0.42</td>\n",
       "      <td>0.76</td>\n",
       "      <td>0.52</td>\n",
       "      <td>73</td>\n",
       "    </tr>\n",
       "  </tbody>\n",
       "</table>\n",
       "</div>"
      ],
      "text/plain": [
       "                                                                                                                                                         model  \\\n",
       "0                                                                                                     LogisticRegression(C=10, max_iter=10000, random_state=0)   \n",
       "1                                                                                                                            SVC(C=1, gamma=1, random_state=0)   \n",
       "2                                                                                                             KNeighborsClassifier(leaf_size=2, n_neighbors=1)   \n",
       "3                                             DecisionTreeClassifier(max_depth=10, max_features=5, min_samples_leaf=5,\\n                       random_state=0)   \n",
       "4                              RandomForestClassifier(bootstrap=False, max_depth=20, max_features=2,\\n                       n_estimators=150, random_state=0)   \n",
       "5                                                                                                         AdaBoostClassifier(n_estimators=200, random_state=0)   \n",
       "6  GradientBoostingClassifier(learning_rate=0.5, max_depth=6, min_samples_split=10,\\n                           n_estimators=200, random_state=0, subsample=1)   \n",
       "\n",
       "   train acc.  val acc.  acc. diff.  recall  specificity  precision  bal acc.  \\\n",
       "0        0.81      0.66        0.15    0.96         0.61       0.30      0.78   \n",
       "1        0.99      0.80        0.19    0.33         0.89       0.33      0.61   \n",
       "2        1.00      0.72        0.28    0.58         0.75       0.28      0.66   \n",
       "3        0.90      0.74        0.16    0.75         0.74       0.32      0.74   \n",
       "4        1.00      0.82        0.18    0.71         0.84       0.44      0.77   \n",
       "5        0.92      0.80        0.12    0.79         0.80       0.40      0.80   \n",
       "6        1.00      0.82        0.18    0.69         0.84       0.42      0.76   \n",
       "\n",
       "     F1 profit  \n",
       "0  0.46    174  \n",
       "1  0.33   -303  \n",
       "2  0.38   -143  \n",
       "3  0.45     43  \n",
       "4  0.54     98  \n",
       "5  0.53    147  \n",
       "6  0.52     73  "
      ]
     },
     "execution_count": 82,
     "metadata": {},
     "output_type": "execute_result"
    }
   ],
   "source": [
    "scores_balanced_ds"
   ]
  },
  {
   "cell_type": "code",
   "execution_count": 83,
   "metadata": {
    "colab": {
     "base_uri": "https://localhost:8080/",
     "height": 758
    },
    "executionInfo": {
     "elapsed": 21,
     "status": "ok",
     "timestamp": 1647151448859,
     "user": {
      "displayName": "Ronaldlee Ejalu",
      "photoUrl": "https://lh3.googleusercontent.com/a-/AOh14Gi7xk3uTqSDq_yyGWoSsAw9V5JdwoAvamCudleogw=s64",
      "userId": "12494313714788869985"
     },
     "user_tz": 300
    },
    "id": "ptUo46PVZSQv",
    "outputId": "a1f4f870-5432-4b80-b7f5-518fd8adef0f"
   },
   "outputs": [
    {
     "data": {
      "text/html": [
       "<div>\n",
       "<style scoped>\n",
       "    .dataframe tbody tr th:only-of-type {\n",
       "        vertical-align: middle;\n",
       "    }\n",
       "\n",
       "    .dataframe tbody tr th {\n",
       "        vertical-align: top;\n",
       "    }\n",
       "\n",
       "    .dataframe thead th {\n",
       "        text-align: right;\n",
       "    }\n",
       "</style>\n",
       "<table border=\"1\" class=\"dataframe\">\n",
       "  <thead>\n",
       "    <tr style=\"text-align: right;\">\n",
       "      <th></th>\n",
       "      <th>model</th>\n",
       "      <th>train acc.</th>\n",
       "      <th>val acc.</th>\n",
       "      <th>acc. diff.</th>\n",
       "      <th>recall</th>\n",
       "      <th>specificity</th>\n",
       "      <th>precision</th>\n",
       "      <th>bal acc.</th>\n",
       "      <th>F1</th>\n",
       "      <th>profit</th>\n",
       "    </tr>\n",
       "  </thead>\n",
       "  <tbody>\n",
       "    <tr>\n",
       "      <th>0</th>\n",
       "      <td>LogisticRegression(C=0.5, class_weight='balanced', random_state=0)</td>\n",
       "      <td>0.79</td>\n",
       "      <td>0.79</td>\n",
       "      <td>0.00</td>\n",
       "      <td>0.73</td>\n",
       "      <td>0.80</td>\n",
       "      <td>0.38</td>\n",
       "      <td>0.76</td>\n",
       "      <td>0.50</td>\n",
       "      <td>81</td>\n",
       "    </tr>\n",
       "    <tr>\n",
       "      <th>1</th>\n",
       "      <td>SVC(C=100, class_weight='balanced', gamma=0.01, random_state=0)</td>\n",
       "      <td>0.85</td>\n",
       "      <td>0.80</td>\n",
       "      <td>0.05</td>\n",
       "      <td>0.75</td>\n",
       "      <td>0.80</td>\n",
       "      <td>0.39</td>\n",
       "      <td>0.78</td>\n",
       "      <td>0.51</td>\n",
       "      <td>106</td>\n",
       "    </tr>\n",
       "    <tr>\n",
       "      <th>2</th>\n",
       "      <td>KNeighborsClassifier(algorithm='ball_tree', leaf_size=5)</td>\n",
       "      <td>0.88</td>\n",
       "      <td>0.87</td>\n",
       "      <td>0.01</td>\n",
       "      <td>0.29</td>\n",
       "      <td>0.97</td>\n",
       "      <td>0.65</td>\n",
       "      <td>0.63</td>\n",
       "      <td>0.40</td>\n",
       "      <td>-266</td>\n",
       "    </tr>\n",
       "    <tr>\n",
       "      <th>3</th>\n",
       "      <td>DecisionTreeClassifier(class_weight='balanced', max_depth=10, max_features=18,\\n                       min_samples_leaf=10, min_samples_split=70,\\n                       random_state=0)</td>\n",
       "      <td>0.80</td>\n",
       "      <td>0.79</td>\n",
       "      <td>0.01</td>\n",
       "      <td>0.77</td>\n",
       "      <td>0.79</td>\n",
       "      <td>0.39</td>\n",
       "      <td>0.78</td>\n",
       "      <td>0.52</td>\n",
       "      <td>119</td>\n",
       "    </tr>\n",
       "    <tr>\n",
       "      <th>4</th>\n",
       "      <td>RandomForestClassifier(class_weight='balanced', max_depth=10, max_features=2,\\n                       min_samples_split=100, n_estimators=50, random_state=0)</td>\n",
       "      <td>0.81</td>\n",
       "      <td>0.82</td>\n",
       "      <td>-0.01</td>\n",
       "      <td>0.77</td>\n",
       "      <td>0.83</td>\n",
       "      <td>0.43</td>\n",
       "      <td>0.80</td>\n",
       "      <td>0.55</td>\n",
       "      <td>149</td>\n",
       "    </tr>\n",
       "    <tr>\n",
       "      <th>5</th>\n",
       "      <td>AdaBoostClassifier(learning_rate=0.5, random_state=0)</td>\n",
       "      <td>0.88</td>\n",
       "      <td>0.91</td>\n",
       "      <td>-0.03</td>\n",
       "      <td>0.44</td>\n",
       "      <td>0.99</td>\n",
       "      <td>0.85</td>\n",
       "      <td>0.72</td>\n",
       "      <td>0.58</td>\n",
       "      <td>-78</td>\n",
       "    </tr>\n",
       "    <tr>\n",
       "      <th>6</th>\n",
       "      <td>GradientBoostingClassifier(max_depth=5, min_samples_split=100, n_estimators=200,\\n                           random_state=0, subsample=0.5)</td>\n",
       "      <td>0.97</td>\n",
       "      <td>0.90</td>\n",
       "      <td>0.07</td>\n",
       "      <td>0.54</td>\n",
       "      <td>0.96</td>\n",
       "      <td>0.72</td>\n",
       "      <td>0.75</td>\n",
       "      <td>0.62</td>\n",
       "      <td>11</td>\n",
       "    </tr>\n",
       "  </tbody>\n",
       "</table>\n",
       "</div>"
      ],
      "text/plain": [
       "                                                                                                                                                                                       model  \\\n",
       "0                                                                                                                         LogisticRegression(C=0.5, class_weight='balanced', random_state=0)   \n",
       "1                                                                                                                            SVC(C=100, class_weight='balanced', gamma=0.01, random_state=0)   \n",
       "2                                                                                                                                   KNeighborsClassifier(algorithm='ball_tree', leaf_size=5)   \n",
       "3  DecisionTreeClassifier(class_weight='balanced', max_depth=10, max_features=18,\\n                       min_samples_leaf=10, min_samples_split=70,\\n                       random_state=0)   \n",
       "4                              RandomForestClassifier(class_weight='balanced', max_depth=10, max_features=2,\\n                       min_samples_split=100, n_estimators=50, random_state=0)   \n",
       "5                                                                                                                                      AdaBoostClassifier(learning_rate=0.5, random_state=0)   \n",
       "6                                                GradientBoostingClassifier(max_depth=5, min_samples_split=100, n_estimators=200,\\n                           random_state=0, subsample=0.5)   \n",
       "\n",
       "   train acc.  val acc.  acc. diff.  recall  specificity  precision  bal acc.  \\\n",
       "0        0.79      0.79        0.00    0.73         0.80       0.38      0.76   \n",
       "1        0.85      0.80        0.05    0.75         0.80       0.39      0.78   \n",
       "2        0.88      0.87        0.01    0.29         0.97       0.65      0.63   \n",
       "3        0.80      0.79        0.01    0.77         0.79       0.39      0.78   \n",
       "4        0.81      0.82       -0.01    0.77         0.83       0.43      0.80   \n",
       "5        0.88      0.91       -0.03    0.44         0.99       0.85      0.72   \n",
       "6        0.97      0.90        0.07    0.54         0.96       0.72      0.75   \n",
       "\n",
       "     F1 profit  \n",
       "0  0.50     81  \n",
       "1  0.51    106  \n",
       "2  0.40   -266  \n",
       "3  0.52    119  \n",
       "4  0.55    149  \n",
       "5  0.58    -78  \n",
       "6  0.62     11  "
      ]
     },
     "execution_count": 83,
     "metadata": {},
     "output_type": "execute_result"
    }
   ],
   "source": [
    "scores"
   ]
  },
  {
   "cell_type": "markdown",
   "metadata": {
    "id": "AX8n1p4-gkVE"
   },
   "source": [
    "The tuned Logistic Regression produced the highest profit of 174 using the SMOTE oversampled and random undersampled dataset, significantly improving performance over the Logistic Regression Model that was tuned using the original standardized dataset. The AdaBoost Classifier produced the next highest profit of 147 using the balanced dataset, which was also a significant improvement compared to the model tuned using the original standardized dataset. The Random Forest Classifier produced the third highest profit score of 98, which was a decrease compared to its score of 149 using the original standardized dataset."
   ]
  },
  {
   "cell_type": "markdown",
   "metadata": {
    "id": "SFMs5qx6Td3u"
   },
   "source": [
    "# Evaluation of two best models on Test Data"
   ]
  },
  {
   "cell_type": "markdown",
   "metadata": {
    "id": "s9meOhskF_um"
   },
   "source": [
    "## Predict the accuracy on the testing data set using the best models:"
   ]
  },
  {
   "cell_type": "code",
   "execution_count": 84,
   "metadata": {
    "id": "p9F0ElFeK9D8"
   },
   "outputs": [],
   "source": [
    "# Initilalize a list of best two classifiers tested on the testing data set.\n",
    "best_two_classifiers_on_Test=[]"
   ]
  },
  {
   "cell_type": "markdown",
   "metadata": {
    "id": "r0qkIR1jNsAy"
   },
   "source": [
    "\n",
    "\n",
    "*   First, using logistic Regression model derived using the under-sampled, over-sampled data set through the use of the SMOTE package:\n",
    "\n"
   ]
  },
  {
   "cell_type": "code",
   "execution_count": 85,
   "metadata": {
    "id": "xuubgGnXARO1"
   },
   "outputs": [],
   "source": [
    "# Predict the accuracy on the testing data set\n",
    "y_pred_test = lr_bal_best_est.predict(Xtest)"
   ]
  },
  {
   "cell_type": "code",
   "execution_count": 86,
   "metadata": {
    "colab": {
     "base_uri": "https://localhost:8080/",
     "height": 734
    },
    "executionInfo": {
     "elapsed": 969,
     "status": "ok",
     "timestamp": 1647221387521,
     "user": {
      "displayName": "Ronaldlee Ejalu",
      "photoUrl": "https://lh3.googleusercontent.com/a-/AOh14Gi7xk3uTqSDq_yyGWoSsAw9V5JdwoAvamCudleogw=s64",
      "userId": "12494313714788869985"
     },
     "user_tz": 240
    },
    "id": "_66d4WUyJUpy",
    "outputId": "3dbf2da8-dfe6-4cfd-bec5-f81071d647a4"
   },
   "outputs": [
    {
     "name": "stdout",
     "output_type": "stream",
     "text": [
      "\n",
      "The Confusion Matrix is given below:\n"
     ]
    },
    {
     "data": {
      "image/png": "[encoded data removed]",
      "text/plain": [
       "<Figure size 432x288 with 2 Axes>"
      ]
     },
     "metadata": {
      "needs_background": "light"
     },
     "output_type": "display_data"
    },
    {
     "name": "stdout",
     "output_type": "stream",
     "text": [
      "Recall (Sensivity): 0.8\n",
      "Specificity: 0.64\n",
      "Precision: 0.24\n",
      "Balanced Accuracy: 0.72\n",
      "F1 Score: 0.37\n",
      "Profit: -43\n"
     ]
    }
   ],
   "source": [
    "# A helper function that returns the metrics on the testing data set, prints a confusion matrix and also returns back a list of all the metrics. \n",
    "best_two_classifiers_on_Test.append(deriveMetricsOnTest(lr_bal_best_est, y_pred_test))"
   ]
  },
  {
   "cell_type": "markdown",
   "metadata": {
    "id": "cXIItEClN26n"
   },
   "source": [
    "\n",
    "\n",
    "*   Second, using a Random Forest Classifier optimized with GridSearchCV:\n",
    "\n"
   ]
  },
  {
   "cell_type": "code",
   "execution_count": 87,
   "metadata": {
    "id": "tC4qQZg0NlPO"
   },
   "outputs": [],
   "source": [
    "# predict the accuracy on the testing data set\n",
    "y_pred_test = rf_best_est.predict(Xtest)"
   ]
  },
  {
   "cell_type": "code",
   "execution_count": 88,
   "metadata": {
    "colab": {
     "base_uri": "https://localhost:8080/",
     "height": 734
    },
    "executionInfo": {
     "elapsed": 1341,
     "status": "ok",
     "timestamp": 1647221388853,
     "user": {
      "displayName": "Ronaldlee Ejalu",
      "photoUrl": "https://lh3.googleusercontent.com/a-/AOh14Gi7xk3uTqSDq_yyGWoSsAw9V5JdwoAvamCudleogw=s64",
      "userId": "12494313714788869985"
     },
     "user_tz": 240
    },
    "id": "M_bQ8L8GSO0T",
    "outputId": "50bea5fe-eb52-4c6f-d450-f6b03d4716b5"
   },
   "outputs": [
    {
     "name": "stdout",
     "output_type": "stream",
     "text": [
      "\n",
      "The Confusion Matrix is given below:\n"
     ]
    },
    {
     "data": {
      "image/png": "[encoded data removed]",
      "text/plain": [
       "<Figure size 432x288 with 2 Axes>"
      ]
     },
     "metadata": {
      "needs_background": "light"
     },
     "output_type": "display_data"
    },
    {
     "name": "stdout",
     "output_type": "stream",
     "text": [
      "Recall (Sensivity): 0.68\n",
      "Specificity: 0.83\n",
      "Precision: 0.36\n",
      "Balanced Accuracy: 0.76\n",
      "F1 Score: 0.47\n",
      "Profit: 16\n"
     ]
    }
   ],
   "source": [
    "# A helper function that returns the metrics on the testing data set, prints a confusion matrix and also returns back a list of all the metrics. \n",
    "best_two_classifiers_on_Test.append(deriveMetricsOnTest(rf_best_est, y_pred_test))"
   ]
  },
  {
   "cell_type": "code",
   "execution_count": 90,
   "metadata": {
    "colab": {
     "base_uri": "https://localhost:8080/",
     "height": 173
    },
    "executionInfo": {
     "elapsed": 58,
     "status": "ok",
     "timestamp": 1647221388855,
     "user": {
      "displayName": "Ronaldlee Ejalu",
      "photoUrl": "https://lh3.googleusercontent.com/a-/AOh14Gi7xk3uTqSDq_yyGWoSsAw9V5JdwoAvamCudleogw=s64",
      "userId": "12494313714788869985"
     },
     "user_tz": 240
    },
    "id": "7KJvL2dBSkUS",
    "outputId": "16b5ed13-18b5-4cf3-e996-9bad16d0d2a7"
   },
   "outputs": [
    {
     "data": {
      "text/html": [
       "<div>\n",
       "<style scoped>\n",
       "    .dataframe tbody tr th:only-of-type {\n",
       "        vertical-align: middle;\n",
       "    }\n",
       "\n",
       "    .dataframe tbody tr th {\n",
       "        vertical-align: top;\n",
       "    }\n",
       "\n",
       "    .dataframe thead th {\n",
       "        text-align: right;\n",
       "    }\n",
       "</style>\n",
       "<table border=\"1\" class=\"dataframe\">\n",
       "  <thead>\n",
       "    <tr style=\"text-align: right;\">\n",
       "      <th></th>\n",
       "      <th>Model</th>\n",
       "      <th>AccuracyOnTest</th>\n",
       "      <th>RecallOnTest</th>\n",
       "      <th>SpecificityOnTest</th>\n",
       "      <th>PrecisionOnTest</th>\n",
       "      <th>BalancedAccuracyOnTest</th>\n",
       "      <th>F1ScoreOnTest</th>\n",
       "      <th>Profit</th>\n",
       "    </tr>\n",
       "  </thead>\n",
       "  <tbody>\n",
       "    <tr>\n",
       "      <th>0</th>\n",
       "      <td>LogisticRegression(C=10, max_iter=10000, random_state=0)</td>\n",
       "      <td>0.66</td>\n",
       "      <td>0.80</td>\n",
       "      <td>0.64</td>\n",
       "      <td>0.24</td>\n",
       "      <td>0.72</td>\n",
       "      <td>0.37</td>\n",
       "      <td>-43</td>\n",
       "    </tr>\n",
       "    <tr>\n",
       "      <th>1</th>\n",
       "      <td>RandomForestClassifier(class_weight='balanced', max_depth=10, max_features=2,\\n                       min_samples_split=100, n_estimators=50, random_state=0)</td>\n",
       "      <td>0.81</td>\n",
       "      <td>0.68</td>\n",
       "      <td>0.83</td>\n",
       "      <td>0.36</td>\n",
       "      <td>0.76</td>\n",
       "      <td>0.47</td>\n",
       "      <td>16</td>\n",
       "    </tr>\n",
       "  </tbody>\n",
       "</table>\n",
       "</div>"
      ],
      "text/plain": [
       "                                                                                                                                                           Model  \\\n",
       "0                                                                                                       LogisticRegression(C=10, max_iter=10000, random_state=0)   \n",
       "1  RandomForestClassifier(class_weight='balanced', max_depth=10, max_features=2,\\n                       min_samples_split=100, n_estimators=50, random_state=0)   \n",
       "\n",
       "   AccuracyOnTest  RecallOnTest  SpecificityOnTest  PrecisionOnTest  \\\n",
       "0            0.66          0.80               0.64             0.24   \n",
       "1            0.81          0.68               0.83             0.36   \n",
       "\n",
       "   BalancedAccuracyOnTest  F1ScoreOnTest  Profit  \n",
       "0                    0.72           0.37     -43  \n",
       "1                    0.76           0.47      16  "
      ]
     },
     "execution_count": 90,
     "metadata": {},
     "output_type": "execute_result"
    }
   ],
   "source": [
    "# Derive a data frame\n",
    "df_classifiers_test = pd.DataFrame(data=best_two_classifiers_on_Test, columns=['Model', 'AccuracyOnTest', 'RecallOnTest', 'SpecificityOnTest', 'PrecisionOnTest', 'BalancedAccuracyOnTest', 'F1ScoreOnTest','Profit'])\n",
    "df_classifiers_test # displaying the contents of the data frame\n"
   ]
  },
  {
   "cell_type": "markdown",
   "metadata": {},
   "source": [
    "The Random Forest Classifier produced the higher profit score of 16 on the test data, compared to a profit score of -43 on the Logistic Regression Classifier. The performance of both classifiers on the test set was much lower compared to their performance on the training and validation data."
   ]
  },
  {
   "cell_type": "markdown",
   "metadata": {},
   "source": [
    "# Examination of Variable Importance"
   ]
  },
  {
   "cell_type": "markdown",
   "metadata": {},
   "source": [
    "Examined variable importance using the random forest best estimator feature importance attribute. The most important features identified are number of previously accepted campaigns, recency, and amount spent."
   ]
  },
  {
   "cell_type": "code",
   "execution_count": 91,
   "metadata": {},
   "outputs": [
    {
     "data": {
      "image/png": "[encoded data removed]",
      "text/plain": [
       "<Figure size 1440x720 with 1 Axes>"
      ]
     },
     "metadata": {
      "needs_background": "light"
     },
     "output_type": "display_data"
    }
   ],
   "source": [
    "model_type = 'rf' \n",
    "model_dict = {'rf':rf_best_est.feature_importances_}\n",
    "importances = model_dict[model_type]\n",
    "indices = list(np.argsort(importances)) \n",
    "feature_names=Xtrain.columns\n",
    "names = [ feature_names[i] for i in indices]\n",
    "\n",
    "fig,ax = plt.subplots(nrows=1,ncols=1,figsize=[20,10])\n",
    "ax.barh(names, importances[indices], color = 'blue', align ='center',alpha=0.8)\n",
    "\n",
    "xticklabel_rotation = 0\n",
    "plt.xticks(rotation=xticklabel_rotation,fontsize=12)\n",
    "\n",
    "plt.yticks(fontsize=10)\n",
    "ax.grid(color='b', ls = '-.', lw = 0.25)\n",
    "\n",
    "# Title\n",
    "ax.set_title(\"Feature Importance: Random Forest Classifier\",fontsize=14)\n",
    "\n",
    "# Show plot\n",
    "plt.show()"
   ]
  },
  {
   "cell_type": "markdown",
   "metadata": {
    "id": "IpgrGFORkQ6E"
   },
   "source": [
    "## Conclusion"
   ]
  },
  {
   "cell_type": "markdown",
   "metadata": {
    "id": "IrvJ4H6Zrhjx"
   },
   "source": [
    "The Random Forest Classifier performed better on the test data compared to the Logistic Regression, producing a profit of 16 dollars, compared to -43 dollars for the Logistic Regression classifier. Although the Logistic Regression classifier had a higher recall score, the Random Forest Classifier also had a higher test accuracy, specificity, precision, balanced accuracy and F1 score.  Futhermore, analysis of variable importance indicates companies may want to target customers who previously accepted campaigns, spend more, and were more recently contacted."
   ]
  },
  {
   "cell_type": "code",
   "execution_count": null,
   "metadata": {},
   "outputs": [],
   "source": []
  }
 ],
 "metadata": {
  "colab": {
   "authorship_tag": "ABX9TyPzd06DfjiZ6424OLyEWzwO",
   "collapsed_sections": [],
   "name": "marketing_campaign_model_building.ipynb",
   "provenance": []
  },
  "kernelspec": {
   "display_name": "Python 3 (ipykernel)",
   "language": "python",
   "name": "python3"
  },
  "language_info": {
   "codemirror_mode": {
    "name": "ipython",
    "version": 3
   },
   "file_extension": ".py",
   "mimetype": "text/x-python",
   "name": "python",
   "nbconvert_exporter": "python",
   "pygments_lexer": "ipython3",
   "version": "3.8.5"
  }
 },
 "nbformat": 4,
 "nbformat_minor": 1
}
